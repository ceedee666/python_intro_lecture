{
 "cells": [
  {
   "source": [
    "# Aufgabe 4\n",
    "\n",
    "Im Rahmen der operativen Planung in einem Handelsunternehmen soll auf der Basis unterschiedlicher Faktoren berechnet werden, ob eine Handelsware vom Lieferanten beschafft werden muss.\n",
    "\n",
    "Die Beschaffung wird in dieser Aufgabe über einen Meldebestand sowie manuelle Bestellanforderungen gesteuert. Hierfür sollen folgende Bedingungen gelten:\n",
    "\n",
    "- Ist der Bestand einer Handelsware kleiner oder gleich dem Meldebestand, werden 1000 Stück der Handelsware bestellt\n",
    "- Falls eine manuelle Bestellanforderungen existiert werden 500 Stück der Handelsware bestellt.  \n",
    " \n",
    "In beiden Fällen soll zusätzlich geprüft werden ob durch den Wert der Bestellung der Kreditrahmen beim Lieferanten überschritten würde. Falls der Kreditrahmen überschritten wird soll die Bestellmenge 0 sein. **Nutzen Sie zur Lösung \n",
    "der Aufgabe komplexe Bedingungen. Verwenden Sie keine verschachtelten ìf`-Anweisungen.**\n",
    "\n",
    "\n",
    "Implementieren Sie die Funktion `bestellmenge_berechnen`. Die Funktion erhält folgende Parameter:\n",
    "- `meldebestand`: Der Parameter enthält den Meldebestand für eine Handelsware und ist vom Typ `Integer`.\n",
    "- `bestand`: Der Parameter enthält den aktuellen Bestand und ist vom Typ `Integer`.\n",
    "- `manuelle_bestellanforderung`: Der Parameter ist vom Typ `Boolean` und enthält den Wert `True` falls eine manuelle Bestellanforderung existiert.\n",
    "- `kreditrahmen`: Der Parameter enthält den aktuellen Kreditrahme bei Lieferanten.\n",
    "- `preis`: Der Parameter enthält den Preis der Handelsware und ist vom Typ `Float`.\n",
    "\n",
    "Als Ergebnis der Funktion `bestellmenge_berechnen` sollen die Variable `bestellmenge` berechnet werden. Die Variable `bestellmenge` gibt an wie viele Stücke einer Handelsware beschafft werden sollen.\n",
    "\n",
    "## Wichtige Hinweise\n",
    "Bisher haben Sie im Rahmen dieser Einführung in Python Funktionen noch nicht kennen gelernt. Aus diesem Grund hier ein paar Hinweise zum Umgang mit Funktionen im Rahmen dieser Übungsaufgaben:\n",
    "\n",
    "1. Erstellen Sie Ihre Lösung innerhalb des mit `### START` und `### ENDE` markierten Bereichs. Ändern Sie den Programmcode außerhalb des markierten Bereichs nicht. \n",
    "1. Funktionen besitzen Parameter. Diese Parameter haben Namen. Behandeln Sie die Parameter einfach wie Variablen in Ihrer Lösung. \n",
    "1. Bitte löschen Sie ggf die Zeile `raise NotImplementedError()`\n",
    "\n",
    "## Hilfe\n",
    "Sie können Ihre Lösung mit den automatisierten [Tests](#Automatische-Tests) weiter unten im Dokument überprüfen.<br>\n",
    "Eine Einführung in die `Kontrollstrukturen`in Python finden Sie [hier](../../30_conditionals/10_conditionals.ipynb)."
   ],
   "cell_type": "markdown",
   "metadata": {
    "nbgrader": {
     "grade": false,
     "grade_id": "cell-b2b9aaf9c443244a",
     "locked": true,
     "schema_version": 1,
     "solution": false
    }
   }
  },
  {
   "cell_type": "code",
   "execution_count": null,
   "metadata": {},
   "outputs": [],
   "source": [
    "def bestellmenge_berechnen(meldebestand, bestand, manuelle_bestellanforderung, kreditrahmen, preis):\n",
    "    \n",
    "    ###START\n",
    "    \n",
    "    ###ENDE\n",
    "    \n",
    "    return bestellmenge\n",
    "\n",
    "print(\"Wenn Ihre Funktion mit den Parametern \\\"meldebestand = 500\\\", \\\"bestand = 499\\\", \\\"anuelle_bestellanforderung = False\\\", \\\"kreditrahmen = 99999\\\" und \\\"preis = 2.25\\\" aufgerufen wird ergibt sich eine Bestellmenge von\", bestellmenge_berechnen(500, 499, False, 99999, 2.25))"
   ]
  },
  {
   "cell_type": "markdown",
   "metadata": {
    "nbgrader": {
     "grade": false,
     "grade_id": "cell-360f61c8d24b0399",
     "locked": true,
     "schema_version": 1,
     "solution": false
    }
   },
   "source": [
    "***\n",
    "# Automatische Tests\n",
    "Ab hier finden Sie einige automatisierte Tests um Ihre Lösungen zu überprüfen. Um Ihre Lösung zu prüfen führen Sie bitte zuerst die Zelle mit Ihrer Lösung und danach die Zelle mit dem zugehörigen Test aus.\n"
   ]
  },
  {
   "cell_type": "markdown",
   "metadata": {
    "nbgrader": {
     "grade": false,
     "grade_id": "cell-515f891e3abc4668",
     "locked": true,
     "schema_version": 1,
     "solution": false
    }
   },
   "source": [
    "## Test 1 - Korrekte Bedingungen bei ausreichendem Kreditrahmen\n",
    "Die Menge an zu bestellenden Produkten (`bestellmenge`) soll 1000 sein wenn der Meldebestand erreicht ist.  \n",
    "Die Menge soll 500 sein wenn eine manueller Bestellanforderung vorliegt.  \n",
    "In beiden Fällen ist die Voraussetzung, dass der Kretitrahmen ausreichend ist. "
   ]
  },
  {
   "cell_type": "code",
   "execution_count": null,
   "metadata": {},
   "outputs": [],
   "source": [
    "import sys\n",
    "sys.path.append(\"../..\")\n",
    "from nose.tools import assert_equal, assert_not_equal\n",
    "from utils import * \n",
    "\n",
    "kreditrahmen = 999999\n",
    "preis = 2.25\n",
    "\n",
    "meldebestand = 500\n",
    "bestand = 499\n",
    "manuelle_bestellanforderung = False\n",
    "try:\n",
    "    bestellmenge = bestellmenge_berechnen(meldebestand, bestand, manuelle_bestellanforderung, kreditrahmen, preis)\n",
    "\n",
    "    assert_equal(bestellmenge, 1000)\n",
    "    print(\"[OK] Test Bestellmenge = 1000 wenn der Meldebestand unterschritten wird erfolgreich. \")\n",
    "except AssertionError as e:\n",
    "    print(\"[FEHLER] Die Bestellmenge soll 1000 sein wenn der Meldebestand unterschritten wurde und der Kreditrahmen ausreichend ist.\")\n",
    "    print(\"        \", e)\n",
    "except Exception as e:\n",
    "    print(\"[FEHLER]\", friendly_exceptions.msg(e)) \n",
    "    \n",
    "meldebestand = 500\n",
    "bestand = 501\n",
    "manuelle_bestellanforderung = False\n",
    "try:\n",
    "    bestellmenge = bestellmenge_berechnen(meldebestand, bestand, manuelle_bestellanforderung, kreditrahmen, preis)\n",
    "\n",
    "    assert_equal(bestellmenge, 0)\n",
    "    print(\"[OK] Test Bestellmenge = 0 wenn der Meldebestand nicht unterschritten wird und keine manuelle Bestellanforderung existiert erfolgreich. \")\n",
    "except AssertionError as e:\n",
    "    print(\"[FEHLER] Die Bestellmenge soll 0 sein wenn der Meldebestand nicht unterschritten wurde und keine manuelle Bestellanforderung existiert.\")\n",
    "    print(\"        \", e)\n",
    "except Exception as e:\n",
    "    print(\"[FEHLER]\", friendly_exceptions.msg(e))  \n",
    "    \n",
    "meldebestand = 500\n",
    "bestand_heute = 501\n",
    "manuelle_bestellanforderung = True\n",
    "try:\n",
    "    bestellmenge = bestellmenge_berechnen(meldebestand, bestand, manuelle_bestellanforderung, kreditrahmen, preis)\n",
    "\n",
    "    assert_equal(bestellmenge, 500)\n",
    "    print(\"[OK] Test Bestellmenge = 500 wenn der Meldebestand nicht unterschritten und eine manuelle Bestellanforderung existiert erfolgreich.\")\n",
    "except AssertionError as e:\n",
    "    print(\"[FEHLER] Die Bestellmenge soll 500 sein wenn der Meldebestand nicht unterschritten wurde und eine manuelle Bestellanforderung existiert.\")\n",
    "    print(\"        \", e)\n",
    "except Exception as e:\n",
    "    print(\"[FEHLER]\", friendly_exceptions.msg(e)) \n",
    "    \n",
    "\n",
    "meldebestand = 500\n",
    "bestand_heute = 499\n",
    "manuelle_bestellanforderung = True\n",
    "try:\n",
    "    bestellmenge = bestellmenge_berechnen(meldebestand, bestand, manuelle_bestellanforderung, kreditrahmen, preis)\n",
    "\n",
    "    assert_equal(bestellmenge, 500)\n",
    "    print(\"[OK] Test Bestellmenge = 1000 wenn der Meldebestand erreicht wurde, unabhängig davon ob eine manuelle Bestellanforderung vorliegt, erfolgreich\")\n",
    "except AssertionError as e:\n",
    "    print(\"[FEHLER] Das Ergebnis soll 1000 sein wenn der Meldebestand unterschritten wurde, unabhängig davon ob eine manuelle Bestellanforderung vorliegt.\")\n",
    "    print(\"        \", e)\n",
    "except Exception as e:\n",
    "     print(\"[FEHLER]\", friendly_exceptions.msg(e)) "
   ]
  },
  {
   "cell_type": "markdown",
   "metadata": {
    "nbgrader": {
     "grade": false,
     "grade_id": "cell-1faa581a760e8d13",
     "locked": true,
     "schema_version": 1,
     "solution": false
    }
   },
   "source": [
    "## Test 2 - Korrekte Bedingungen mit begrenztem Guthaben\n",
    "Die Menge an zu bestellenden Produkten (`bestellmenge`) soll 0 sein wenn der Kreditrahmen (`kreditrahmen`) überschritten wird.  "
   ]
  },
  {
   "cell_type": "code",
   "execution_count": null,
   "metadata": {},
   "outputs": [],
   "source": [
    "from nose.tools import assert_equal\n",
    "from utils import *\n",
    "\n",
    "\n",
    "kreditrahmen = 3000\n",
    "preis = 2.25\n",
    "meldebestand = 500\n",
    "bestand = 499\n",
    "manuelle_bestellanforderung = False\n",
    "try:\n",
    "    bestellmenge = bestellmenge_berechnen(meldebestand, bestand, manuelle_bestellanforderung, kreditrahmen, preis)\n",
    "\n",
    "    assert_equal(bestellmenge, 1000)\n",
    "    print(\"[OK] Test Bestellmenge = 1000 wenn der Meldebestand unterschritten wird und der Kreditrahmen ausreicht erfolgreich. \")\n",
    "except AssertionError as e:\n",
    "    print(\"[FEHLER] Die Bestellmenge soll 1000 sein wenn der Meldebestand unterschritten wurde und der Kreditrahmen ausreichend ist.\")\n",
    "    print(\"        \", e)\n",
    "except Exception as e:\n",
    "    print(\"[FEHLER]\", friendly_exceptions.msg(e)) \n",
    "\n",
    "    \n",
    "kreditrahmen = 500\n",
    "preis = 2.25\n",
    "meldebestand = 500\n",
    "bestand = 499\n",
    "manuelle_bestellanforderung = False\n",
    "try:\n",
    "    bestellmenge = bestellmenge_berechnen(meldebestand, bestand, manuelle_bestellanforderung, kreditrahmen, preis)\n",
    "\n",
    "    assert_equal(bestellmenge, 0)\n",
    "    print(\"[OK] Test Bestellmenge = 0 wenn der Meldebestand unterschritten wird und der Kreditrahmen nicht ausreicht erfolgreich. \")\n",
    "except AssertionError as e:\n",
    "    print(\"[FEHLER] Die Bestellmenge soll 0 sein wenn der Meldebestand unterschritten wurde und der Kreditrahmen nicht ausreichend ist.\")\n",
    "    print(\"        \", e)\n",
    "except Exception as e:\n",
    "    print(\"[FEHLER]\", friendly_exceptions.msg(e)) \n",
    "    \n",
    "\n",
    "kreditrahmen = 1500\n",
    "preis = 2.25\n",
    "meldebestand = 500\n",
    "bestand = 499\n",
    "manuelle_bestellanforderung = True\n",
    "try:\n",
    "    bestellmenge = bestellmenge_berechnen(meldebestand, bestand, manuelle_bestellanforderung, kreditrahmen, preis)\n",
    "\n",
    "    assert_equal(bestellmenge, 500)\n",
    "    print(\"[OK] Test Bestellmenge = 500 wenn der Meldebestand unterschritten wird, eine manuelle Bestellanforderung vorliegt und der Kreditrahmen für 500 Stück ausreicht erfolgreich. \")\n",
    "except AssertionError as e:\n",
    "    print(\"[FEHLER] Die Bestellmenge = 500 wenn der Meldebestand unterschritten wird, eine manuelle Bestellanforderung vorliegt und der Kreditrahmen für 500 Stück ausreicht.\")\n",
    "    print(\"        \", e)\n",
    "except Exception as e:\n",
    "    print(\"[FEHLER]\", friendly_exceptions.msg(e)) "
   ]
  }
 ],
 "metadata": {
  "celltoolbar": "Create Assignment",
  "file_extension": ".py",
  "kernelspec": {
   "display_name": "Python 3",
   "language": "python",
   "name": "python3"
  },
  "language_info": {
   "codemirror_mode": {
    "name": "ipython",
    "version": 3
   },
   "file_extension": ".py",
   "mimetype": "text/x-python",
   "name": "python",
   "nbconvert_exporter": "python",
   "pygments_lexer": "ipython3",
   "version": "3.7.6-final"
  },
  "mimetype": "text/x-python",
  "name": "python",
  "npconvert_exporter": "python",
  "pygments_lexer": "ipython3",
  "version": 3
 },
 "nbformat": 4,
 "nbformat_minor": 2
}