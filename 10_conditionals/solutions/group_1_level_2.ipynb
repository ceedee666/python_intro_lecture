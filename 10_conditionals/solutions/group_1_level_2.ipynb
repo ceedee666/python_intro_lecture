{
 "cells": [
  {
   "cell_type": "markdown",
   "metadata": {},
   "source": [
    "# Aufgabe 2\n",
    "\n",
    "Im Rahmen der operativen Planung in einem Handelsunternehmen soll auf der Basis unterschiedlicher\n",
    "Faktoren wie z.B. dem Absatz und dem Lagerbestand berechnet werden, ob eine Handelsware vom\n",
    "Lieferanten beschafft werden muss. \n",
    "\n",
    "Die Beschaffung wird nun über einen Meldebestand gesteuert. Hierfür sollen folgende \n",
    "Bedingungen gelten: \n",
    "\n",
    "- Ist der Bestand einer Handelsware kleiner oder gleich einem Meldebestand, so soll 200 Stück der Handelsware bestellt werden.\n",
    "- Ist der Bestand einer Handelsware größer als der Meldebestand so wollen Sie nichts nachbestellen. \n",
    "\n",
    "Implementieren Sie die Funktion `bestellmenge_berechnen`. Die Funktion erhält drei Parameter:\n",
    "\n",
    "- `absatz_vortag`: Der Parameter ist vom Typ Integer und enthält die Absatzmenge des Vortags in Stück. \n",
    "- `bestand_vortag`: Der Parameter ist vom Typ Integer und enthält den Bestand der Handelsware am Vortag. \n",
    "- `meldebestand`: Der Paramter enthält den Meldebestand für eine Handelsware\n",
    "\n",
    "Aus den beiden Parametern `absatz_vortag` und `bestand_vortag` können Sie sich den aktuellen Lagerbestand berechnen.\n",
    "\n",
    "Als Ergebnis der Funktion `bestellmenge_berechnen` sollen die Variable `bestellmenge` und `meldung` berechnet werden. Die Variable `bestellmenge` gibt an wie viele Stücke einer Handelsware beschafft werden sollen. Soll die Handelsware aufgrund der oben genannten Bedingungen aktuell nicht beschafft werden, soll die `bestellmenge` auf den Wert `0` gesetzt werden. Zusätzlich soll in diesem Fall die Variable `meldung` auf den Wert \"keine Nachbestellung\" gesetzt werden. \n",
    "\n",
    "## Wichtige Hinweise\n",
    "Bisher haben Sie im Rahmen dieser Einführung in Python Funktionen noch nicht kennen gelernt. Aus diesem Grund hier ein paar Hinweise zum Umgang mit Funktionen im Rahmen dieser Übungsaufgaben:\n",
    "\n",
    "1. Erstellen Sie Ihre Lösung innerhalb des mit `### START` und `### ENDE` markierten Bereichs. Ändern Sie den Programmcode außerhalb des markierten Bereichs nicht. \n",
    "1. Funktionen besitzen Parameter. Diese Parameter haben Namen. Behandel Sie die Parameter einfach wie Variablen in Ihrer Lösung. \n",
    "1. Bitte löschen Sie ggf die Zeile `raise NotImplementedError()`\n",
    "\n",
    "## Hilfe\n",
    "Sie können Ihre Lösung mit den automatisierten [Tests](#Automatische-Tests) weiter unten im Dokument überprüfen.<br>\n",
    "Eine Einführung in die `Kontrollstrukturen`in Python finden Sie [hier](../../30_conditionals/10_conditionals.ipynb)."
   ]
  },
  {
   "cell_type": "code",
   "execution_count": 2,
   "metadata": {},
   "outputs": [
    {
     "name": "stdout",
     "output_type": "stream",
     "text": "Der Aufruf der Funktion mit den Parametern \"meldebestand = 1000\", \"bestand_vortag = 1000\", \"absatz_vortag = 150\" ergit eine eine \"bestellmenge\" von 200\n"
    }
   ],
   "source": [
    "def bestellmenge_berechnen(meldebestand, bestand_vortag, absatz_vortag):\n",
    "    \n",
    "    ### START\n",
    "    bestellmenge = 0\n",
    "    meldung = \"\"\n",
    "\n",
    "    aktueller_bestand = bestand_vortag - absatz_vortag\n",
    "    if aktueller_bestand <= meldebestand:\n",
    "        bestellmenge = 200\n",
    "    else:\n",
    "        meldung =\"keine Nachbestellung\"\n",
    "    ### ENDE\n",
    "    return bestellmenge, meldung\n",
    "\n",
    "print(\"Der Aufruf der Funktion mit den Parametern \\\"meldebestand = 1000\\\", \\\"bestand_vortag = 1000\\\", \\\"absatz_vortag = 150\\\" ergit eine eine \\\"bestellmenge\\\" von\", bestellmenge_berechnen(1000, 1000, 150)[0])"
   ]
  },
  {
   "cell_type": "markdown",
   "metadata": {
    "nbgrader": {
     "grade": false,
     "grade_id": "cell-b8b0f1bb4b399044",
     "locked": true,
     "schema_version": 1,
     "solution": false
    }
   },
   "source": [
    "***\n",
    "# Automatische Tests\n",
    "Ab hier finden Sie einige automatisierte Tests um Ihre Lösungen zu überprüfen. Um Ihre Lösung zu prüfen führen Sie bitte zuerst die Zelle mit Ihrer Lösung und danach die Zelle mit dem zugehörigen Test aus.\n"
   ]
  },
  {
   "cell_type": "markdown",
   "metadata": {
    "nbgrader": {
     "grade": false,
     "grade_id": "cell-5c2e45ddf46944c2",
     "locked": true,
     "schema_version": 1,
     "solution": false
    }
   },
   "source": [
    "## Test 1 - Korrekte Bedingung\n",
    "Die berechnete Bestellmenge (`bestellmenge`) soll entweder 200 oder 0 sein. Je nachdem ob der Meldebestand unterschritten wurde oder nicht."
   ]
  },
  {
   "cell_type": "code",
   "execution_count": 5,
   "metadata": {},
   "outputs": [
    {
     "name": "stdout",
     "output_type": "stream",
     "text": "Test Bestellmenge = 200 wenn der Meldebestand unterschritten wird. \nTest Bestellmenge = 0 und Meldung \"keine Nachbestellung\" wenn der Meldebestand nicht unterschritten wird. \n"
    }
   ],
   "source": [
    "import sys\n",
    "sys.path.append(\"../..\")\n",
    "from nose.tools import assert_equal, assert_not_equal\n",
    "from utils import * \n",
    "\n",
    "meldebestand = 1000\n",
    "absatz_vortag = 1000\n",
    "bestand_vortag = 1500\n",
    "bestellmenge,_ = bestellmenge_berechnen(meldebestand, bestand_vortag, absatz_vortag)\n",
    "try:\n",
    "    assert_equal(bestellmenge, 200)\n",
    "    print(\"[OK] Test Bestellmenge = 200 wenn der Meldebestand unterschritten wird. \")\n",
    "except AssertionError as e:\n",
    "    print(\"[FEHLER] Wenn der Meldebestand unterschritten wird soll die Bestellmenge = 200 sein.\")\n",
    "    print(\"       \", e)\n",
    "except Exception as e:\n",
    "    print(\"[FEHLER]\", friendly_exceptions.msg(e)) \n",
    "    \n",
    "    \n",
    "meldebestand = 1000\n",
    "absatz_vortag = 200\n",
    "bestand_vortag = 1500\n",
    "bestellmenge,meldung = bestellmenge_berechnen(meldebestand, bestand_vortag, absatz_vortag)\n",
    "try: \n",
    "    assert_equal(bestellmenge, 0)\n",
    "    assert_equal(meldung.lower(), \"keine nachbestellung\")\n",
    "    print(\"[OK] Test Bestellmenge = 0 und Meldung \\\"keine Nachbestellung\\\" wenn der Meldebestand nicht unterschritten wird. \")\n",
    "except AssertionError as e:\n",
    "    print(\"[FEHLER] Wenn der Meldebestand nicht unterschritten wird soll die Bestellmenge = 0 sein und die Meldung auf den Wert \\\"keine Nachbestellung\\\" gesetzt werden.\")\n",
    "    print(\"       \", e)\n",
    "except Exception as e:\n",
    "    print(\"[FEHLER]\", friendly_exceptions.msg(e)) \n",
    "    "
   ]
  }
 ],
 "metadata": {
  "celltoolbar": "Create Assignment",
  "file_extension": ".py",
  "kernelspec": {
   "display_name": "Python 3",
   "language": "python",
   "name": "python3"
  },
  "language_info": {
   "codemirror_mode": {
    "name": "ipython",
    "version": 3
   },
   "file_extension": ".py",
   "mimetype": "text/x-python",
   "name": "python",
   "nbconvert_exporter": "python",
   "pygments_lexer": "ipython3",
   "version": "3.7.6-final"
  },
  "mimetype": "text/x-python",
  "name": "python",
  "npconvert_exporter": "python",
  "pygments_lexer": "ipython3",
  "version": 3
 },
 "nbformat": 4,
 "nbformat_minor": 2
}