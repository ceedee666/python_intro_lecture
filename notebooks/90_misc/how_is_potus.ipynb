{
 "cells": [
  {
   "cell_type": "markdown",
   "metadata": {},
   "source": [
    "# Wie geht es POTUS?\n",
    "Nach Bekanntgabe seiner Coronavirusinfektion ist der Geschundheitszustand des amerkanischen Präsidenten Doanld Trump Gegenstand wilder Spekulationen. Wir werden versuchen seinen körperlichen (😉) Gesundheitszustand anhand der Anzahl seiner Tweets zu analysieren. \n",
    "\n",
    "Hierzu lese wir zuerst die aktuellsten Tweets, die von dem Twitter-Account @realDonaldTrump gesendet wurden. "
   ]
  },
  {
   "cell_type": "code",
   "execution_count": 1,
   "metadata": {},
   "outputs": [],
   "source": [
    "import requests\n",
    "from requests_oauthlib import OAuth1\n",
    "\n",
    "API_KEY = '9OdY1QujoKPS6FreBpeh9OOJp'\n",
    "API_SECRET = 'Zj8gX7lrbm5dWZLuonDeGfSpPTiyC3cDaaZ4AcPUV6XfuY140W'\n",
    "ACCESS_TOKEN = '1215246349417009154-R9M9kJGKEao0gy6A97SlctU4tWQ6zD'\n",
    "ACCESS_TOKEN_SECRET = 'L4B65dBZ9JHOR6q1GUVRJI0elUJWXGUYmHnRS4CVp27nR'\n",
    "\n",
    "auth = OAuth1(API_KEY, API_SECRET, ACCESS_TOKEN, ACCESS_TOKEN_SECRET)\n",
    "\n",
    "twitter_name = \"realDonaldTrump\"\n",
    "\n",
    "r = requests.get(f'https://api.twitter.com/1.1/statuses/user_timeline.json?screen_name={twitter_name}', auth=auth)\n",
    "tweets = r.json()"
   ]
  },
  {
   "cell_type": "markdown",
   "metadata": {},
   "source": [
    "Nachdem wir jetzt eine Liste von Tweets im JSON-Format haben, können wir anfangen, einfache Analysen durchzuführen. Schauen wir uns zuerst an, welche Daten in einem Tweet im JSON-Format enthalten sind."
   ]
  },
  {
   "cell_type": "code",
   "execution_count": 2,
   "metadata": {
    "tags": []
   },
   "outputs": [
    {
     "name": "stdout",
     "output_type": "stream",
     "text": [
      "{'contributors': None,\n",
      " 'coordinates': None,\n",
      " 'created_at': 'Mon Oct 05 18:37:21 +0000 2020',\n",
      " 'entities': {'hashtags': [],\n",
      "              'symbols': [],\n",
      "              'urls': [{'display_url': 'twitter.com/i/web/status/1…',\n",
      "                        'expanded_url': 'https://twitter.com/i/web/status/1313186529058136070',\n",
      "                        'indices': [117, 140],\n",
      "                        'url': 'https://t.co/fFk0atUvqI'}],\n",
      "              'user_mentions': []},\n",
      " 'favorite_count': 260224,\n",
      " 'favorited': False,\n",
      " 'geo': None,\n",
      " 'id': 1313186529058136070,\n",
      " 'id_str': '1313186529058136070',\n",
      " 'in_reply_to_screen_name': None,\n",
      " 'in_reply_to_status_id': None,\n",
      " 'in_reply_to_status_id_str': None,\n",
      " 'in_reply_to_user_id': None,\n",
      " 'in_reply_to_user_id_str': None,\n",
      " 'is_quote_status': False,\n",
      " 'lang': 'en',\n",
      " 'place': None,\n",
      " 'retweet_count': 67721,\n",
      " 'retweeted': False,\n",
      " 'source': '<a href=\"http://twitter.com/download/iphone\" '\n",
      "           'rel=\"nofollow\">Twitter for iPhone</a>',\n",
      " 'text': 'I will be leaving the great Walter Reed Medical Center today at 6:30 '\n",
      "         'P.M. Feeling really good! Don’t be afraid of C… '\n",
      "         'https://t.co/fFk0atUvqI',\n",
      " 'truncated': True,\n",
      " 'user': {'contributors_enabled': False,\n",
      "          'created_at': 'Wed Mar 18 13:46:38 +0000 2009',\n",
      "          'default_profile': False,\n",
      "          'default_profile_image': False,\n",
      "          'description': '45th President of the United States of America🇺🇸',\n",
      "          'entities': {'description': {'urls': []},\n",
      "                       'url': {'urls': [{'display_url': 'Instagram.com/realDonaldTrump',\n",
      "                                         'expanded_url': 'http://www.Instagram.com/realDonaldTrump',\n",
      "                                         'indices': [0, 23],\n",
      "                                         'url': 'https://t.co/OMxB0x7xC5'}]}},\n",
      "          'favourites_count': 5,\n",
      "          'follow_request_sent': False,\n",
      "          'followers_count': 87003885,\n",
      "          'following': False,\n",
      "          'friends_count': 50,\n",
      "          'geo_enabled': True,\n",
      "          'has_extended_profile': False,\n",
      "          'id': 25073877,\n",
      "          'id_str': '25073877',\n",
      "          'is_translation_enabled': True,\n",
      "          'is_translator': False,\n",
      "          'lang': None,\n",
      "          'listed_count': 120824,\n",
      "          'location': 'Washington, DC',\n",
      "          'name': 'Donald J. Trump',\n",
      "          'notifications': False,\n",
      "          'profile_background_color': '6D5C18',\n",
      "          'profile_background_image_url': 'http://abs.twimg.com/images/themes/theme1/bg.png',\n",
      "          'profile_background_image_url_https': 'https://abs.twimg.com/images/themes/theme1/bg.png',\n",
      "          'profile_background_tile': True,\n",
      "          'profile_banner_url': 'https://pbs.twimg.com/profile_banners/25073877/1600830803',\n",
      "          'profile_image_url': 'http://pbs.twimg.com/profile_images/874276197357596672/kUuht00m_normal.jpg',\n",
      "          'profile_image_url_https': 'https://pbs.twimg.com/profile_images/874276197357596672/kUuht00m_normal.jpg',\n",
      "          'profile_link_color': '1B95E0',\n",
      "          'profile_sidebar_border_color': 'BDDCAD',\n",
      "          'profile_sidebar_fill_color': 'C5CEC0',\n",
      "          'profile_text_color': '333333',\n",
      "          'profile_use_background_image': True,\n",
      "          'protected': False,\n",
      "          'screen_name': 'realDonaldTrump',\n",
      "          'statuses_count': 56651,\n",
      "          'time_zone': None,\n",
      "          'translator_type': 'regular',\n",
      "          'url': 'https://t.co/OMxB0x7xC5',\n",
      "          'utc_offset': None,\n",
      "          'verified': True}}\n"
     ]
    }
   ],
   "source": [
    "import pprint\n",
    "\n",
    "most_recent_tweet = tweets[0]\n",
    "pprint.pprint(most_recent_tweet)"
   ]
  },
  {
   "cell_type": "markdown",
   "metadata": {},
   "source": [
    "Das ist leider etwas unübersichtlich. Lassen wir uns erst mal nur folgende Daten anzeigen:\n",
    "- Text des Tweets\n",
    "- Wann der Tweet gesendet wurde\n",
    "- Von welchem Endgerät \n",
    "- Wie häufig der Tweet geliked oder retweeted wurde"
   ]
  },
  {
   "cell_type": "code",
   "execution_count": 3,
   "metadata": {
    "tags": []
   },
   "outputs": [
    {
     "name": "stdout",
     "output_type": "stream",
     "text": [
      "Tweet-Text:        I will be leaving the great Walter Reed Medical Center today at 6:30 P.M. Feeling really good! Don’t be afraid of C… https://t.co/fFk0atUvqI\n",
      "Datum und Uhrzeit: Mon Oct 05 18:37:21 +0000 2020\n",
      "Endgerät:          <a href=\"http://twitter.com/download/iphone\" rel=\"nofollow\">Twitter for iPhone</a>\n",
      "Retweets:          67721\n"
     ]
    }
   ],
   "source": [
    "print(f'Tweet-Text:        {most_recent_tweet[\"text\"]}')\n",
    "print(f'Datum und Uhrzeit: {most_recent_tweet[\"created_at\"]}')\n",
    "print(f'Endgerät:          {most_recent_tweet[\"source\"]}')\n",
    "print(f'Retweets:          {most_recent_tweet[\"retweet_count\"]}')"
   ]
  },
  {
   "cell_type": "markdown",
   "metadata": {},
   "source": [
    "Wenn wir das für einen Tweet machen können, geht das natürlich auch für eine Liste. So sieht das Ergebnis fürf die letzten 20 Tweets aus. "
   ]
  },
  {
   "cell_type": "code",
   "execution_count": 4,
   "metadata": {
    "tags": []
   },
   "outputs": [
    {
     "name": "stdout",
     "output_type": "stream",
     "text": [
      "Tweet-Text:        I will be leaving the great Walter Reed Medical Center today at 6:30 P.M. Feeling really good! Don’t be afraid of C… https://t.co/fFk0atUvqI\n",
      "Datum und Uhrzeit: Mon Oct 05 18:37:21 +0000 2020\n",
      "Endgerät:          <a href=\"http://twitter.com/download/iphone\" rel=\"nofollow\">Twitter for iPhone</a>\n",
      "Retweets:          67721\n",
      "\n",
      "Tweet-Text:        It is reported that the Media is upset because I got into a secure vehicle to say thank you to the many fans and su… https://t.co/vVn7X4eqqj\n",
      "Datum und Uhrzeit: Mon Oct 05 18:26:30 +0000 2020\n",
      "Endgerät:          <a href=\"http://twitter.com/download/iphone\" rel=\"nofollow\">Twitter for iPhone</a>\n",
      "Retweets:          26304\n",
      "\n",
      "Tweet-Text:        Exclusive Excerpt--Lewandowski &amp; Bossie: ‘Trump: America First: The President Succeeds Against All Odds’… https://t.co/afXOj5zYEW\n",
      "Datum und Uhrzeit: Mon Oct 05 16:21:56 +0000 2020\n",
      "Endgerät:          <a href=\"http://twitter.com/download/iphone\" rel=\"nofollow\">Twitter for iPhone</a>\n",
      "Retweets:          12395\n",
      "\n",
      "Tweet-Text:        Volunteer to be a Trump Election Poll Watcher. Sign up today! #MakeAmericaGreatAgain\n",
      "https://t.co/3AnrRV7uSz\n",
      "Datum und Uhrzeit: Mon Oct 05 15:17:47 +0000 2020\n",
      "Endgerät:          <a href=\"http://twitter.com/download/iphone\" rel=\"nofollow\">Twitter for iPhone</a>\n",
      "Retweets:          17952\n",
      "\n",
      "Tweet-Text:        TODAY is the LAST day to register to VOTE in ARIZONA, FLORIDA, GEORGIA, OHIO, AND TEXAS! Click below for more infor… https://t.co/cycQvxdcyB\n",
      "Datum und Uhrzeit: Mon Oct 05 12:08:17 +0000 2020\n",
      "Endgerät:          <a href=\"http://twitter.com/download/iphone\" rel=\"nofollow\">Twitter for iPhone</a>\n",
      "Retweets:          26154\n",
      "\n",
      "Tweet-Text:        PEACE THROUGH STRENGTH (BRING OUR SOLDIERS HOME). VOTE!\n",
      "Datum und Uhrzeit: Mon Oct 05 11:14:48 +0000 2020\n",
      "Endgerät:          <a href=\"http://twitter.com/download/iphone\" rel=\"nofollow\">Twitter for iPhone</a>\n",
      "Retweets:          39076\n",
      "\n",
      "Tweet-Text:        SAVE OUR SECOND AMENDMENT. VOTE!\n",
      "Datum und Uhrzeit: Mon Oct 05 11:12:53 +0000 2020\n",
      "Endgerät:          <a href=\"http://twitter.com/download/iphone\" rel=\"nofollow\">Twitter for iPhone</a>\n",
      "Retweets:          45295\n",
      "\n",
      "Tweet-Text:        FIGHT THE CORRUPT FAKE NEWS MEDIA. VOTE!\n",
      "Datum und Uhrzeit: Mon Oct 05 11:10:26 +0000 2020\n",
      "Endgerät:          <a href=\"http://twitter.com/download/iphone\" rel=\"nofollow\">Twitter for iPhone</a>\n",
      "Retweets:          55081\n",
      "\n",
      "Tweet-Text:        PROTECT PREEXISTING CONDITIONS. VOTE!\n",
      "Datum und Uhrzeit: Mon Oct 05 11:08:34 +0000 2020\n",
      "Endgerät:          <a href=\"http://twitter.com/download/iphone\" rel=\"nofollow\">Twitter for iPhone</a>\n",
      "Retweets:          37205\n",
      "\n",
      "Tweet-Text:        BETTER &amp; CHEAPER HEALTHCARE. VOTE!\n",
      "Datum und Uhrzeit: Mon Oct 05 11:07:04 +0000 2020\n",
      "Endgerät:          <a href=\"http://twitter.com/download/iphone\" rel=\"nofollow\">Twitter for iPhone</a>\n",
      "Retweets:          34273\n",
      "\n",
      "Tweet-Text:        PRO LIFE! VOTE!\n",
      "Datum und Uhrzeit: Mon Oct 05 11:05:18 +0000 2020\n",
      "Endgerät:          <a href=\"http://twitter.com/download/iphone\" rel=\"nofollow\">Twitter for iPhone</a>\n",
      "Retweets:          58233\n",
      "\n",
      "Tweet-Text:        MASSIVE REGULATION CUTS. VOTE!\n",
      "Datum und Uhrzeit: Mon Oct 05 11:04:00 +0000 2020\n",
      "Endgerät:          <a href=\"http://twitter.com/download/iphone\" rel=\"nofollow\">Twitter for iPhone</a>\n",
      "Retweets:          30697\n",
      "\n",
      "Tweet-Text:        SPACE FORCE. VOTE!\n",
      "Datum und Uhrzeit: Mon Oct 05 11:02:03 +0000 2020\n",
      "Endgerät:          <a href=\"http://twitter.com/download/iphone\" rel=\"nofollow\">Twitter for iPhone</a>\n",
      "Retweets:          41169\n",
      "\n",
      "Tweet-Text:        BEST V.A. EVER. 91% APPROVAL RATING. VOTE!\n",
      "Datum und Uhrzeit: Mon Oct 05 11:00:58 +0000 2020\n",
      "Endgerät:          <a href=\"http://twitter.com/download/iphone\" rel=\"nofollow\">Twitter for iPhone</a>\n",
      "Retweets:          29830\n",
      "\n",
      "Tweet-Text:        401(K). VOTE!\n",
      "Datum und Uhrzeit: Mon Oct 05 10:57:40 +0000 2020\n",
      "Endgerät:          <a href=\"http://twitter.com/download/iphone\" rel=\"nofollow\">Twitter for iPhone</a>\n",
      "Retweets:          31661\n",
      "\n",
      "Tweet-Text:        BIGGEST TAX CUT EVER, AND ANOTHER ONE COMING. VOTE!\n",
      "Datum und Uhrzeit: Mon Oct 05 10:54:07 +0000 2020\n",
      "Endgerät:          <a href=\"http://twitter.com/download/iphone\" rel=\"nofollow\">Twitter for iPhone</a>\n",
      "Retweets:          36365\n",
      "\n",
      "Tweet-Text:        RELIGIOUS LIBERTY. VOTE!\n",
      "Datum und Uhrzeit: Mon Oct 05 10:51:46 +0000 2020\n",
      "Endgerät:          <a href=\"http://twitter.com/download/iphone\" rel=\"nofollow\">Twitter for iPhone</a>\n",
      "Retweets:          37523\n",
      "\n",
      "Tweet-Text:        LAW &amp; ORDER. VOTE!\n",
      "Datum und Uhrzeit: Mon Oct 05 10:50:40 +0000 2020\n",
      "Endgerät:          <a href=\"http://twitter.com/download/iphone\" rel=\"nofollow\">Twitter for iPhone</a>\n",
      "Retweets:          36944\n",
      "\n",
      "Tweet-Text:        STRONGEST EVER MILITARY. VOTE!\n",
      "Datum und Uhrzeit: Mon Oct 05 10:49:08 +0000 2020\n",
      "Endgerät:          <a href=\"http://twitter.com/download/iphone\" rel=\"nofollow\">Twitter for iPhone</a>\n",
      "Retweets:          36093\n",
      "\n",
      "Tweet-Text:        STOCK MARKET HIGHS. VOTE!\n",
      "Datum und Uhrzeit: Mon Oct 05 10:47:44 +0000 2020\n",
      "Endgerät:          <a href=\"http://twitter.com/download/iphone\" rel=\"nofollow\">Twitter for iPhone</a>\n",
      "Retweets:          36286\n",
      "\n"
     ]
    }
   ],
   "source": [
    "def print_tweet(tweet):\n",
    "    print(f'Tweet-Text:        {tweet[\"text\"]}')\n",
    "    print(f'Datum und Uhrzeit: {tweet[\"created_at\"]}')\n",
    "    print(f'Endgerät:          {tweet[\"source\"]}')\n",
    "    print(f'Retweets:          {tweet[\"retweet_count\"]}')\n",
    "    print()\n",
    "\n",
    "for i in range(20):\n",
    "    print_tweet(tweets[i])"
   ]
  },
  {
   "cell_type": "markdown",
   "metadata": {},
   "source": [
    "Als nächstes kombinieren wir alles, was wir bisher gelernt haben, um die 200 aktuellsten Tweets von Donald Trump zu bekommen."
   ]
  },
  {
   "cell_type": "code",
   "execution_count": 5,
   "metadata": {
    "tags": []
   },
   "outputs": [
    {
     "name": "stdout",
     "output_type": "stream",
     "text": [
      "Recent Tweets size: 0\n",
      "Recent Tweets size: 1\n",
      "Recent Tweets size: 1\n",
      "Recent Tweets size: 1\n",
      "Recent Tweets size: 1\n",
      "Recent Tweets size: 21\n",
      "Recent Tweets size: 21\n",
      "Recent Tweets size: 21\n",
      "Recent Tweets size: 21\n",
      "Recent Tweets size: 21\n",
      "Recent Tweets size: 21\n",
      "Recent Tweets size: 21\n",
      "Recent Tweets size: 21\n",
      "Recent Tweets size: 21\n",
      "Recent Tweets size: 41\n",
      "Recent Tweets size: 61\n",
      "Recent Tweets size: 61\n",
      "Recent Tweets size: 81\n",
      "Recent Tweets size: 81\n",
      "Recent Tweets size: 81\n",
      "Recent Tweets size: 81\n",
      "Recent Tweets size: 101\n",
      "Recent Tweets size: 121\n",
      "Recent Tweets size: 141\n",
      "Recent Tweets size: 161\n",
      "Recent Tweets size: 161\n",
      "Recent Tweets size: 161\n",
      "Recent Tweets size: 161\n",
      "Recent Tweets size: 161\n",
      "Recent Tweets size: 161\n",
      "Recent Tweets size: 161\n",
      "Recent Tweets size: 161\n",
      "Recent Tweets size: 161\n",
      "Recent Tweets size: 181\n",
      "Recent Tweets size: 181\n",
      "Recent Tweets size: 181\n",
      "Recent Tweets size: 201\n",
      "Recent Tweets size: 201\n",
      "Recent Tweets size: 201\n",
      "Recent Tweets size: 201\n",
      "Recent Tweets size: 221\n",
      "Recent Tweets size: 221\n",
      "Recent Tweets size: 221\n",
      "Recent Tweets size: 221\n",
      "Recent Tweets size: 221\n",
      "Recent Tweets size: 241\n",
      "Recent Tweets size: 241\n",
      "Recent Tweets size: 241\n",
      "Recent Tweets size: 261\n",
      "Recent Tweets size: 281\n",
      "Recent Tweets size: 301\n",
      "Recent Tweets size: 321\n",
      "Recent Tweets size: 321\n",
      "Recent Tweets size: 321\n",
      "Recent Tweets size: 321\n",
      "Recent Tweets size: 321\n",
      "Recent Tweets size: 321\n",
      "Recent Tweets size: 321\n",
      "Recent Tweets size: 321\n",
      "Recent Tweets size: 321\n",
      "Recent Tweets size: 321\n",
      "Recent Tweets size: 341\n",
      "Recent Tweets size: 341\n",
      "Recent Tweets size: 341\n",
      "Recent Tweets size: 361\n",
      "Recent Tweets size: 361\n",
      "Recent Tweets size: 381\n",
      "Recent Tweets size: 401\n",
      "Recent Tweets size: 401\n",
      "Recent Tweets size: 421\n",
      "Recent Tweets size: 441\n",
      "Recent Tweets size: 461\n",
      "Recent Tweets size: 481\n"
     ]
    }
   ],
   "source": [
    "import requests\n",
    "import pprint\n",
    "from requests_oauthlib import OAuth1\n",
    "\n",
    "from functools import reduce\n",
    "\n",
    "def authenticate():\n",
    "    API_KEY = '9OdY1QujoKPS6FreBpeh9OOJp'\n",
    "    API_SECRET = 'Zj8gX7lrbm5dWZLuonDeGfSpPTiyC3cDaaZ4AcPUV6XfuY140W'\n",
    "    ACCESS_TOKEN = '1215246349417009154-R9M9kJGKEao0gy6A97SlctU4tWQ6zD'\n",
    "    ACCESS_TOKEN_SECRET = 'L4B65dBZ9JHOR6q1GUVRJI0elUJWXGUYmHnRS4CVp27nR'\n",
    "\n",
    "    return OAuth1(API_KEY, API_SECRET, ACCESS_TOKEN, ACCESS_TOKEN_SECRET)\n",
    "\n",
    "\n",
    "def filter_tweets(tweets):\n",
    "    return list(filter(lambda t: (t[\"is_quote_status\"] == False) and (\"retweeted_status\" not in t), tweets))\n",
    "\n",
    "\n",
    "def read_tweets(twitter_name=\"realDonaldTrump\", filter_retweets=True, max_id = 0):\n",
    "    auth = authenticate()\n",
    "\n",
    "    if max_id == 0:\n",
    "        r = requests.get(f'https://api.twitter.com/1.1/statuses/user_timeline.json?screen_name={twitter_name}&trim_user=t', auth=auth)\n",
    "    else:\n",
    "        r = requests.get(f'https://api.twitter.com/1.1/statuses/user_timeline.json?screen_name={twitter_name}&max_id={max_id}&trim_user=t', auth=auth)\n",
    "\n",
    "    tweets = r.json()\n",
    "    if filter_retweets:\n",
    "        tweets = filter_tweets(tweets)\n",
    "\n",
    "    return tweets\n",
    "\n",
    "def min_tweet_id(tweets):\n",
    "    return reduce(lambda id, t: t['id'] if t['id'] < id else id, tweets, tweets[0]['id'])\n",
    "\n",
    "def read_n_recent_trump_tweets(n = 200, filter_retweets=True):\n",
    "    recent_tweets = []\n",
    "    max_id = 0\n",
    "    while len(recent_tweets) < n:\n",
    "        print(\"Recent Tweets size:\" , len(recent_tweets))\n",
    "        if len(recent_tweets) > 0:\n",
    "            max_id = min_tweet_id(recent_tweets) - 1\n",
    "\n",
    "        tweets = read_tweets(filter_retweets = filter_retweets, max_id = max_id)\n",
    "        recent_tweets += (tweets)\n",
    "\n",
    "    return recent_tweets[0:n]\n",
    "\n",
    "recent_tweets = read_n_recent_trump_tweets(500, False)\n"
   ]
  },
  {
   "cell_type": "markdown",
   "metadata": {},
   "source": [
    "Nachdem wir jetzt 200 Tweets haben, können wir mit der Auswertung beginnen. Schauen wir uns zuerst einmal an. An welchen Tagen Donald Trump wie viele Tweets abgesetzt hat.\n",
    "\n",
    "Hierzu benötigen wir eine Hilfsfunktion, die uns aus dem Zeitstempel des Tweets das Datum extrahiert."
   ]
  },
  {
   "cell_type": "code",
   "execution_count": 6,
   "metadata": {
    "tags": []
   },
   "outputs": [
    {
     "data": {
      "text/plain": [
       "'2020-10-04'"
      ]
     },
     "execution_count": 6,
     "metadata": {},
     "output_type": "execute_result"
    }
   ],
   "source": [
    "from datetime import datetime\n",
    "\n",
    "def convert_tweet_date(created_at):\n",
    "    return datetime.strptime(created_at,'%a %b %d %H:%M:%S +0000 %Y').date().isoformat()\n",
    "\n",
    "convert_tweet_date(\"Sun Oct 04 21:16:39 +0000 2020\")"
   ]
  },
  {
   "cell_type": "code",
   "execution_count": 7,
   "metadata": {
    "tags": []
   },
   "outputs": [
    {
     "name": "stdout",
     "output_type": "stream",
     "text": [
      "{'2020-09-22': 42,\n",
      " '2020-09-23': 48,\n",
      " '2020-09-24': 23,\n",
      " '2020-09-25': 84,\n",
      " '2020-09-26': 11,\n",
      " '2020-09-27': 46,\n",
      " '2020-09-28': 16,\n",
      " '2020-09-29': 36,\n",
      " '2020-09-30': 95,\n",
      " '2020-10-01': 60,\n",
      " '2020-10-02': 3,\n",
      " '2020-10-03': 4,\n",
      " '2020-10-04': 9,\n",
      " '2020-10-05': 23}\n"
     ]
    }
   ],
   "source": [
    "from collections import Counter\n",
    "\n",
    "for t in recent_tweets:\n",
    "    t['date'] = convert_tweet_date(t['created_at'])\n",
    "\n",
    "tweet_dates = [t['date'] for t in recent_tweets]\n",
    "tweet_counter = dict(Counter(tweet_dates))\n",
    "pprint.pprint(tweet_counter)\n"
   ]
  },
  {
   "cell_type": "code",
   "execution_count": 8,
   "metadata": {},
   "outputs": [
    {
     "data": {
      "image/png": "[encoded data removed]",
      "text/plain": [
       "<Figure size 432x288 with 1 Axes>"
      ]
     },
     "metadata": {
      "needs_background": "light"
     },
     "output_type": "display_data"
    }
   ],
   "source": [
    "%matplotlib inline\n",
    "\n",
    "import matplotlib\n",
    "import matplotlib.pyplot as plt\n",
    "\n",
    "def sort_dates_ascending(tweet_counter):\n",
    "    dates_ascending = sorted(tweet_counter.keys())\n",
    "    tweet_count_ascending = [tweet_counter[d] for d in dates_ascending]   \n",
    "    return dates_ascending, tweet_count_ascending\n",
    "\n",
    "dates, count = sort_dates_ascending(tweet_counter)\n",
    "\n",
    "plt.bar(dates,count)\n",
    "lines = plt.plot(dates, count)\n",
    "plt.setp(lines, color='r')\n",
    "\n",
    "\n",
    "plt.xlabel='Datum' \n",
    "plt.ylabel='# Tweets'\n",
    "plt.title='Wie geht es POTUS'\n",
    "plt.xticks(rotation=90)\n",
    "\n",
    "plt.grid()\n",
    "\n",
    "plt.show()"
   ]
  },
  {
   "cell_type": "markdown",
   "metadata": {},
   "source": [
    "Es scheint ja wieder aufwärts zu gehen am 5.10.2020. Schauen wir uns das mal im Detail an."
   ]
  },
  {
   "cell_type": "code",
   "execution_count": 9,
   "metadata": {},
   "outputs": [
    {
     "name": "stdout",
     "output_type": "stream",
     "text": [
      "Mon Oct 05 18:37:21 +0000 2020\n",
      "Mon Oct 05 18:26:30 +0000 2020\n",
      "Mon Oct 05 16:21:56 +0000 2020\n",
      "Mon Oct 05 15:17:47 +0000 2020\n",
      "Mon Oct 05 12:08:17 +0000 2020\n",
      "Mon Oct 05 11:14:48 +0000 2020\n",
      "Mon Oct 05 11:12:53 +0000 2020\n",
      "Mon Oct 05 11:10:26 +0000 2020\n",
      "Mon Oct 05 11:08:34 +0000 2020\n",
      "Mon Oct 05 11:07:04 +0000 2020\n",
      "Mon Oct 05 11:05:18 +0000 2020\n",
      "Mon Oct 05 11:04:00 +0000 2020\n",
      "Mon Oct 05 11:02:03 +0000 2020\n",
      "Mon Oct 05 11:00:58 +0000 2020\n",
      "Mon Oct 05 10:57:40 +0000 2020\n",
      "Mon Oct 05 10:54:07 +0000 2020\n",
      "Mon Oct 05 10:51:46 +0000 2020\n",
      "Mon Oct 05 10:50:40 +0000 2020\n",
      "Mon Oct 05 10:49:08 +0000 2020\n",
      "Mon Oct 05 10:47:44 +0000 2020\n",
      "Mon Oct 05 10:45:34 +0000 2020\n",
      "Mon Oct 05 10:30:25 +0000 2020\n",
      "Mon Oct 05 10:19:05 +0000 2020\n"
     ]
    }
   ],
   "source": [
    "tweets_5_10 = filter(lambda t: t['date'] == \"2020-10-05\", recent_tweets)\n",
    "for t in tweets_5_10:\n",
    "    print(t['created_at'])"
   ]
  },
  {
   "cell_type": "code",
   "execution_count": null,
   "metadata": {},
   "outputs": [],
   "source": []
  }
 ],
 "metadata": {
  "kernelspec": {
   "display_name": "Python 3",
   "language": "python",
   "name": "python3"
  },
  "language_info": {
   "codemirror_mode": {
    "name": "ipython",
    "version": 3
   },
   "file_extension": ".py",
   "mimetype": "text/x-python",
   "name": "python",
   "nbconvert_exporter": "python",
   "pygments_lexer": "ipython3",
   "version": "3.8.5"
  }
 },
 "nbformat": 4,
 "nbformat_minor": 2
}
