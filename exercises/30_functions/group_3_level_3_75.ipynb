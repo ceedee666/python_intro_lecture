{
 "cells": [
  {
   "source": [
    "<div class=\"alert alert-block alert-warning\">\n",
    "\n",
    "# Aufgabe 3\n",
    "\n",
    "Im Rahmen der Materialverwaltung soll ein Programm zur automatischen Bewertung mehrerer Materialien implementiert werden. So sollen aus einer Liste mehrerer Materialien alle herausgefiltert werden, deren Lagerbestand unter dem Meldebstand von 200 liegt, damit diese neu bestellt werden können.  \n",
    "\n",
    "Implementieren Sie nun die Funktion `analyse_bestand`. Diese Funktion erhält als Parameter eine Liste `materialien`. Diese Liste besteht allerding aus mehreren Listen. So ist jedes Element der Liste `materialien` eine Liste bestehend aus dem Materialnamen als erstem Wert, gefolgt von dem Materialbestand als zweitem Wert. Die Liste sieht also in etwa so aus: `[[\"Schrauben\", 330], [\"Nägel\", 2500], [\"Muttern\", 150]]`.  \n",
    "\n",
    "Als Ergebnis soll eine Liste mit nur den Materialien unter dem Meldebstand von 200Stück zurückgegeben werden (`neuzubestellen`). Ergebnis für obiges Beispiel wäre also: `[[\"Muttern\", 150]]`\n",
    "</div>\n",
    "<div class=\"alert alert-block alert-info\">\n",
    "\n",
    "### Hilfe\n",
    "Sie können Ihre Lösung mit den automatisierten [Tests](#Automatische-Tests) weiter unten im Dokument überprüfen.<br>\n",
    "Eine Einführung in die `For-Schleifen` in Python finden Sie [hier](../../50_loops/for_loop.ipynb).\n",
    "</div>"
   ],
   "cell_type": "markdown",
   "metadata": {
    "nbgrader": {
     "grade": false,
     "grade_id": "cell-0bbc35bf0a7ad03c",
     "locked": true,
     "schema_version": 1,
     "solution": false
    }
   }
  },
  {
   "cell_type": "code",
   "execution_count": 1,
   "metadata": {
    "nbgrader": {
     "grade": false,
     "grade_id": "cell-35309a5761d24069",
     "locked": false,
     "schema_version": 1,
     "solution": true
    }
   },
   "outputs": [],
   "source": [
    "###START\n",
    "    \n",
    "    neuzubestellen = []\n",
    "    for material in materialien:\n",
    "        if material[1] < 200:\n",
    "            # Ergänze die Liste der zu bestellenden Materialien durch das aktuell geprüfte\n",
    "    \n",
    "###ENDE "
   ]
  },
  {
   "cell_type": "markdown",
   "metadata": {
    "nbgrader": {
     "grade": false,
     "grade_id": "cell-8aba2ac98d3b5f29",
     "locked": true,
     "schema_version": 1,
     "solution": false
    }
   },
   "source": [
    "  ***\n",
    "  # Automatische Tests\n",
    "  Ab hier finden Sie einige automatisierte Tests um Ihre Lösungen zu überprüfen. Um Ihre Lösung zu prüfen führen Sie bitte zuerst die Zelle mit Ihrer Lösung und danach die Zelle mit dem zugehörigen Test aus.\n"
   ]
  },
  {
   "cell_type": "code",
   "execution_count": null,
   "metadata": {},
   "outputs": [],
   "source": [
    "import sys\n",
    "sys.path.append(\"../..\")\n",
    "from nose.tools import assert_equal, assert_not_equal\n",
    "from utils import * \n",
    "\n",
    "try:\n",
    "    materials = [[\"Schrauben\", 330], [\"Nägel\", 2500], [\"Muttern\", 150]]\n",
    "    Erg = analyse_bestand(materials)\n",
    "    expected_out = [[\"Muttern\", 150]]\n",
    "    assert_equal(Erg, expected_out)\n",
    "    print(\"[OK] Es wurden alle Objekte unter dem ROP richtig ausgegeben!\")\n",
    "except AssertionError as e:\n",
    "    print(\"[FEHLER] Es wurde\",Erg ,\"als Objekte unter dem ROP berechnet , obwohl \", expected_out, \"richtig wäre.\")\n",
    "    print(\"       \",e)\n",
    "except Exception as e:\n",
    "    print(\"[FEHLER]\", friendly_exceptions.msg(e))\n",
    "\n",
    "try:\n",
    "    materials = [[\"Gewinde\", 230], [\"Knopfzellen\", 120]]\n",
    "    Erg = analyse_bestand(materials)\n",
    "    expected_out = [[\"Knopfzellen\", 120]]\n",
    "    assert_equal(Erg, expected_out)\n",
    "    print(\"[OK] Es wurden alle Objekte unter dem ROP richtig ausgegeben!\")\n",
    "except AssertionError as e:\n",
    "    print(\"[FEHLER] Es wurde\",Erg ,\"als Objekte unter dem ROP berechnet , obwohl \", expected_out, \"richtig wäre.\")\n",
    "    print(\"       \",e)\n",
    "except Exception as e:\n",
    "    print(\"[FEHLER]\", friendly_exceptions.msg(e))\n",
    "\n",
    "try:\n",
    "    materials = [[\"Mandeln\", 150], [\"Haselnüsse\", 2500], [\"Erdnüsse\", 300], [\"Haselnüsse\", 180]]\n",
    "    Erg = analyse_bestand(materials)\n",
    "    expected_out = [[\"Mandeln\", 150], [\"Haselnüsse\", 180]]\n",
    "    assert_equal(Erg, expected_out)\n",
    "    print(\"[OK] Es wurden alle Objekte unter dem ROP richtig ausgegeben!\")\n",
    "except AssertionError as e:\n",
    "    print(\"[FEHLER] Es wurde\",Erg ,\"als Objekte unter dem ROP berechnet , obwohl \", expected_out, \"richtig wäre.\")\n",
    "    print(\"       \",e)\n",
    "except Exception as e:\n",
    "    print(\"[FEHLER]\", friendly_exceptions.msg(e))"
   ]
  }
 ],
 "metadata": {
  "celltoolbar": "Create Assignment",
  "file_extension": ".py",
  "kernelspec": {
   "display_name": "Python 3",
   "language": "python",
   "name": "python3"
  },
  "language_info": {
   "codemirror_mode": {
    "name": "ipython",
    "version": 3
   },
   "file_extension": ".py",
   "mimetype": "text/x-python",
   "name": "python",
   "nbconvert_exporter": "python",
   "pygments_lexer": "ipython3",
   "version": "3.7.2"
  },
  "mimetype": "text/x-python",
  "name": "python",
  "npconvert_exporter": "python",
  "pygments_lexer": "ipython3",
  "version": 3
 },
 "nbformat": 4,
 "nbformat_minor": 2
}