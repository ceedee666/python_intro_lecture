{
 "cells": [
  {
   "source": [
    "<div class=\"alert alert-block alert-warning\">\n",
    "\n",
    "# Aufgabe 3\n",
    "\n",
    "Im Rahmen der Bestellungsabwicklung soll ein Programm zur automatischen Bewertung mehrerer Bestellungen implementiert werden. So soll anhand einer Liste von Bestellungen und einer (separaten) Liste von Zahlungen erkannt werden, welche Bestellungen noch nicht bezahlt wurden.  \n",
    "\n",
    "Implementieren Sie nun die Funktion `analyse_bestellungen`. Diese Funktion erhält als Parameter eine Liste `bestellungen`. Diese Liste besteht allerding aus mehreren Listen. So ist jedes Element der Liste `bestellungen` eine Liste bestehend aus der Bestellnummer als erstem Wert, gefolgt von einer Artikelbezeichnung. Die Liste sieht also in etwa so aus: `[[10001, \"Erdbeermüsli\"], [10002, \"Blaubeermüsli\"], [\"10003\", \"Früchtemüsli\"]]`.   \n",
    "Zusätzlich gibt es als zweiten Parameter eine weitere Liste `bezahlte`. Diese Liste beinhält alle Bestellnummern, welche bezahlt wurden. Also in etwa so: `[10001, 10003]`.  \n",
    "Als Ergebnis sollen alle Bestellungen zurückgegeben werden, welche noch nicht bezahlt wurden. Für die obigen Beispiele wäre die Ergebnis-Liste also: `[[10002, \"Blaubeermüsli\"]`\n",
    "</div>\n",
    "<div class=\"alert alert-block alert-info\">\n",
    "\n",
    "\n",
    "### Hilfe\n",
    "Sie können Ihre Lösung mit den automatisierten [Tests](#Automatische-Tests) weiter unten im Dokument überprüfen.<br>\n",
    "Eine Einführung in die `For-Schleifen` in Python finden Sie [hier](../../50_loops/for_loop.ipynb).\n",
    "</div>"
   ],
   "cell_type": "markdown",
   "metadata": {
    "nbgrader": {
     "grade": false,
     "grade_id": "cell-8b1d1cf586517743",
     "locked": true,
     "schema_version": 1,
     "solution": false
    }
   }
  },
  {
   "cell_type": "code",
   "execution_count": null,
   "metadata": {
    "nbgrader": {
     "grade": false,
     "grade_id": "cell-aa93af9f23515e63",
     "locked": false,
     "schema_version": 1,
     "solution": true
    }
   },
   "outputs": [],
   "source": [
    "###START\n",
    "    \n",
    "    unbezahlte_bestellungen = bestellungen\n",
    "\n",
    "    for #durchlaufe alle bestellungen: \n",
    "        for #durchlaufe alle bezahlungen:\n",
    "            if bezahlt == bestllung[0]:\n",
    "                unbezahlte_bestellungen.remove(bestellung)\n",
    "                \n",
    "###ENDE"
   ]
  },
  {
   "cell_type": "markdown",
   "metadata": {
    "nbgrader": {
     "grade": false,
     "grade_id": "cell-742f913cf910b9c2",
     "locked": true,
     "schema_version": 1,
     "solution": false
    }
   },
   "source": [
    "  ***\n",
    "  # Automatische Tests\n",
    "  Ab hier finden Sie einige automatisierte Tests um Ihre Lösungen zu überprüfen. Um Ihre Lösung zu prüfen führen Sie bitte zuerst die Zelle mit Ihrer Lösung und danach die Zelle mit dem zugehörigen Test aus.\n"
   ]
  },
  {
   "cell_type": "code",
   "execution_count": null,
   "metadata": {},
   "outputs": [],
   "source": [
    "import sys\n",
    "sys.path.append(\"../..\")\n",
    "from nose.tools import assert_equal, assert_not_equal\n",
    "from utils import * \n",
    "\n",
    "try:\n",
    "    orders = [[10001, \"Erdbeermüsli\"], [10002, \"Blaubeermüsli\"], [10003, \"Früchtemüsli\"]]\n",
    "    payments = [10001, 10003]\n",
    "    Erg = analyse_bestellungen(orders, payments)\n",
    "    expected_out = [[10002, \"Blaubeermüsli\"]]\n",
    "    assert_equal(Erg, expected_out)\n",
    "    print(\"[OK] Es wurden Alle noch nicht bezahlten Produkte festgestellt!\")\n",
    "except AssertionError as e:\n",
    "    print(\"[FEHLER] Es wurden\",Erg ,\"als noch nicht bezahlt festgestellt , obwohl \", expected_out, \"noch nicht bezahlt wurde.\")\n",
    "    print(\"       \",e)\n",
    "except Exception as e:\n",
    "    print(\"[FEHLER]\", friendly_exceptions.msg(e))\n",
    "\n",
    "try:\n",
    "    orders = [[10001, \"Erdbeermüsli\"], [10002, \"Blaubeermüsli\"], [10003, \"Früchtemüsli\"], [10004, \"Früchtemüsli\"]]\n",
    "    payments = [10001, 10003]\n",
    "    Erg = analyse_bestellungen(orders, payments)\n",
    "    expected_out = [[10002, \"Blaubeermüsli\"], [10004, \"Früchtemüsli\"]]\n",
    "    assert_equal(Erg, expected_out)\n",
    "    print(\"[OK] Es wurden Alle noch nicht bezahlten Produkte festgestellt!\")\n",
    "except AssertionError as e:\n",
    "    print(\"[FEHLER] Es wurden\",Erg ,\"als noch nicht bezahlt festgestellt , obwohl \", expected_out, \"noch nicht bezahlt wurde.\")\n",
    "    print(\"       \",e)\n",
    "except Exception as e:\n",
    "    print(\"[FEHLER]\", friendly_exceptions.msg(e))\n",
    "\n",
    "try:\n",
    "    orders = [[10001, \"Erdbeermüsli\"], [10002, \"Blaubeermüsli\"], [10003, \"Früchtemüsli\"], [10004, \"Früchtemüsli\"]]\n",
    "    payments = [10004]\n",
    "    Erg = analyse_bestellungen(orders, payments)\n",
    "    expected_out = [[10001, \"Erdbeermüsli\"], [10002, \"Blaubeermüsli\"], [10003, \"Früchtemüsli\"]]\n",
    "    assert_equal(Erg, expected_out)\n",
    "    print(\"[OK] Es wurden Alle noch nicht bezahlten Produkte festgestellt!\")\n",
    "except AssertionError as e:\n",
    "    print(\"[FEHLER] Es wurden\",Erg ,\"als noch nicht bezahlt festgestellt , obwohl \", expected_out, \"noch nicht bezahlt wurde.\")\n",
    "    print(\"       \",e)\n",
    "except Exception as e:\n",
    "    print(\"[FEHLER]\", friendly_exceptions.msg(e))"
   ]
  }
 ],
 "metadata": {
  "celltoolbar": "Create Assignment",
  "file_extension": ".py",
  "kernelspec": {
   "display_name": "Python 3",
   "language": "python",
   "name": "python3"
  },
  "language_info": {
   "codemirror_mode": {
    "name": "ipython",
    "version": 3
   },
   "file_extension": ".py",
   "mimetype": "text/x-python",
   "name": "python",
   "nbconvert_exporter": "python",
   "pygments_lexer": "ipython3",
   "version": "3.7.2"
  },
  "mimetype": "text/x-python",
  "name": "python",
  "npconvert_exporter": "python",
  "pygments_lexer": "ipython3",
  "version": 3
 },
 "nbformat": 4,
 "nbformat_minor": 2
}