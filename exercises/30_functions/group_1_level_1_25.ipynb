{
 "cells": [
  {
   "source": [
    "<div class=\"alert alert-block alert-warning\">\n",
    "\n",
    "# Aufgabe 1\n",
    "\n",
    "In einem Versicherungsunternehmen soll, im Rahmen der Gebäudeversicherungen, ein Programm zur automatischen Risikobewertung implementiert werden. Im zweiten Schritt wollen Sie überprüfen ob das Alter eines Gebäudes unter oder gleich 10 Jahren ist. Ist dies der Fall so ist die Risikoklasse in jedem Fall \"A\".  \n",
    "\n",
    "Implementieren Sie nun die Funktion `versicherung_qualifizieren`. Diese Funktion erhält einen Parameter `alter`, welcher in Form eines Integer-Wertes angibt wie alt das Gebäude ist (in Jahren).  \n",
    "Als Ergebnis soll jedoch die Risikoklasse in Form eines Buchstabens zurückgegeben werden. Ist das Gebäude älter als 10 Jahre, so geben Sie \"D\" zurück. Ansonsten geben Sie \"A\" zurück. Zusätzlich geben Sie bitte mittels print() in die Konsole aus ob das Gebäude als \"neuwertig\" oder \"alt\" eingestuft wurde.\n",
    "</div>\n",
    "<div class=\"alert alert-block alert-info\">\n",
    "\n",
    "### Hilfe\n",
    "Sie können Ihre Lösung mit den automatisierten [Tests](#Automatische-Tests) weiter unten im Dokument überprüfen.<br>\n",
    "Eine Einführung in die `Kontrollstrukturen`in Python finden Sie [hier](../../30_conditionals/10_conditionals.ipynb).\n",
    "</div>"
   ],
   "cell_type": "markdown",
   "metadata": {
    "nbgrader": {
     "grade": false,
     "grade_id": "cell-44b81f14427f4d0b",
     "locked": true,
     "schema_version": 1,
     "solution": false
    }
   }
  },
  {
   "cell_type": "code",
   "execution_count": null,
   "metadata": {
    "nbgrader": {
     "grade": false,
     "grade_id": "cell-b4793346c766032e",
     "locked": false,
     "schema_version": 1,
     "solution": true
    }
   },
   "outputs": [],
   "source": [
    "###START\n",
    "    \n",
    "    versicherungs_klasse = \"D\"\n",
    "    if #Überprüfung des Alters:\n",
    "        # rückgabewert ändern\n",
    "        print(\"Eingestuft als neuwertig.\")\n",
    "    else:\n",
    "        print(\"Eingestuft als alt.\")\n",
    "    \n",
    "\n",
    "###ENDE"
   ]
  },
  {
   "cell_type": "markdown",
   "metadata": {
    "nbgrader": {
     "grade": false,
     "grade_id": "cell-90a6f9f5e3035b0d",
     "locked": true,
     "schema_version": 1,
     "solution": false
    }
   },
   "source": [
    "***\n",
    "# Automatische Tests\n",
    "Ab hier finden Sie einige automatisierte Tests um Ihre Lösungen zu überprüfen. Um Ihre Lösung zu prüfen führen Sie bitte zuerst die Zelle mit Ihrer Lösung und danach die Zelle mit dem zugehörigen Test aus.\n"
   ]
  },
  {
   "cell_type": "code",
   "execution_count": null,
   "metadata": {},
   "outputs": [],
   "source": [
    "import sys\n",
    "sys.path.append(\"../..\")\n",
    "from nose.tools import assert_equal, assert_not_equal\n",
    "from utils import * \n",
    "\n",
    "try:\n",
    "    age = 20\n",
    "    Erg = insurance_class = versicherung_qualifizieren(age)\n",
    "    expected_out = \"D\"\n",
    "    assert_equal(Erg, expected_out)\n",
    "    print(\"[OK] Es wurde die richtige Klasse berechnet!\")\n",
    "except AssertionError as e:\n",
    "    print(\"[FEHLER] Es wurde\",Erg ,\"berechnet , obwohl \", expected_out, \"richtig wäre.\")\n",
    "    print(\"       \",e)\n",
    "except Exception as e:\n",
    "    print(\"[FEHLER]\", friendly_exceptions.msg(e))\n",
    "\n",
    "try:\n",
    "    age = 5\n",
    "    insurance_class = versicherung_qualifizieren(age)\n",
    "    expected_out = \"A\"\n",
    "    assert_equal(Erg, expected_out)\n",
    "    print(\"[OK] Es wurde die richtige Klasse berechnet!\")\n",
    "except AssertionError as e:\n",
    "    print(\"[FEHLER] Es wurde\",Erg ,\"berechnet , obwohl \", expected_out, \"richtig wäre.\")\n",
    "    print(\"       \",e)\n",
    "except Exception as e:\n",
    "    print(\"[FEHLER]\", friendly_exceptions.msg(e))\n",
    "\n",
    "try:\n",
    "    age = 11\n",
    "    insurance_class = versicherung_qualifizieren(age)\n",
    "    expected_out = \"D\"\n",
    "    assert_equal(Erg, expected_out)\n",
    "    print(\"[OK] Es wurde die richtige Klasse berechnet!\")\n",
    "except AssertionError as e:\n",
    "    print(\"[FEHLER] Es wurde\",Erg ,\"berechnet , obwohl \", expected_out, \"richtig wäre.\")\n",
    "    print(\"       \",e)\n",
    "except Exception as e:\n",
    "    print(\"[FEHLER]\", friendly_exceptions.msg(e))\n",
    "\n",
    "try:\n",
    "    age = 10\n",
    "    insurance_class = versicherung_qualifizieren(age)\n",
    "    expected_out = \"A\"\n",
    "    assert_equal(Erg, expected_out)\n",
    "    print(\"[OK] Es wurde die richtige Klasse berechnet!\")\n",
    "except AssertionError as e:\n",
    "    print(\"[FEHLER] Es wurde\",Erg ,\"berechnet , obwohl \", expected_out, \"richtig wäre.\")\n",
    "    print(\"       \",e)\n",
    "except Exception as e:\n",
    "    print(\"[FEHLER]\", friendly_exceptions.msg(e))\n",
    "\n",
    "    "
   ]
  }
 ],
 "metadata": {
  "celltoolbar": "Create Assignment",
  "file_extension": ".py",
  "kernelspec": {
   "display_name": "Python 3",
   "language": "python",
   "name": "python3"
  },
  "language_info": {
   "codemirror_mode": {
    "name": "ipython",
    "version": 3
   },
   "file_extension": ".py",
   "mimetype": "text/x-python",
   "name": "python",
   "nbconvert_exporter": "python",
   "pygments_lexer": "ipython3",
   "version": "3.8.0-final"
  },
  "mimetype": "text/x-python",
  "name": "python",
  "npconvert_exporter": "python",
  "pygments_lexer": "ipython3",
  "version": 3
 },
 "nbformat": 4,
 "nbformat_minor": 2
}