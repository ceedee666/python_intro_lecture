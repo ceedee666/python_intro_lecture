{
 "cells": [
  {
   "source": [
    "<div class=\"alert alert-block alert-warning\">\n",
    "\n",
    "# Aufgabe 5\n",
    "\n",
    "Es soll ein Programm zur automatischen Berechnung eines Kontostandes anhand von Zugängen und Abgängen auf ein Konto implementiert werden.  \n",
    "**Allerdings sollen Sie hierbei auf Schleifen verzichten. Lösen Sie diese Aufgabe durch eine rekursive Funktion.  \n",
    "Das heißt die Funktion soll sich immer wieder selbst aufrufen mit einem veränderten Parameter.**\n",
    "\n",
    "Implementieren Sie nun die Funktion `kalkuliere_kontostand`. Diese Funktion erhält als Parameter eine Liste `transfers`, welche in Form von Float-Werten die Zugänge und Abgänge auf das Konto angibt (in etwa `[+500.00, -200.00, +0.70, -0.65]`).  \n",
    "Als Ergebnis soll der Kontostand in Form eines Float-Wertes zurückgegeben werden.\n",
    "</div>  \n",
    "<div class=\"alert alert-block alert-info\">\n",
    "\n",
    "### Hilfe\n",
    "Sie können Ihre Lösung mit den automatisierten [Tests](#Automatische-Tests) weiter unten im Dokument überprüfen.<br>\n",
    "Eine Einführung in die `For-Schleifen` in Python finden Sie [hier](../../50_loops/for_loop.ipynb).\n",
    "</div>"
   ],
   "cell_type": "markdown",
   "metadata": {
    "nbgrader": {
     "grade": false,
     "grade_id": "cell-076562fddc784aef",
     "locked": true,
     "schema_version": 1,
     "solution": false
    }
   }
  },
  {
   "cell_type": "code",
   "execution_count": 1,
   "metadata": {
    "nbgrader": {
     "grade": false,
     "grade_id": "cell-5ae53d3aec3098e8",
     "locked": false,
     "schema_version": 1,
     "solution": true
    }
   },
   "outputs": [],
   "source": [
    "### Dies ist lediglich ein Pseudocode. Sie müssen den Code komplett umschreiben, die Logik sollte jedoch erhalten bleiben\n",
    "\n",
    "def kalkuliere_kontostand(transfers):\n",
    "    if (die Liste hat nur einen Eintrag):\n",
    "        return (Eintrag aus der Liste)\n",
    "    else:\n",
    "        #"
   ]
  },
  {
   "cell_type": "markdown",
   "metadata": {
    "nbgrader": {
     "grade": false,
     "grade_id": "cell-27c15b3c16b05937",
     "locked": true,
     "schema_version": 1,
     "solution": false
    }
   },
   "source": [
    "  ***\n",
    "  # Automatische Tests\n",
    "  Ab hier finden Sie einige automatisierte Tests um Ihre Lösungen zu überprüfen. Um Ihre Lösung zu prüfen führen Sie bitte zuerst die Zelle mit Ihrer Lösung und danach die Zelle mit dem zugehörigen Test aus.\n"
   ]
  },
  {
   "cell_type": "code",
   "execution_count": null,
   "metadata": {},
   "outputs": [],
   "source": [
    "import sys\n",
    "sys.path.append(\"../..\")\n",
    "from nose.tools import assert_equal, assert_not_equal\n",
    "from utils import * \n",
    "\n",
    "try:\n",
    "    transfers = [+519.55, -250.00, -19.37, -12.34, +234.56]\n",
    "    Erg = kalkuliere_kontostand(transfers)\n",
    "    expected_out = 472.40\n",
    "    assert_equal(Erg, expected_out)\n",
    "    print(\"[OK] Der Kontostand wurde korrekt berechnet!\")\n",
    "except AssertionError as e:\n",
    "    print(\"[FEHLER] Es wurde\",Erg ,\"als Kontostand berechnet, obwohl \", expected_out, \"der richtige Kontostand wäre.\")\n",
    "    print(\"       \",e)\n",
    "except Exception as e:\n",
    "    print(\"[FEHLER]\", friendly_exceptions.msg(e))\n",
    "\n",
    "try:\n",
    "    transfers = [+99999999.99, -1234567.89, -9876543.22]\n",
    "    Erg = kalkuliere_kontostand(transfers)\n",
    "    expected_out = 88888888.88\n",
    "    assert_equal(Erg, expected_out)\n",
    "    print(\"[OK] Der Kontostand wurde korrekt berechnet!\")\n",
    "except AssertionError as e:\n",
    "    print(\"[FEHLER] Es wurde\",Erg ,\"als Kontostand berechnet, obwohl \", expected_out, \"der richtige Kontostand wäre.\")\n",
    "    print(\"       \",e)\n",
    "except Exception as e:\n",
    "    print(\"[FEHLER]\", friendly_exceptions.msg(e))\n",
    "\n",
    "try:\n",
    "    transfers = [-12.34, +20.00]\n",
    "    Erg = kalkuliere_kontostand(transfers)\n",
    "    expected_out = 7.66\n",
    "    assert_equal(Erg, expected_out)\n",
    "    print(\"[OK] Der Kontostand wurde korrekt berechnet!\")\n",
    "except AssertionError as e:\n",
    "    print(\"[FEHLER] Es wurde\",Erg ,\"als Kontostand berechnet, obwohl \", expected_out, \"der richtige Kontostand wäre.\")\n",
    "    print(\"       \",e)\n",
    "except Exception as e:\n",
    "    print(\"[FEHLER]\", friendly_exceptions.msg(e))"
   ]
  }
 ],
 "metadata": {
  "celltoolbar": "Create Assignment",
  "file_extension": ".py",
  "kernelspec": {
   "display_name": "Python 3",
   "language": "python",
   "name": "python3"
  },
  "language_info": {
   "codemirror_mode": {
    "name": "ipython",
    "version": 3
   },
   "file_extension": ".py",
   "mimetype": "text/x-python",
   "name": "python",
   "nbconvert_exporter": "python",
   "pygments_lexer": "ipython3",
   "version": "3.7.2"
  },
  "mimetype": "text/x-python",
  "name": "python",
  "npconvert_exporter": "python",
  "pygments_lexer": "ipython3",
  "version": 3
 },
 "nbformat": 4,
 "nbformat_minor": 2
}