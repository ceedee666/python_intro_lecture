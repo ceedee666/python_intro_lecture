{
 "cells": [
  {
   "source": [
    "<div class=\"alert alert-block alert-warning\">\n",
    "\n",
    "# Aufgabe 5\n",
    "\n",
    "Im Rahmen der Steuerrechnung soll ein Programm zur automatischen Berechnung der Umsatzsteuer, welche von Ihrem Unternehmen eingenommen wird, implementiert werden. Dazu sollen die Netto-Verkaufspreise analysiert werden.  \n",
    "**Allerdings sollen Sie hierbei auf Schleifen verzichten. Lösen Sie diese Aufgabe durch eine rekursive Funktion.  \n",
    "Das heißt die Funktion soll sich immer wieder selbst aufrufen mit einem veränderten Parameter.**\n",
    "\n",
    "Implementieren Sie nun die Funktion `kalkuliere_steuern`. Diese Funktion erhält als Parameter eine Liste `verkaeufe`, welche in Form von Float-Werten die Netto-Verkaufspreise aller verkauften Artikel angibt (in etwa `[500.00, 299.99, 1.79, 149.49]`).  \n",
    "Als Ergebnis soll der gesamte Betrag, welcher durch die Umsatzsteuer eingenommen wurde, in Form eines Float-Wertes zurückgegeben werden.   \n",
    "\n",
    "Tipp: $ Umsatzsteuer = Nettobetrag * 0.19 $\n",
    "</div>\n",
    "<div class=\"alert alert-block alert-info\">\n",
    "### Hilfe\n",
    "Sie können Ihre Lösung mit den automatisierten [Tests](#Automatische-Tests) weiter unten im Dokument überprüfen.<br>\n",
    "Eine Einführung in die `For-Schleifen` in Python finden Sie [hier](../../50_loops/for_loop.ipynb).\n",
    "</div>"
   ],
   "cell_type": "markdown",
   "metadata": {
    "nbgrader": {
     "grade": false,
     "grade_id": "cell-8b38c7524cb5b3a6",
     "locked": true,
     "schema_version": 1,
     "solution": false
    }
   }
  },
  {
   "cell_type": "code",
   "execution_count": null,
   "metadata": {
    "nbgrader": {
     "grade": false,
     "grade_id": "cell-050636cce2c9d626",
     "locked": false,
     "schema_version": 1,
     "solution": true
    }
   },
   "outputs": [],
   "source": [
    "###START\n",
    "def calculate_taxes(sales):\n",
    "    \n",
    "###ENDE"
   ]
  },
  {
   "cell_type": "markdown",
   "metadata": {
    "nbgrader": {
     "grade": false,
     "grade_id": "cell-f0e3db9e44e61453",
     "locked": true,
     "schema_version": 1,
     "solution": false
    }
   },
   "source": [
    "  ***\n",
    "  # Automatische Tests\n",
    "  Ab hier finden Sie einige automatisierte Tests um Ihre Lösungen zu überprüfen. Um Ihre Lösung zu prüfen führen Sie bitte zuerst die Zelle mit Ihrer Lösung und danach die Zelle mit dem zugehörigen Test aus.\n"
   ]
  },
  {
   "cell_type": "code",
   "execution_count": null,
   "metadata": {},
   "outputs": [],
   "source": [
    "import sys\n",
    "sys.path.append(\"../..\")\n",
    "from nose.tools import assert_equal, assert_not_equal\n",
    "from utils import * \n",
    "\n",
    "try:\n",
    "    sales = [300, 250.45, 19.78, 123.56, 50.23]\n",
    "    Erg = kalkuliere_steuern(sales)\n",
    "    expected_out = 141.3638\n",
    "    assert_equal(Erg, expected_out)\n",
    "    print(\"[OK] Die Umsatzsteuer wurde korrekt berechnet!\")\n",
    "except AssertionError as e:\n",
    "    print(\"[FEHLER] Es wurde\",Erg ,\"berechnet , obwohl \", expected_out, \"richtig wäre.\")\n",
    "    print(\"       \",e)\n",
    "except Exception as e:\n",
    "    print(\"[FEHLER]\", friendly_exceptions.msg(e))\n",
    "\n",
    "try:\n",
    "    sales = [99999999, 1234567, 9876543]\n",
    "    Erg = kalkuliere_steuern(sales)\n",
    "    expected_out = 21111110.709999997\n",
    "    assert_equal(Erg, expected_out)\n",
    "    print(\"[OK] Die Umsatzsteuer wurde korrekt berechnet!\")\n",
    "except AssertionError as e:\n",
    "    print(\"[FEHLER] Es wurde\",Erg ,\"berechnet , obwohl \", expected_out, \"richtig wäre.\")\n",
    "    print(\"       \",e)\n",
    "except Exception as e:\n",
    "    print(\"[FEHLER]\", friendly_exceptions.msg(e))\n",
    "\n",
    "try:\n",
    "    sales = [12, 20]\n",
    "    Erg = kalkuliere_steuern(sales)\n",
    "    expected_out = 6.08\n",
    "    assert_equal(Erg, expected_out)\n",
    "    print(\"[OK] Die Umsatzsteuer wurde korrekt berechnet!\")\n",
    "except AssertionError as e:\n",
    "    print(\"[FEHLER] Es wurde\",Erg ,\"berechnet , obwohl \", expected_out, \"richtig wäre.\")\n",
    "    print(\"       \",e)\n",
    "except Exception as e:\n",
    "    print(\"[FEHLER]\", friendly_exceptions.msg(e))"
   ]
  }
 ],
 "metadata": {
  "celltoolbar": "Create Assignment",
  "file_extension": ".py",
  "kernelspec": {
   "display_name": "Python 3",
   "language": "python",
   "name": "python3"
  },
  "language_info": {
   "codemirror_mode": {
    "name": "ipython",
    "version": 3
   },
   "file_extension": ".py",
   "mimetype": "text/x-python",
   "name": "python",
   "nbconvert_exporter": "python",
   "pygments_lexer": "ipython3",
   "version": "3.7.2"
  },
  "mimetype": "text/x-python",
  "name": "python",
  "npconvert_exporter": "python",
  "pygments_lexer": "ipython3",
  "version": 3
 },
 "nbformat": 4,
 "nbformat_minor": 2
}