{
 "cells": [
  {
   "source": [
    "<div class=\"alert alert-block alert-warning\">\n",
    "\n",
    "# Aufgabe 2\n",
    "\n",
    "In einem Versicherungsunternehmen soll, im Rahmen der Gebäudeversicherungen, ein Programm zur automatischen Risikobewertung implementiert werden. Im vierten Schritt soll weiter zwischen den Risikoklassen differenziert werden. Ein Gebäude soll immer dann in Risikoklasse \"D\" eingestuft werden wenn es sich um ein Mehrfamilienhaus handelt *oder* es älter als 20 Jahre ist. Andernfalls soll folgendes überprüft werden:  \n",
    "Ist das Alter eines Gebäudes unter oder gleich 10 Jahren, so gehört es in die Risikoklasse \"A\".  \n",
    "Ist ein Gebäude im Alter von 11-20 Jahren, so ist die Risikoklasse \"B\". \n",
    "\n",
    "Implementieren Sie nun die Funktion `versicherung_klassifizieren`. Diese Funktion erhält einen Parameter `alter`, welcher in Form eines Integer-Wertes angibt wie alt das Gebäude ist (in Jahren). Sowie den Parameter `ist_mehrfamilienhaus`, der in Form eines Boolean-Wertes angibt ob das Gebäude ein Mehrfamilienhaus ist (True oder False).  \n",
    "Als Ergebnis soll jedoch die Risikoklasse in Form eines Buchstabens zurückgegeben werden (\"A\",\"B\" oder \"D\"). \n",
    "</div>\n",
    "<div class=\"alert alert-block alert-info\">\n",
    "\n",
    "### Hilfe\n",
    "Sie können Ihre Lösung mit den automatisierten [Tests](#Automatische-Tests) weiter unten im Dokument überprüfen.<br>\n",
    "Eine Einführung in die `Kontrollstrukturen`in Python finden Sie [hier](../../30_conditionals/10_conditionals.ipynb).\n",
    "</div>"
   ],
   "cell_type": "markdown",
   "metadata": {
    "nbgrader": {
     "grade": false,
     "grade_id": "cell-ac355299348f4449",
     "locked": true,
     "schema_version": 1,
     "solution": false
    }
   }
  },
  {
   "cell_type": "code",
   "execution_count": null,
   "metadata": {
    "nbgrader": {
     "grade": false,
     "grade_id": "cell-ca05203a84dbc45b",
     "locked": false,
     "schema_version": 1,
     "solution": true
    }
   },
   "outputs": [],
   "source": [
    "###START\n",
    "    \n",
    "    versicherungs_klasse = \"A\"\n",
    "    if #Bedingung wann Gebäude als Klasse \"D\" eingestuft werden soll:\n",
    "        versicherungs_klasse = \"D\"\n",
    "    elif # Bedingung für Klasse \"A\":\n",
    "        versicherungs_klasse = \"A\"\n",
    "    # Else-Fall\n",
    "        \n",
    "###ENDE       "
   ]
  },
  {
   "cell_type": "markdown",
   "metadata": {
    "nbgrader": {
     "grade": false,
     "grade_id": "cell-a3b7964c5f6c121b",
     "locked": true,
     "schema_version": 1,
     "solution": false
    }
   },
   "source": [
    "***\n",
    "# Automatische Tests\n",
    "Ab hier finden Sie einige automatisierte Tests um Ihre Lösungen zu überprüfen. Um Ihre Lösung zu prüfen führen Sie bitte zuerst die Zelle mit Ihrer Lösung und danach die Zelle mit dem zugehörigen Test aus.\n"
   ]
  },
  {
   "cell_type": "code",
   "execution_count": null,
   "metadata": {},
   "outputs": [],
   "source": [
    "import sys\n",
    "sys.path.append(\"../..\")\n",
    "from nose.tools import assert_equal, assert_not_equal\n",
    "from utils import * \n",
    "\n",
    "try:\n",
    "    age = 5\n",
    "    is_apartement_building = True\n",
    "    Erg = versicherung_klassifizieren(age, is_apartement_building)\n",
    "    expected_out = \"D\"\n",
    "    assert_equal(Erg, expected_out)\n",
    "    print(\"[OK] Die Risikoklasse wurde korrekt berechnet!\")\n",
    "except AssertionError as e:\n",
    "    print(\"[FEHLER] Es wurde\",Erg ,\"als Risikoklasse berechnet, obwohl \", expected_out, \"die rictige Risikoklasse wäre.\")\n",
    "    print(\"       \",e)\n",
    "except Exception as e:\n",
    "    print(\"[FEHLER]\", friendly_exceptions.msg(e))\n",
    "\n",
    "try:\n",
    "    age = 25\n",
    "    is_apartement_building = False\n",
    "    Erg = versicherung_klassifizieren(age, is_apartement_building)\n",
    "    expected_out = \"D\"\n",
    "    assert_equal(Erg, expected_out)\n",
    "    print(\"[OK] Die Risikoklasse wurde korrekt berechnet!\")\n",
    "except AssertionError as e:\n",
    "    print(\"[FEHLER] Es wurde\",Erg ,\"als Risikoklasse berechnet, obwohl \", expected_out, \"die rictige Risikoklasse wäre.\")\n",
    "    print(\"       \",e)\n",
    "except Exception as e:\n",
    "    print(\"[FEHLER]\", friendly_exceptions.msg(e))\n",
    "\n",
    "try:\n",
    "    age = 15\n",
    "    is_apartement_building = False\n",
    "    Erg = versicherung_klassifizieren(age, is_apartement_building)\n",
    "    expected_out = \"B\"\n",
    "    assert_equal(Erg, expected_out)\n",
    "    print(\"[OK] Die Risikoklasse wurde korrekt berechnet!\")\n",
    "except AssertionError as e:\n",
    "    print(\"[FEHLER] Es wurde\",Erg ,\"als Risikoklasse berechnet, obwohl \", expected_out, \"die rictige Risikoklasse wäre.\")\n",
    "    print(\"       \",e)\n",
    "except Exception as e:\n",
    "    print(\"[FEHLER]\", friendly_exceptions.msg(e))\n",
    "\n",
    "try:\n",
    "    age = 5\n",
    "    is_apartement_building = False\n",
    "    Erg = versicherung_klassifizieren(age, is_apartement_building)\n",
    "    expected_out = \"A\"\n",
    "    assert_equal(Erg, expected_out)\n",
    "    print(\"[OK] Die Risikoklasse wurde korrekt berechnet!\")\n",
    "except AssertionError as e:\n",
    "    print(\"[FEHLER] Es wurde\",Erg ,\"als Risikoklasse berechnet, obwohl \", expected_out, \"die rictige Risikoklasse wäre.\")\n",
    "    print(\"       \",e)\n",
    "except Exception as e:\n",
    "    print(\"[FEHLER]\", friendly_exceptions.msg(e))\n",
    "\n",
    "try:\n",
    "    age = 25\n",
    "    is_apartement_building = True\n",
    "    Erg = versicherung_klassifizieren(age, is_apartement_building)\n",
    "    expected_out = \"D\"\n",
    "    assert_equal(Erg, expected_out)\n",
    "    print(\"[OK] Die Risikoklasse wurde korrekt berechnet!\")\n",
    "except AssertionError as e:\n",
    "    print(\"[FEHLER] Es wurde\",Erg ,\"als Risikoklasse berechnet, obwohl \", expected_out, \"die rictige Risikoklasse wäre.\")\n",
    "    print(\"       \",e)\n",
    "except Exception as e:\n",
    "    print(\"[FEHLER]\", friendly_exceptions.msg(e))\n",
    "\n",
    "try:\n",
    "    age = 10\n",
    "    is_apartement_building = False\n",
    "    Erg = versicherung_klassifizieren(age, is_apartement_building)\n",
    "    expected_out = \"A\"\n",
    "    assert_equal(Erg, expected_out)\n",
    "    print(\"[OK] Die Risikoklasse wurde korrekt berechnet!\")\n",
    "except AssertionError as e:\n",
    "    print(\"[FEHLER] Es wurde\",Erg ,\"als Risikoklasse berechnet, obwohl \", expected_out, \"die rictige Risikoklasse wäre.\")\n",
    "    print(\"       \",e)\n",
    "except Exception as e:\n",
    "    print(\"[FEHLER]\", friendly_exceptions.msg(e))\n",
    "\n",
    "try:\n",
    "    age = 20\n",
    "    is_apartement_building = False\n",
    "    Erg = versicherung_klassifizieren(age, is_apartement_building)\n",
    "    expected_out = \"B\"\n",
    "    assert_equal(Erg, expected_out)\n",
    "    print(\"[OK] Die Risikoklasse wurde korrekt berechnet!\")\n",
    "except AssertionError as e:\n",
    "    print(\"[FEHLER] Es wurde\",Erg ,\"als Risikoklasse berechnet, obwohl \", expected_out, \"die rictige Risikoklasse wäre.\")\n",
    "    print(\"       \",e)\n",
    "except Exception as e:\n",
    "    print(\"[FEHLER]\", friendly_exceptions.msg(e))"
   ]
  }
 ],
 "metadata": {
  "celltoolbar": "Create Assignment",
  "file_extension": ".py",
  "kernelspec": {
   "display_name": "Python 3",
   "language": "python",
   "name": "python3"
  },
  "language_info": {
   "codemirror_mode": {
    "name": "ipython",
    "version": 3
   },
   "file_extension": ".py",
   "mimetype": "text/x-python",
   "name": "python",
   "nbconvert_exporter": "python",
   "pygments_lexer": "ipython3",
   "version": "3.7.2"
  },
  "mimetype": "text/x-python",
  "name": "python",
  "npconvert_exporter": "python",
  "pygments_lexer": "ipython3",
  "version": 3
 },
 "nbformat": 4,
 "nbformat_minor": 2
}