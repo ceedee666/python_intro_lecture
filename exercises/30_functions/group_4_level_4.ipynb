{
 "cells": [
  {
   "source": [
    "<div class=\"alert alert-block alert-warning\">\n",
    "\n",
    "# Aufgabe 4\n",
    "\n",
    "Sie arbeiten in einem großen Spedition Unternehmen und wurden beauftragt ein Programm für den Zu und Abgang von den Waren `Schrauben` , `Dübel` und `Hammer` zu erarbeiten. Hierbei soll Schrauben mit `S`, Dübel mit `D` und Hammer mit `H` abgekürzt werden. Ein Zugang wird mit dem Buchstaben `P` abgekürzt und ein Abgang mit dem Buchstaben `M`. Diese werden hier als Change bezeichnet. Wenn sie ein Warenteil bekommen, welches nicht mit den oben genannten Abkürzungen übereinstimmt, geben Sie eine Meldung aus und beenden den Einlagerungsprozess mit dem Fehlercode `F98Lo2`. Wenn alles richtig ist, soll die Ware zum Lagerbestand subtrahiert bzw. addiert werden. Sollte der Lagerbestand negativ werden, so nehmen Sie keine Bestandsveränderung vor und geben den Fehlercode `F76nI1` zurück. Wenn alles richtig gelaufen ist , geben Sie den Code `R34Tu` zurück. \n",
    "</div>  \n",
    "<div class=\"alert alert-block alert-info\">\n",
    "\n",
    "### Hilfe\n",
    "\n",
    "Lagerbestand an der Stelle `S` = Schrauben usw.\n",
    "\n",
    "</div>"
   ],
   "cell_type": "markdown",
   "metadata": {}
  },
  {
   "cell_type": "code",
   "execution_count": null,
   "metadata": {},
   "outputs": [],
   "source": [
    "def Update_Lager(Aenderung,Ware,Menge,Lagerbestand):\n",
    "###START\n",
    "   \n",
    "###ENDE"
   ]
  },
  {
   "cell_type": "markdown",
   "metadata": {},
   "source": [
    " ***\n",
    "  # Automatische Tests\n",
    "  Ab hier finden Sie einige automatisierte Tests um Ihre Lösungen zu überprüfen. Um Ihre Lösung zu prüfen führen Sie bitte zuerst die Zelle mit Ihrer Lösung und danach die Zelle mit dem zugehörigen Test aus."
   ]
  },
  {
   "cell_type": "code",
   "execution_count": null,
   "metadata": {},
   "outputs": [],
   "source": [
    "import sys\n",
    "sys.path.append(\"../..\")\n",
    "from nose.tools import assert_equal, assert_not_equal\n",
    "from utils import * \n",
    "Lager ={\"S\":1000,\"D\":0,\"H\":150}\n",
    "try:\n",
    "    Erg = Update_Lager(\"P\",\"D\",250,Lager)\n",
    "    expected_out = \"R34TU\"\n",
    "    assert_equal(Erg, expected_out)\n",
    "    print(\"[OK] Richtiger Code,\", Erg ,\"wurde zurückgegeben\")\n",
    "except AssertionError as e:\n",
    "    print(\"[FEHLER] Falscher Code\", Erg ,\"zurückgegeben, obwohl\", expected_out ,\"richtig ist.\")\n",
    "    print(\"       \",e)\n",
    "except Exception as e:\n",
    "    print(\"[FEHLER]\", friendly_exceptions.msg(e))\n",
    "\n",
    "try:\n",
    "    Erg = Update_Lager(\"M\",\"D\",300,Lager)  \n",
    "    expected_out = \"F76nI1\"\n",
    "    assert_equal(Erg, expected_out)\n",
    "    print(\"[OK] Richtiger Code,\", Erg ,\"wurde zurückgegeben\")\n",
    "except AssertionError as e:\n",
    "    print(\"[FEHLER] Falscher Code\", Erg ,\"zurückgegeben, obwohl\", expected_out ,\"richtig ist.\")\n",
    "    print(\"       \",e)\n",
    "except Exception as e:\n",
    "    print(\"[FEHLER]\", friendly_exceptions.msg(e))\n",
    "\n",
    "try:\n",
    "    Erg = Update_Lager(\"M\",\"D\",100,Lager)  \n",
    "    expected_out = \"R34TU\" \n",
    "    assert_equal(Erg, expected_out)\n",
    "    print(\"[OK] Richtiger Code,\", Erg ,\"wurde zurückgegeben\")\n",
    "except AssertionError as e:\n",
    "    print(\"[FEHLER] Falscher Code\", Erg ,\"zurückgegeben, obwohl\", expected_out ,\"richtig ist.\")\n",
    "    print(\"       \",e)\n",
    "except Exception as e:\n",
    "    print(\"[FEHLER]\", friendly_exceptions.msg(e))\n",
    "\n",
    "try:\n",
    "    Erg = Update_Lager(\"M\",\"E\",100,Lager)  \n",
    "    expected_out = \"F98Lo2\" \n",
    "    assert_equal(Erg, expected_out)\n",
    "    print(\"[OK] Richtiger Code,\", Erg ,\"wurde zurückgegeben\")\n",
    "except AssertionError as e:\n",
    "    print(\"[FEHLER] Falscher Code\", Erg ,\"zurückgegeben, obwohl\", expected_out ,\"richtig ist.\")\n",
    "    print(\"       \",e)\n",
    "except Exception as e:\n",
    "    print(\"[FEHLER]\", friendly_exceptions.msg(e))\n",
    "\n",
    "try:\n",
    "    Lager_Test = {\"S\":1000,\"D\":150,\"H\":150}  \n",
    "    expected_out = Lager_Test \n",
    "    assert_equal(Lager, expected_out)\n",
    "    print(\"[OK] Richtiger Lagerwert,\", Lager ,\"wurde berechnet.\")\n",
    "except AssertionError as e:\n",
    "    print(\"[FEHLER] Falscher Lagerbestand\", Lager ,\", richtig wäre\", expected_out ,\"richtig ist.\")\n",
    "    print(\"       \",e)\n",
    "except Exception as e:\n",
    "    print(\"[FEHLER]\", friendly_exceptions.msg(e))"
   ]
  }
 ],
 "metadata": {
  "language_info": {
   "codemirror_mode": {
    "name": "ipython",
    "version": 3
   },
   "file_extension": ".py",
   "mimetype": "text/x-python",
   "name": "python",
   "nbconvert_exporter": "python",
   "pygments_lexer": "ipython3",
   "version": "3.8.0-final"
  },
  "orig_nbformat": 2,
  "kernelspec": {
   "name": "python38064bitbaef836a98804bf8802a43249a276387",
   "display_name": "Python 3.8.0 64-bit"
  }
 },
 "nbformat": 4,
 "nbformat_minor": 2
}