{
 "cells": [
  {
   "source": [
    "<div class=\"alert alert-block alert-warning\">\n",
    "\n",
    "# Aufgabe 3\n",
    "\n",
    "Sie arbeiten bei einer Bank und es soll ein Programm für einen Bankautomaten entwickelt werden. Dazu haben Sie ein Modell bekommen, welches den Ablauf erläutert.\n",
    "<br>\n",
    "/Noch einfügen Grafik/\n",
    "<br>\n",
    "Ihre Aufgabe ist es hierbei die Pin-Abfrage zu übernehmen. Hierbei soll überprüft werden ob der eingegebene Pin dem Pin auf der Bankkarte gleich ist. Falls dies so ist sollen Sie eine Bestätigung(`True`) zurückgeben. Falls die Pins nicht passen, geben Sie einen Fehler aus(`\"Pin ist falsch.\"`) und geben Sie die Möglichkeit den Pin noch zwei weitere male eingeben zu können(`Mittels einer Schleife!`). Wenn der Pin 3 mal hintereinander falsch eingegeben wird geben Sie aus (`\"Karte einbehalten.\"`) und geben Sie eine Beendigung ihrer Funktion mit Fehler zurück(`false`).\n",
    "\n",
    "Als Input für Ihre Funktion sollen Sie zwei Attribute annehmen, einen Zahlenwert(integer) als Pin und eine Karte als eine Liste mit zwei Attributen. Auf der Karte ist als erstes immer der Name gespeichert und als zweites der Pin.\n",
    "\n",
    "</div>  \n",
    "<div class=\"alert alert-block alert-info\">\n",
    "\n",
    "### Hilfe\n",
    "\n",
    "1. Achten Sie darauf, an welcher Position der Karte der Pin und der Name der Person steht.\n",
    "2. Nehmen Sie an, dass der Pin 3 mal gleich eingegeben wird.\n",
    "</div>"
   ],
   "cell_type": "markdown",
   "metadata": {}
  },
  {
   "cell_type": "code",
   "execution_count": 10,
   "metadata": {},
   "outputs": [],
   "source": [
    "def Check_Pin(Pin,Karte):\n",
    "###BEGIN SOLUTION\n",
    "    #Überprüfen Sie hier ob der Pin richtig ist und geben Sie einen Rückgabewert an\n",
    "    #Alternative, wenn PIN nicht direkt richtig ist\n",
    "        #Geben Sie hier die Möglichkeit 2 mal noch den Pin einzugeben\n",
    "            #Denken Sie an die Ausgaben\n",
    "            Pin_Eingabe = Pin\n",
    "            # Überprüfen Sie den Pin nach der Eingabe\n",
    "        #Wenn 3 mal falscher Pin, geben Sie den false Wert zurück\n",
    "        return False\n",
    "###END SOLUTION"
   ]
  },
  {
   "cell_type": "markdown",
   "metadata": {},
   "source": [
    "# Automatische Tests\n",
    "\n",
    "Ab hier finden Sie einige automatisierte Tests um Ihre Lösungen zu überprüfen. Um Ihre Lösung zu prüfen führen Sie bitte zuerst die Zelle mit Ihrer Lösung und danach die Zelle mit dem zugehörigen Test aus.\n"
   ]
  },
  {
   "cell_type": "code",
   "execution_count": null,
   "metadata": {},
   "outputs": [],
   "source": [
    "import sys\n",
    "sys.path.append(\"../..\")\n",
    "from nose.tools import assert_equal, assert_not_equal\n",
    "from utils import * \n",
    "\n",
    "try:\n",
    "    Karte = [\"Max Mustermann\" , 4321]\n",
    "    Erg = Check_Pin(1234,Karte)\n",
    "    expected_out = False\n",
    "    assert_equal(Erg, expected_out)\n",
    "    print(\"[OK] Pin wurde richtig als\", Erg ,\"erkannt\")\n",
    "except AssertionError as e:\n",
    "    print(\"[FEHLER] Pin wurde als\", Erg ,\"erfasst, obwohl er \", expected_out ,\"ist.\")\n",
    "    print(\"       \",e)\n",
    "except Exception as e:\n",
    "    print(\"[FEHLER]\", friendly_exceptions.msg(e))\n",
    "\n",
    "try:\n",
    "    Karte = [\"Peter Zwegert\" , 7829]\n",
    "    Erg = Check_Pin(7829,Karte)\n",
    "    expected_out = True\n",
    "    assert_equal(Erg, expected_out)\n",
    "    print(\"[OK] Pin wurde richtig als\", Erg ,\"erkannt\")\n",
    "except AssertionError as e:\n",
    "    print(\"[FEHLER] Pin wurde als\", Erg ,\"erfasst, obwohl er \", expected_out ,\"ist.\")\n",
    "    print(\"       \",e)\n",
    "except Exception as e:\n",
    "    print(\"[FEHLER]\", friendly_exceptions.msg(e))\n",
    "\n",
    "try:\n",
    "    Karte = [\"Petra Nein\" , 7121]\n",
    "    Erg = Check_Pin(7122,Karte)\n",
    "    expected_out = False\n",
    "    assert_equal(Erg, expected_out)\n",
    "    print(\"[OK] Pin wurde richtig als\", Erg ,\"erkannt\")\n",
    "except AssertionError as e:\n",
    "    print(\"[FEHLER] Pin wurde als\", Erg ,\"erfasst, obwohl er \", expected_out ,\"ist.\")\n",
    "    print(\"       \",e)\n",
    "except Exception as e:\n",
    "    print(\"[FEHLER]\", friendly_exceptions.msg(e))\n",
    "\n",
    "try:\n",
    "    Karte = [\"Petra Nein\" , 7121]\n",
    "    Erg = Check_Pin(6121,Karte)\n",
    "    expected_out = False\n",
    "    assert_equal(Erg, expected_out)\n",
    "    print(\"[OK] Pin wurde richtig als\", Erg ,\"erkannt\")\n",
    "except AssertionError as e:\n",
    "    print(\"[FEHLER] Pin wurde als\", Erg ,\"erfasst, obwohl er \", expected_out ,\"ist.\")\n",
    "    print(\"       \",e)\n",
    "except Exception as e:\n",
    "    print(\"[FEHLER]\", friendly_exceptions.msg(e))"
   ]
  }
 ],
 "metadata": {
  "language_info": {
   "codemirror_mode": {
    "name": "ipython",
    "version": 3
   },
   "file_extension": ".py",
   "mimetype": "text/x-python",
   "name": "python",
   "nbconvert_exporter": "python",
   "pygments_lexer": "ipython3",
   "version": "3.8.0-final"
  },
  "orig_nbformat": 2,
  "kernelspec": {
   "name": "python38064bitbaef836a98804bf8802a43249a276387",
   "display_name": "Python 3.8.0 64-bit"
  }
 },
 "nbformat": 4,
 "nbformat_minor": 2
}