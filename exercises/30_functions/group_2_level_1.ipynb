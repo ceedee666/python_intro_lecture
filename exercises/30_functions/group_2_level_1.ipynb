{
 "cells": [
  {
   "source": [
    "<div class=\"alert alert-block alert-warning\">\n",
    "\n",
    "# Aufgabe 1\n",
    "\n",
    "Es soll ein Programm zur automatischen Analyse von Kontobewegungen implementiert werden. So soll aus einer großen Liste von Zugängen und Abgängen erkannt werden welche die größte ist\n",
    "\n",
    "Implementieren Sie nun die Funktion `analyse_transfers`. Diese Funktion erhält als Parameter eine Liste `transfers`, welche in Form von Float-Werten die Zugänge und Abgänge auf das Konto angibt (in etwa `[+500.00, -200.00, +0.70, -0.65]`).   \n",
    "Als Ergebnis soll der `höchste Transfer` als Float-Wert zurückgegeben werden (\"hoechster_transfer\"). Hierbei sollen sowohl negative als auch positive Transfers berücksichtigt werden.\n",
    "</div>\n",
    "<div class=\"alert alert-block alert-info\">\n",
    "\n",
    "### Hilfe\n",
    "Sie können Ihre Lösung mit den automatisierten [Tests](#Automatische-Tests) weiter unten im Dokument überprüfen.<br>\n",
    "Eine Einführung in die `For-Schleifen` in Python finden Sie [hier](../../50_loops/for_loop.ipynb).\n",
    "</div>"
   ],
   "cell_type": "markdown",
   "metadata": {
    "nbgrader": {
     "grade": false,
     "grade_id": "cell-57c7bad7491db7f6",
     "locked": true,
     "schema_version": 1,
     "solution": false
    }
   }
  },
  {
   "cell_type": "code",
   "execution_count": null,
   "metadata": {
    "nbgrader": {
     "grade": false,
     "grade_id": "cell-5186165662b3ed1f",
     "locked": false,
     "schema_version": 1,
     "solution": true
    }
   },
   "outputs": [],
   "source": [
    "###START\n",
    "\n",
    "###ENDE"
   ]
  },
  {
   "cell_type": "markdown",
   "metadata": {
    "nbgrader": {
     "grade": false,
     "grade_id": "cell-f66c70ce4cfb1fc5",
     "locked": true,
     "schema_version": 1,
     "solution": false
    }
   },
   "source": [
    "  ***\n",
    "  # Automatische Tests\n",
    "  Ab hier finden Sie einige automatisierte Tests um Ihre Lösungen zu überprüfen. Um Ihre Lösung zu prüfen führen Sie bitte zuerst die Zelle mit Ihrer Lösung und danach die Zelle mit dem zugehörigen Test aus.\n"
   ]
  },
  {
   "cell_type": "code",
   "execution_count": null,
   "metadata": {},
   "outputs": [],
   "source": [
    "import sys\n",
    "sys.path.append(\"../..\")\n",
    "from nose.tools import assert_equal, assert_not_equal\n",
    "from utils import * \n",
    "\n",
    "try:\n",
    "    transfers = [+100.45, -26.89, -23.00, +210.00, +234.00]\n",
    "    Erg = analyse_transfers(transfers)\n",
    "    expected_out = 234\n",
    "    assert_equal(Erg, expected_out)\n",
    "    print(\"[OK] Die höchste Transaktion wurde korrekt berechnet!\")\n",
    "except AssertionError as e:\n",
    "    print(\"[FEHLER] Es wurde\",Erg ,\"als höchste Transaktion berechnet, obwohl \", expected_out, \"die richtige Transaktion wäre.\")\n",
    "    print(\"       \",e)\n",
    "except Exception as e:\n",
    "    print(\"[FEHLER]\", friendly_exceptions.msg(e))\n",
    "\n",
    "try:\n",
    "    transfers = [+200.00, -200.00, +200.00, -200.00]\n",
    "    Erg = analyse_transfers(transfers)\n",
    "    expected_out = 200\n",
    "    assert_equal(Erg, expected_out)\n",
    "    print(\"[OK] Die höchste Transaktion wurde korrekt berechnet!\")\n",
    "except AssertionError as e:\n",
    "    print(\"[FEHLER] Es wurde\",Erg ,\"als höchste Transaktion berechnet, obwohl \", expected_out, \"die richtige Transaktion wäre.\")\n",
    "    print(\"       \",e)\n",
    "except Exception as e:\n",
    "    print(\"[FEHLER]\", friendly_exceptions.msg(e))\n",
    "\n",
    "try:\n",
    "    transfers = [+15.00]\n",
    "    Erg = analyse_transfers(transfers)\n",
    "    expected_out = 15\n",
    "    assert_equal(Erg, expected_out)\n",
    "    print(\"[OK] Die höchste Transaktion wurde korrekt berechnet!\")\n",
    "except AssertionError as e:\n",
    "    print(\"[FEHLER] Es wurde\",Erg ,\"als höchste Transaktion berechnet, obwohl \", expected_out, \"die richtige Transaktion wäre.\")\n",
    "    print(\"       \",e)\n",
    "except Exception as e:\n",
    "    print(\"[FEHLER]\", friendly_exceptions.msg(e))\n",
    "\n",
    "try:\n",
    "    transfers = [+300.00, -500.00, -23.00, +210.00, +234.00]\n",
    "    Erg = analyse_transfers(transfers)\n",
    "    expected_out = -500\n",
    "    assert_equal(Erg, expected_out)\n",
    "    print(\"[OK] Die höchste Transaktion wurde korrekt berechnet!\")\n",
    "except AssertionError as e:\n",
    "    print(\"[FEHLER] Es wurde\",Erg ,\"als höchste Transaktion berechnet, obwohl \", expected_out, \"die richtige Transaktion wäre.\")\n",
    "    print(\"       \",e)\n",
    "except Exception as e:\n",
    "    print(\"[FEHLER]\", friendly_exceptions.msg(e))"
   ]
  }
 ],
 "metadata": {
  "celltoolbar": "Create Assignment",
  "file_extension": ".py",
  "kernelspec": {
   "display_name": "Python 3",
   "language": "python",
   "name": "python3"
  },
  "language_info": {
   "codemirror_mode": {
    "name": "ipython",
    "version": 3
   },
   "file_extension": ".py",
   "mimetype": "text/x-python",
   "name": "python",
   "nbconvert_exporter": "python",
   "pygments_lexer": "ipython3",
   "version": "3.7.2"
  },
  "mimetype": "text/x-python",
  "name": "python",
  "npconvert_exporter": "python",
  "pygments_lexer": "ipython3",
  "version": 3
 },
 "nbformat": 4,
 "nbformat_minor": 2
}