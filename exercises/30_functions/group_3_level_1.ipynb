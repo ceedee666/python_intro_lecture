{
 "cells": [
  {
   "source": [
    "<div class=\"alert alert-block alert-warning\">\n",
    "\n",
    " # Aufgabe 1\n",
    "\n",
    " In einer Bank sollen Kreditkartenanträge zukünftig mittels eines Computerprogramms automatisch bearbeitet werden. Sie sollen nun das Regelwerk zur Entscheidung über Anträge mittels `Bedingungen` in einem Python Programm umsetzen.\n",
    " Im zweiten Schritt soll überprüft werden ob das Einkommen eines Antragstellers über 1500€ liegt. Nur dann soll eine Kreditkarte ausgestellt werden. Andernfalls ist der Antragsteller nicht berechtigt eine Kreditkarte zu erhalten.\n",
    "\n",
    " Implementieren Sie nun die Funktion `anfrage_verifikation`. Diese Funktion erhält einen Parameter `monatliches_einkommen`, welcher in Form eines float-Wertes das monatliche Einkommen des Antragstellers speichert.\n",
    " Als Ergebnis soll in Form eines Boolean-Wertes zurückgegeben werden ob der Antragsteller berechtigt ist eine Kreditkarte zu erhalten. Ist das monatliche Einkommen unter oder gleich 1500€ so geben Sie `False` zurück. Ansonsten `True`.\n",
    " **Geben Sie zusätzlich mittels print() eine Meldung in die Konsole aus ob der Antrag angenommen oder abgelehnt wird.**\n",
    "</div>\n",
    "<div class=\"alert alert-block alert-info\">\n",
    "\n",
    " ### Hilfe\n",
    " Sie können Ihre Lösung mit den automatisierten [Tests](#Automatische-Tests) weiter unten im Dokument überprüfen.<br>\n",
    " Eine Einführung in die `Kontrollstrukturen` in Python finden Sie [hier](../../30_conditionals/10_conditionals.ipynb).\n",
    " </div>"
   ],
   "cell_type": "markdown",
   "metadata": {
    "nbgrader": {
     "grade": false,
     "grade_id": "cell-1470d175fc193de3",
     "locked": true,
     "schema_version": 1,
     "solution": false
    }
   }
  },
  {
   "cell_type": "code",
   "execution_count": null,
   "metadata": {
    "nbgrader": {
     "grade": false,
     "grade_id": "cell-1eb95cc76568a4e6",
     "locked": false,
     "schema_version": 1,
     "solution": true
    }
   },
   "outputs": [],
   "source": [
    "###START\n",
    "\n",
    "###ENDE"
   ]
  },
  {
   "cell_type": "markdown",
   "metadata": {
    "nbgrader": {
     "grade": false,
     "grade_id": "cell-a4a7ab3b814138d0",
     "locked": true,
     "schema_version": 1,
     "solution": false
    }
   },
   "source": [
    " ***\n",
    " # Automatische Tests\n",
    " Ab hier finden Sie einige automatisierte Tests um Ihre Lösungen zu überprüfen. Um Ihre Lösung zu prüfen führen Sie bitte zuerst die Zelle mit Ihrer Lösung und danach die Zelle mit dem zugehörigen Test aus.\n"
   ]
  },
  {
   "cell_type": "code",
   "execution_count": null,
   "metadata": {},
   "outputs": [],
   "source": [
    "import sys\n",
    "sys.path.append(\"../..\")\n",
    "from nose.tools import assert_equal, assert_not_equal\n",
    "from utils import * \n",
    "\n",
    "try:\n",
    "    monthly_income = 3000\n",
    "    Erg = anfrage_verifikation(monthly_income)\n",
    "    expected_out = True\n",
    "    assert_equal(Erg, expected_out)\n",
    "    print(\"[OK] Der Antrag wurde korrekt beantwortet!\")\n",
    "except AssertionError as e:\n",
    "    print(\"[FEHLER] Der Antrag wurde mit\",Erg ,\"beantwortet, obwohl \", expected_out, \"die richtige Antwort wäre.\")\n",
    "    print(\"       \",e)\n",
    "except Exception as e:\n",
    "    print(\"[FEHLER]\", friendly_exceptions.msg(e))\n",
    "\n",
    "try:\n",
    "    monthly_income = 200\n",
    "    Erg = anfrage_verifikation(monthly_income)\n",
    "    expected_out = False\n",
    "    assert_equal(Erg, expected_out)\n",
    "    print(\"[OK] Der Antrag wurde korrekt beantwortet!\")\n",
    "except AssertionError as e:\n",
    "    print(\"[FEHLER] Der Antrag wurde mit\",Erg ,\"beantwortet, obwohl \", expected_out, \"die richtige Antwort wäre.\")\n",
    "    print(\"       \",e)\n",
    "except Exception as e:\n",
    "    print(\"[FEHLER]\", friendly_exceptions.msg(e))\n",
    "\n",
    "try:\n",
    "    monthly_income = 1500\n",
    "    Erg = anfrage_verifikation(monthly_income)\n",
    "    expected_out = False\n",
    "    assert_equal(Erg, expected_out)\n",
    "    print(\"[OK] Der Antrag wurde korrekt beantwortet!\")\n",
    "except AssertionError as e:\n",
    "    print(\"[FEHLER] Der Antrag wurde mit\",Erg ,\"beantwortet, obwohl \", expected_out, \"die richtige Antwort wäre.\")\n",
    "    print(\"       \",e)\n",
    "except Exception as e:\n",
    "    print(\"[FEHLER]\", friendly_exceptions.msg(e))\n",
    "\n",
    "try:\n",
    "    monthly_income = 1500.01\n",
    "    Erg = anfrage_verifikation(monthly_income)\n",
    "    expected_out = True\n",
    "    assert_equal(Erg, expected_out)\n",
    "    print(\"[OK] Der Antrag wurde korrekt beantwortet!\")\n",
    "except AssertionError as e:\n",
    "    print(\"[FEHLER] Der Antrag wurde mit\",Erg ,\"beantwortet, obwohl \", expected_out, \"die richtige Antwort wäre.\")\n",
    "    print(\"       \",e)\n",
    "except Exception as e:\n",
    "    print(\"[FEHLER]\", friendly_exceptions.msg(e))"
   ]
  }
 ],
 "metadata": {
  "celltoolbar": "Create Assignment",
  "file_extension": ".py",
  "kernelspec": {
   "display_name": "Python 3",
   "language": "python",
   "name": "python3"
  },
  "language_info": {
   "codemirror_mode": {
    "name": "ipython",
    "version": 3
   },
   "file_extension": ".py",
   "mimetype": "text/x-python",
   "name": "python",
   "nbconvert_exporter": "python",
   "pygments_lexer": "ipython3",
   "version": "3.7.2"
  },
  "mimetype": "text/x-python",
  "name": "python",
  "npconvert_exporter": "python",
  "pygments_lexer": "ipython3",
  "version": 3
 },
 "nbformat": 4,
 "nbformat_minor": 2
}