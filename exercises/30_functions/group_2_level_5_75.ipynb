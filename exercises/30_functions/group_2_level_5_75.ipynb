{
 "cells": [
  {
   "source": [
    "<div class=\"alert alert-block alert-warning\">\n",
    "\n",
    "# Aufgabe 5\n",
    "\n",
    "Im Rahmen der Materialverwaltung soll ein Programm zur automatischen Berechnung eines Materialbestandes, anhand von Eingängen und Abgängen eines Materials in einer Lagerhalle, implementiert werden.  \n",
    "**Allerdings sollen Sie hierbei auf Schleifen verzichten. Lösen Sie diese Aufgabe durch eine rekursive Funktion.  \n",
    "Das heißt die Funktion soll sich immer wieder selbst aufrufen mit einem veränderten Parameter.**\n",
    "\n",
    "Implementieren Sie nun die Funktion `kalkuliere_bestand`. Diese Funktion erhält als Parameter eine Liste `eingehend_ausgehend`, welche in Form von Integer-Werten die Materialeingänge und Abgänge in die Lagerhalle angibt (in etwa `[+500, -200, +70, -65]`).  \n",
    "Als Ergebnis soll der Materialbestand in Form eines Integer-Wertes zurückgegeben werden.\n",
    "</div>\n",
    "<div class=\"alert alert-block alert-info\">\n",
    "\n",
    "### Hilfe\n",
    "Sie können Ihre Lösung mit den automatisierten [Tests](#Automatische-Tests) weiter unten im Dokument überprüfen.<br>\n",
    "Eine Einführung in die `For-Schleifen` in Python finden Sie [hier](../../50_loops/for_loop.ipynb).\n",
    "</div>"
   ],
   "cell_type": "markdown",
   "metadata": {
    "nbgrader": {
     "grade": false,
     "grade_id": "cell-2f5dc16f48991de2",
     "locked": true,
     "schema_version": 1,
     "solution": false
    }
   }
  },
  {
   "cell_type": "code",
   "execution_count": 1,
   "metadata": {
    "nbgrader": {
     "grade": false,
     "grade_id": "cell-642de40a4e8b0627",
     "locked": false,
     "schema_version": 1,
     "solution": true
    }
   },
   "outputs": [],
   "source": [
    "### Dies ist lediglich ein Pseudocode. Sie müssen den Code komplett umschreiben, die Logik sollte jedoch erhalten bleiben\n",
    "\n",
    "def kalkuliere_bestand(eingehend_ausgehend):\n",
    "    if (die Liste hat nur einen Eintrag):\n",
    "        return (Eintrag aus der Liste)\n",
    "    else:\n",
    "        return (erster Eintrag aus Liste) + kalkuliere_bestand(Liste ab dem zweiten Element)"
   ]
  },
  {
   "cell_type": "markdown",
   "metadata": {
    "nbgrader": {
     "grade": false,
     "grade_id": "cell-cbdd14e9aec2bf09",
     "locked": true,
     "schema_version": 1,
     "solution": false
    }
   },
   "source": [
    "  ***\n",
    "  # Automatische Tests\n",
    "  Ab hier finden Sie einige automatisierte Tests um Ihre Lösungen zu überprüfen. Um Ihre Lösung zu prüfen führen Sie bitte zuerst die Zelle mit Ihrer Lösung und danach die Zelle mit dem zugehörigen Test aus.\n"
   ]
  },
  {
   "cell_type": "code",
   "execution_count": null,
   "metadata": {},
   "outputs": [],
   "source": [
    "import sys\n",
    "sys.path.append(\"../..\")\n",
    "from nose.tools import assert_equal, assert_not_equal\n",
    "from utils import * \n",
    "\n",
    "try:\n",
    "    incoming_outgoing = [+519, -250, -19, -12, +234]\n",
    "    Erg = kalkuliere_bestand(incoming_outgoing)\n",
    "    expected_out = 472\n",
    "    assert_equal(Erg, expected_out)\n",
    "    print(\"[OK] Der Bestand wurde korrekt berechnet!\")\n",
    "except AssertionError as e:\n",
    "    print(\"[FEHLER] Es wurde\",Erg ,\"als Bestand berechnet, obwohl \", expected_out, \"der richtige Bestand wäre.\")\n",
    "    print(\"       \",e)\n",
    "except Exception as e:\n",
    "    print(\"[FEHLER]\", friendly_exceptions.msg(e))\n",
    "\n",
    "try:\n",
    "    incoming_outgoing = [+99999999, -1234567, -9876543]\n",
    "    Erg = kalkuliere_bestand(incoming_outgoing)\n",
    "    expected_out = 88888889\n",
    "    assert_equal(Erg, expected_out)\n",
    "    print(\"[OK] Der Bestand wurde korrekt berechnet!\")\n",
    "except AssertionError as e:\n",
    "    print(\"[FEHLER] Es wurde\",Erg ,\"als Bestand berechnet, obwohl \", expected_out, \"der richtige Bestand wäre.\")\n",
    "    print(\"       \",e)\n",
    "except Exception as e:\n",
    "    print(\"[FEHLER]\", friendly_exceptions.msg(e))\n",
    "\n",
    "try:\n",
    "    incoming_outgoing = [-12, +20]\n",
    "    Erg = kalkuliere_bestand(incoming_outgoing)\n",
    "    expected_out = 8\n",
    "    assert_equal(Erg, expected_out)\n",
    "    print(\"[OK] Der Bestand wurde korrekt berechnet!\")\n",
    "except AssertionError as e:\n",
    "    print(\"[FEHLER] Es wurde\",Erg ,\"als Bestand berechnet, obwohl \", expected_out, \"der richtige Bestand wäre.\")\n",
    "    print(\"       \",e)\n",
    "except Exception as e:\n",
    "    print(\"[FEHLER]\", friendly_exceptions.msg(e))"
   ]
  }
 ],
 "metadata": {
  "celltoolbar": "Create Assignment",
  "file_extension": ".py",
  "kernelspec": {
   "display_name": "Python 3",
   "language": "python",
   "name": "python3"
  },
  "language_info": {
   "codemirror_mode": {
    "name": "ipython",
    "version": 3
   },
   "file_extension": ".py",
   "mimetype": "text/x-python",
   "name": "python",
   "nbconvert_exporter": "python",
   "pygments_lexer": "ipython3",
   "version": "3.7.2"
  },
  "mimetype": "text/x-python",
  "name": "python",
  "npconvert_exporter": "python",
  "pygments_lexer": "ipython3",
  "version": 3
 },
 "nbformat": 4,
 "nbformat_minor": 2
}