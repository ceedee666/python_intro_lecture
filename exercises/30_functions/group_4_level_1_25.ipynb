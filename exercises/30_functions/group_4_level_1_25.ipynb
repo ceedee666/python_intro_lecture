{
 "cells": [
  {
   "source": [
    "<div class=\"alert alert-block alert-warning\">\n",
    "\n",
    "# Aufgabe 1\n",
    "\n",
    "Sie arbeiten für eine Firma, welche sich auf das Herstellen und Beziehen von Sitzen spezialisiert hat. \n",
    "Ein normaler Vorgang benötigt Leder, eine Naht , Arbeiter und sonstige individuelle Teile.\n",
    "Sie sind der Abteilungsleiter und müssen Ihren Gewinn für das Quartal ausrechnen. Ihr Gewinn setzt sich üblicherweise aus Umsatz und Kosten zusammen. Da Sie für jeden Kunden individuelle Sitze anfertigen, ist für jeden ein Datensatz mit den verwendeten Materialien und den individuell bezahlten Preis des Kunden von der Buchhaltung hinterlegt. Am Ende Ihrer Berechnung möchte Ihr Vorgesetzter den Umsatz, die Kosten und den Gewinn separat ausgerechnet haben. Geben Sie dazu diesen als Return Wert zurück in der Reihenfolge Gewinn, Umsatz , Kosten.\n",
    "</div>\n",
    "<div class=\"alert alert-block alert-info\">\n",
    "\n",
    "### Hilfe\n",
    "\n",
    "1. Die Materialien sind als einzelne Kostenpunkte hinterlegt.\n",
    "2. Die Materialien sind \"Leder\", \"Naht\" , \"Arbeitsaufwand\" , \"Sonstiges\" und Preis ist \"Preis\"\n",
    "3. Die Materialien und der Preis sind als Dictionaries gespeichert.\n",
    "4. Achten Sie auf die Reihenfolge der Reutrn Werte.\n",
    "</div>"
   ],
   "cell_type": "markdown",
   "metadata": {}
  },
  {
   "cell_type": "code",
   "execution_count": null,
   "metadata": {},
   "outputs": [],
   "source": [
    "def Ermittle_Gewinn(Kunden):\n",
    "###START\n",
    "    Umsatz = 0\n",
    "    Kosten = 0\n",
    "\n",
    "    #Berechnen Sie hier die Kosten und den Umsatz einzeln mittels for\n",
    "\n",
    "    #Berechnen Sie nun den Gewinn\n",
    "\n",
    "    return (Gewinn,Umsatz,Kosten)\n",
    "###ENDE"
   ]
  },
  {
   "cell_type": "markdown",
   "metadata": {},
   "source": [
    "# Automatische Tests\n",
    "\n",
    "Ab hier finden Sie einige automatisierte Tests um Ihre Lösungen zu überprüfen. Um Ihre Lösung zu prüfen führen Sie bitte zuerst die Zelle mit Ihrer Lösung und danach die Zelle mit dem zugehörigen Test aus.\n"
   ]
  },
  {
   "cell_type": "code",
   "execution_count": null,
   "metadata": {},
   "outputs": [],
   "source": [
    "import sys\n",
    "sys.path.append(\"../..\")\n",
    "from nose.tools import assert_equal, assert_not_equal\n",
    "from utils import * \n",
    "\n",
    "try:\n",
    "    Kunden = {0: {'Leder': 234.4791167723418, 'Naht': 3.226276655035076, 'Arbeitsaufwand': 13.132430947088281, 'Sonstiges': 4.0321148851438595, 'Preis': 893.0301682680191}, 1: {'Leder': 184.1774217578108, 'Naht': 5.982557628638531, 'Arbeitsaufwand': 19.49412567664513, 'Sonstiges': 1.9112848139388228, 'Preis': 1213.1922250153984}, 2: {'Leder': 582.6599533285507, 'Naht': 4.658803719448294, 'Arbeitsaufwand': 6.765575882740963, 'Sonstiges': 1.781351554138747, 'Preis': 1180.6866049062583}, 3: {'Leder': 467.9667958210671, 'Naht': 2.707282847557061, 'Arbeitsaufwand': 12.053147990353837, 'Sonstiges': 5.228886614382748, 'Preis': 1327.4614861143855}, 4: {'Leder': 97.38148953127715, 'Naht': 2.45750543808882, 'Arbeitsaufwand': 8.586375545215446, 'Sonstiges': 8.63403865780062, 'Preis': 359.0728656446403}, 5: {'Leder': 460.027189787281, 'Naht': 5.4882894461889, 'Arbeitsaufwand': 15.780214020358605, 'Sonstiges': 9.79479805860713, 'Preis': 466.1926614607518}, 6: {'Leder': 538.9949998815366, 'Naht': 2.4070008632229762, 'Arbeitsaufwand': 9.702297167542046, 'Sonstiges': 3.419063202853707, 'Preis': 1314.0695233665099}, 7: {'Leder': 450.236133157969, 'Naht': 3.946359318892029, 'Arbeitsaufwand': 14.756841013297011, 'Sonstiges': 9.069594511843116, 'Preis': 1468.0176443330224}, 8: {'Leder': 113.25416745375958, 'Naht': 2.57574597302366, 'Arbeitsaufwand': 18.468345799448404, 'Sonstiges': 6.578870181732523, 'Preis': 1131.7651056687757}, 9: {'Leder': 160.26584056172683, 'Naht': 3.6219932622837665, 'Arbeitsaufwand': 8.498654814184224, 'Sonstiges': 7.959181991486019, 'Preis': 1096.8340523451648}} \n",
    "    Gewinn = 6938.160220588425 \n",
    "    Umsatz = 10450.322337122925 \n",
    "    Kosten = 3512.1621165345005\n",
    "    Erg = Ermittle_Gewinn(Kunden)\n",
    "    expected_out = (Gewinn,Umsatz,Kosten)\n",
    "    assert_equal(Erg, expected_out)\n",
    "    print(\"[OK] Gewinn, Umsatz und Kosten sind in Ordnung!\")\n",
    "except AssertionError as e:\n",
    "    print(\"[FEHLER] Gewinn, Umsatz und Kosten von\", Erg , \"sind nicht richtig und sollten \", expected_out ,\"sein.\")\n",
    "    print(\"       \",e)\n",
    "except Exception as e:\n",
    "    print(\"[FEHLER]\", friendly_exceptions.msg(e))\n",
    "\n",
    "try:\n",
    "    Kunden = {0: {'Leder': 357.6554515656195, 'Naht': 3.0249385763573042, 'Arbeitsaufwand': 10.657370066353584, 'Sonstiges': 8.372184289024899, 'Preis': 656.3337910430347}, 1: {'Leder': 170.16563789456285, 'Naht': 5.849022803331895, 'Arbeitsaufwand': 15.62479133029997, 'Sonstiges': 0.7594639909076184, 'Preis': 752.3298443885056}, 2: {'Leder': 355.40432659088947, 'Naht': 4.589899570277323, 'Arbeitsaufwand': 8.742028061389128, 'Sonstiges': 6.839270179226368, 'Preis': 983.9070699852448}, 3: {'Leder': 389.3058417712383, 'Naht': 4.75096060167794, 'Arbeitsaufwand': 4.283863150370732, 'Sonstiges': 4.8977127460878345, 'Preis': 1491.779146864581}, 4: {'Leder': 519.0627715787368, 'Naht': 5.903576186094733, 'Arbeitsaufwand': 11.233049240730043, 'Sonstiges': 5.524158155932222, 'Preis': 1431.1180459747095}, 5: {'Leder': 188.12921108991864, 'Naht': 5.415784818389151, 'Arbeitsaufwand': 5.918645048105504, 'Sonstiges': 4.653695554750241, 'Preis': 1465.8361380223114}, 6: {'Leder': 109.83401360479014, 'Naht': 4.33097701217644, 'Arbeitsaufwand': 11.553081667626719, 'Sonstiges': 4.62984470480478, 'Preis': 1388.4013391931164}, 7: {'Leder': 156.20645886892336, 'Naht': 4.9794173563145865, 'Arbeitsaufwand': 13.941718327506663, 'Sonstiges': 6.2452644890025475, 'Preis': 280.19392681557747}, 8: {'Leder': 493.6139434589204, 'Naht': 3.795058447935918, 'Arbeitsaufwand': 9.554719753904049, 'Sonstiges': 9.402064717854287, 'Preis': 1445.15528957461}, 9: {'Leder': 197.13956091561272, 'Naht': 4.603988990295827, 'Arbeitsaufwand': 13.41746053953452, 'Sonstiges': 5.163602239432291, 'Preis': 641.0911996383938}}\n",
    "    Gewinn = 7390.970961545178 \n",
    "    Umsatz = 10536.145791500086 \n",
    "    Kosten = 3145.174829954908\n",
    "    Erg = Ermittle_Gewinn(Kunden)\n",
    "    expected_out = (Gewinn,Umsatz,Kosten)\n",
    "    assert_equal(Erg, expected_out)\n",
    "    print(\"[OK] Gewinn, Umsatz und Kosten sind in Ordnung!\")\n",
    "except AssertionError as e:\n",
    "    print(\"[FEHLER] Gewinn, Umsatz und Kosten von\", Erg , \"sind nicht richtig und sollten \", expected_out ,\"sein.\")\n",
    "    print(\"       \",e)\n",
    "except Exception as e:\n",
    "    print(\"[FEHLER]\", friendly_exceptions.msg(e))\n",
    "\n",
    "try:\n",
    "    Kunden = {0: {'Leder': 200.95940649456315, 'Naht': 2.7500194946158647, 'Arbeitsaufwand': 7.688575432078673, 'Sonstiges': 3.8755998145216717, 'Preis': 759.4769590744769}, 1: {'Leder': 261.1418406082363, 'Naht': 3.679290019259169, 'Arbeitsaufwand': 2.9899439004488606, 'Sonstiges': 2.9349440822626605, 'Preis': 1398.205586984651}, 2: {'Leder': 112.85795774186312, 'Naht': 2.812141055018251, 'Arbeitsaufwand': 5.678559190864766, 'Sonstiges': 0.9424606520493095, 'Preis': 442.599812054293}, 3: {'Leder': 583.43157482872, 'Naht': 4.200274035742259, 'Arbeitsaufwand': 17.68967037793398, 'Sonstiges': 7.295225682518296, 'Preis': 403.4888401377025}, 4: {'Leder': 593.4222912689143, 'Naht': 5.195582377329746, 'Arbeitsaufwand': 2.2956948603023313, 'Sonstiges': 7.741195690030599, 'Preis': 727.6467903525154}, 5: {'Leder': 482.09190689822793, 'Naht': 3.8640602139930653, 'Arbeitsaufwand': 6.979876003509787, 'Sonstiges': 2.961863219973381, 'Preis': 814.1958149770888}, 6: {'Leder': 401.25332443288494, 'Naht': 5.679974368641867, 'Arbeitsaufwand': 10.139432077994199, 'Sonstiges': 0.22438768338798543, 'Preis': 1144.0096340392784}, 7: {'Leder': 155.274052800228, 'Naht': 4.9827571037907425, 'Arbeitsaufwand': 2.735318186193518, 'Sonstiges': 3.3669848173974004, 'Preis': 1239.4117789720772}, 8: {'Leder': 47.564674383985114, 'Naht': 4.154092245422891, 'Arbeitsaufwand': 15.22632220056582, 'Sonstiges': 0.5319567958703086, 'Preis': 434.93713931429306}, 9: {'Leder': 39.36120938393101, 'Naht': 2.63572075704643, 'Arbeitsaufwand': 9.842385113235098, 'Sonstiges': 9.985046829600527, 'Preis': 716.8024801721965}} \n",
    "    Kosten = 3038.437593123153\n",
    "    Umsatz = 8080.774836078573\n",
    "    Gewinn = 5042.33724295542 \n",
    "    Erg = Ermittle_Gewinn(Kunden)\n",
    "    expected_out = (Gewinn,Umsatz,Kosten)\n",
    "    assert_equal(Erg, expected_out)\n",
    "    print(\"[OK] Gewinn, Umsatz und Kosten sind in Ordnung!\")\n",
    "except AssertionError as e:\n",
    "    print(\"[FEHLER] Gewinn, Umsatz und Kosten von\", Erg , \"sind nicht richtig und sollten \", expected_out ,\"sein.\")\n",
    "    print(\"       \",e)\n",
    "except Exception as e:\n",
    "    print(\"[FEHLER]\", friendly_exceptions.msg(e))"
   ]
  }
 ],
 "metadata": {
  "language_info": {
   "codemirror_mode": {
    "name": "ipython",
    "version": 3
   },
   "file_extension": ".py",
   "mimetype": "text/x-python",
   "name": "python",
   "nbconvert_exporter": "python",
   "pygments_lexer": "ipython3",
   "version": "3.8.0-final"
  },
  "orig_nbformat": 2,
  "kernelspec": {
   "name": "python38064bitbaef836a98804bf8802a43249a276387",
   "display_name": "Python 3.8.0 64-bit"
  }
 },
 "nbformat": 4,
 "nbformat_minor": 2
}