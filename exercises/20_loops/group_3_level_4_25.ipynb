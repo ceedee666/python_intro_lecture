{
 "cells": [
  {
   "source": [
    "# Aufgabe 4\n",
    "\n",
    "Im Rahmen der Materialverwaltung soll ein Programm zur automatischen Bewertung mehrerer Materialien implementiert werden. So sollen aus einer Liste mehrerer Materialien alle herausgefiltert werden, deren Lagerbestand unter dem Meldebestand von 200 liegt, damit diese neu bestellt werden können.  \n",
    "\n",
    "Implementieren Sie nun die Funktion `analyse_bestand`. Diese Funktion erhält als Parameter eine Liste `materialien`. Diese Liste besteht allerding aus mehreren Listen. So ist jedes Element der Liste `materialien` eine Liste bestehend aus dem Materialnamen als erstem Wert, gefolgt von dem Materialbestand als zweitem Wert. Die Liste sieht also in etwa so aus: `[[\"Schrauben\", 330], [\"Nägel\", 2500], [\"Muttern\", 150]]`.  \n",
    "\n",
    "Als Ergebnis soll eine Liste mit nur den Materialien unter dem Meldebestand von 200Stück zurückgegeben werden (`neuzubestellen`). Ergebnis für obiges Beispiel wäre also: `[[\"Muttern\", 150]]`\n",
    "\n",
    "\n",
    "\n",
    "### Hilfe\n",
    "Sie können Ihre Lösung mit den automatisierten [Tests](#Automatische-Tests) weiter unten im Dokument überprüfen.<br>\n",
    "Eine Einführung in die `For-Schleifen` in Python finden Sie [hier](../../50_loops/for_loop.ipynb)."
   ],
   "cell_type": "markdown",
   "metadata": {
    "nbgrader": {
     "grade": false,
     "grade_id": "cell-a7fb9e71f9e856ed",
     "locked": true,
     "schema_version": 1,
     "solution": false
    }
   }
  },
  {
   "cell_type": "code",
   "execution_count": null,
   "metadata": {
    "nbgrader": {
     "grade": false,
     "grade_id": "cell-15704bf10445fdef",
     "locked": false,
     "schema_version": 1,
     "solution": true
    }
   },
   "outputs": [],
   "source": [
    "def analyse_bestand(materialien):\n",
    "    \n",
    "    neuzubestellen = []\n",
    "    for material in materialien:\n",
    "        ###START\n",
    "        # Prüfe ob das Material einen Bestand von unter 200 hat und füge es gegebenenfalls zur Liste \"neuzubestellen\" hinzu\n",
    "        ###ENDE\n",
    "    return neuzubestellen\n",
    "\n",
    "print(\"Bei \\\"materialien = [[\\\"Schrauben\\\", 330], [\\\"Nägel\\\", 2500]]\\\" liefert Ihre Funktion:\", analyse_bestand([[\"Schrauben\", 330], [\"Nägel\", 150]]))"
   ]
  },
  {
   "cell_type": "markdown",
   "metadata": {
    "nbgrader": {
     "grade": false,
     "grade_id": "cell-75895a456d3e7990",
     "locked": true,
     "schema_version": 1,
     "solution": false
    }
   },
   "source": [
    "  ***\n",
    "  # Automatische Tests\n",
    "  Ab hier finden Sie einige automatisierte Tests um Ihre Lösungen zu überprüfen. Um Ihre Lösung zu prüfen führen Sie bitte zuerst die Zelle mit Ihrer Lösung und danach die Zelle mit dem zugehörigen Test aus.\n"
   ]
  },
  {
   "cell_type": "code",
   "execution_count": null,
   "metadata": {
    "nbgrader": {
     "grade": true,
     "grade_id": "cell-a74fc5bb73d9004c",
     "locked": true,
     "points": 0,
     "schema_version": 1,
     "solution": false
    }
   },
   "outputs": [],
   "source": [
    "try:\n",
    "    analyse_bestand([[\"Schrauben\", 330], [\"Nägel\", 2500]])\n",
    "except NotImplementedError:\n",
    "    print(\"Bitte entfernen Sie das \\\"raise NotImplementedError()\\\"\")"
   ]
  },
  {
   "cell_type": "markdown",
   "metadata": {
    "nbgrader": {
     "grade": false,
     "grade_id": "cell-be0bd8530cae2b4f",
     "locked": true,
     "schema_version": 1,
     "solution": false
    }
   },
   "source": [
    "## Test 1 - Richtige Filterung\n",
    "Es sollen die Materialien herausgefiltert werden, bei denen der Bestand unter 200 Stück liegt."
   ]
  },
  {
   "cell_type": "code",
   "execution_count": null,
   "metadata": {
    "nbgrader": {
     "grade": true,
     "grade_id": "cell-724ad39562732b91",
     "locked": true,
     "points": 0,
     "schema_version": 1,
     "solution": false
    }
   },
   "outputs": [],
   "source": [
    "from nose.tools import assert_equal\n",
    "\n",
    "materials = [[\"Schrauben\", 330], [\"Nägel\", 2500], [\"Muttern\", 150]]\n",
    "to_reorder = analyse_bestand(materials)\n",
    "try:\n",
    "    assert_equal(to_reorder, [[\"Muttern\", 150]])\n",
    "    print(\"Test 1 erfolgreich\")\n",
    "except AssertionError as e:\n",
    "    print(\"Das Material \\\"Muttern\\\" sollte als einziges Material zurückgegeben werden\")\n",
    "    print(e)\n",
    "    \n",
    "\n",
    "materials = [[\"Gewinde\", 230], [\"Knopfzellen\", 120]]\n",
    "to_reorder = analyse_bestand(materials)\n",
    "try:\n",
    "    assert_equal(to_reorder, [[\"Knopfzellen\", 120]])\n",
    "    print(\"Test 2 erfolgreich\")\n",
    "except AssertionError as e:\n",
    "    print(\"Das Material \\\"Knopfzellen\\\" sollte als einziges Material zurückgegeben werden\")\n",
    "    print(e)\n",
    "    \n",
    "\n",
    "materials = [[\"Mandeln\", 150], [\"Haselnüsse\", 2500], [\"Erdnüsse\", 300], [\"Haselnüsse\", 180]]\n",
    "to_reorder = analyse_bestand(materials)\n",
    "try:\n",
    "    assert_equal(to_reorder, [[\"Mandeln\", 150], [\"Haselnüsse\", 180]])\n",
    "    print(\"Test 3 erfolgreich\")\n",
    "except AssertionError as e:\n",
    "    print(\"Die Materialien \\\"Mandeln\\\" und \\\"Haselnüsse\\\" sollten als zurückgegeben werden\")\n",
    "    print(e)"
   ]
  }
 ],
 "metadata": {
  "celltoolbar": "Create Assignment",
  "file_extension": ".py",
  "kernelspec": {
   "display_name": "Python 3",
   "language": "python",
   "name": "python3"
  },
  "language_info": {
   "codemirror_mode": {
    "name": "ipython",
    "version": 3
   },
   "file_extension": ".py",
   "mimetype": "text/x-python",
   "name": "python",
   "nbconvert_exporter": "python",
   "pygments_lexer": "ipython3",
   "version": "3.7.2"
  },
  "mimetype": "text/x-python",
  "name": "python",
  "npconvert_exporter": "python",
  "pygments_lexer": "ipython3",
  "version": 3
 },
 "nbformat": 4,
 "nbformat_minor": 2
}