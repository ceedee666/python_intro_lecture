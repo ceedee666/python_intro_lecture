{
 "cells": [
  {
   "source": [
    "# Aufgabe 3\n",
    "\n",
    "Im Rahmen der Steuerrechnung soll ein Programm zur automatischen Analyse der Umsatzsteuer, welche von Ihrem Unternehmen eingenommen wird, implementiert werden. Dazu sollen die Netto-Verkaufspreise analysiert werden. So soll aus einer Liste mit vielen Einnahmen herausgefiltert werden, welches die höchste eingenommene Umsatzsteuer ist. Außerdem sollen der Durchschnitt sowie die Summe aller eingenommenen Umsatzsteuern berechnet werden.\n",
    "\n",
    "Implementieren Sie nun die Funktion `analyse_steuern`. Diese Funktion erhält als Parameter eine Liste `verkaeufe`, welche in Form von Float-Werten die Netto-Verkaufspreise aller verkauften Artikel angibt (in etwa `[500.00, 299.99, 1.79, 149.49]`).   \n",
    "Als Ergebnis soll der gesamte Betrag, welcher durch die Umsatzsteuer eingenommen wurde, in Form eines Float-Wertes zurückgegeben werden (\"steuern\").   \n",
    "Die durchschnittliche Höhe der Umsatzsteuer (\"durchschnitt\").  \n",
    "Der höchste Betrag, welcher durch die Umsatzsteuer an einem Artikel eingenommen wurde, in Form eines Float-Wertes (\"hoechste_steuern\").   \n",
    "\n",
    "Tipp: $ Umsatzsteuer = Nettobetrag * 0.19 $\n",
    "\n",
    "### Hilfe\n",
    "Sie können Ihre Lösung mit den automatisierten [Tests](#Automatische-Tests) weiter unten im Dokument überprüfen.<br>\n",
    "Eine Einführung in die `For-Schleifen` in Python finden Sie [hier](../../50_loops/for_loop.ipynb)."
   ],
   "cell_type": "markdown",
   "metadata": {
    "nbgrader": {
     "grade": false,
     "grade_id": "cell-548c13fd68925536",
     "locked": true,
     "schema_version": 1,
     "solution": false
    }
   }
  },
  {
   "cell_type": "code",
   "execution_count": null,
   "metadata": {
    "nbgrader": {
     "grade": false,
     "grade_id": "cell-ea4effec3a83d25e",
     "locked": false,
     "schema_version": 1,
     "solution": true
    }
   },
   "outputs": [],
   "source": [
    "def analyse_steuern(verkaeufe):\n",
    "    \n",
    "    ###START\n",
    "    steuern = 0\n",
    "    hoechste_steuern = 0\n",
    "    for verkauf in verkaeufe:\n",
    "        # Berechne mit jedem Durchlauf eine neue Summe für \"steuern\"\n",
    "        # Prüfe außerdem ob die einzelne Umsatzsteuer die höchste ist\n",
    "            \n",
    "    durchschnitt = steuern / len(verkaeufe)\n",
    "    \n",
    "    ###ENDE\n",
    "    return steuern, durchschnitt, hoechste_steuern\n",
    "\n",
    "print(\"Bei \\\"verkaeufe = [20, 30, 40]\\\" liefert Ihre Funktion:\", analyse_steuern([20, 30, 40]))"
   ]
  },
  {
   "cell_type": "markdown",
   "metadata": {
    "nbgrader": {
     "grade": false,
     "grade_id": "cell-238c77e1e478a6b7",
     "locked": true,
     "schema_version": 1,
     "solution": false
    }
   },
   "source": [
    "  ***\n",
    "  # Automatische Tests\n",
    "  Ab hier finden Sie einige automatisierte Tests um Ihre Lösungen zu überprüfen. Um Ihre Lösung zu prüfen führen Sie bitte zuerst die Zelle mit Ihrer Lösung und danach die Zelle mit dem zugehörigen Test aus.\n"
   ]
  },
  {
   "cell_type": "code",
   "execution_count": null,
   "metadata": {
    "nbgrader": {
     "grade": true,
     "grade_id": "cell-8baa31006b25d951",
     "locked": true,
     "points": 0,
     "schema_version": 1,
     "solution": false
    }
   },
   "outputs": [],
   "source": [
    "try:\n",
    "    analyse_steuern([0, 0, 0, 0])\n",
    "except NotImplementedError:\n",
    "    print(\"Bitte entfernen Sie das \\\"raise NotImplementedError()\\\"\")"
   ]
  },
  {
   "source": [
    "## Test 1 - Korrekte Berechnung der gesamten Umsatzsteuer\n",
    "Die Umsatzsteuer (`steuern`) soll für jede Liste korrekt berechnet werden."
   ],
   "cell_type": "markdown",
   "metadata": {
    "nbgrader": {
     "grade": false,
     "grade_id": "cell-b419954c1c992b20",
     "locked": true,
     "schema_version": 1,
     "solution": false
    }
   }
  },
  {
   "cell_type": "code",
   "execution_count": null,
   "metadata": {
    "nbgrader": {
     "grade": true,
     "grade_id": "cell-6a7e886faa4b80e2",
     "locked": true,
     "points": 0,
     "schema_version": 1,
     "solution": false
    }
   },
   "outputs": [],
   "source": [
    "from nose.tools import assert_equal\n",
    "\n",
    "sales = [300, 250.45, 19.78, 123.56, 50.23]\n",
    "taxes = analyse_steuern(sales)\n",
    "try:\n",
    "    assert_equal(taxes[0], 141.3638)\n",
    "    print(\"Test 1 erfolgreich\")\n",
    "except AssertionError as e:\n",
    "    print(\"Das Ergebnis ist falsch\")\n",
    "    print(e)\n",
    "\n",
    "    \n",
    "sales = [99999999, 1234567, 9876543]\n",
    "taxes = analyse_steuern(sales)\n",
    "try:\n",
    "    assert_equal(taxes[0], 21111110.71)\n",
    "    print(\"Test 2 erfolgreich\")\n",
    "except AssertionError as e:\n",
    "    print(\"Das Ergebnis ist falsch\")\n",
    "    print(e)\n",
    "\n",
    "    \n",
    "sales = [12, 20]\n",
    "taxes = analyse_steuern(sales)\n",
    "try:\n",
    "    assert_equal(taxes[0], 6.08)\n",
    "    print(\"Test 3 erfolgreich\")\n",
    "except AssertionError as e:\n",
    "    print(\"Das Ergebnis ist falsch\")\n",
    "    print(e)"
   ]
  },
  {
   "source": [
    "## Test 2 - Korrekte Berechnung des Durchschnitts\n",
    "Der Durchschnitt (`durchschnitt`) soll für jede Liste korrekt berechnet werden."
   ],
   "cell_type": "markdown",
   "metadata": {
    "nbgrader": {
     "grade": false,
     "grade_id": "cell-1f08330ae6f23387",
     "locked": true,
     "schema_version": 1,
     "solution": false
    }
   }
  },
  {
   "cell_type": "code",
   "execution_count": null,
   "metadata": {
    "nbgrader": {
     "grade": true,
     "grade_id": "cell-70e120823526c483",
     "locked": true,
     "points": 0,
     "schema_version": 1,
     "solution": false
    }
   },
   "outputs": [],
   "source": [
    "from nose.tools import assert_equal\n",
    "\n",
    "sales = [500, 250.45, 19.78, 123.56, 50.23]\n",
    "average = analyse_steuern(sales)\n",
    "try:\n",
    "    assert_equal(average[1], 35.87276, \"Das Ergebnis ist falsch\")\n",
    "    print(\"Test 1 erfolgreich\")\n",
    "except AssertionError as e:\n",
    "    print(\"Das Ergebnis ist falsch\")\n",
    "    print(e)\n",
    "    \n",
    "\n",
    "sales = [99999999, 1234567, 9876543]\n",
    "average = analyse_steuern(sales)\n",
    "try:\n",
    "    assert_equal(average[1], 7037036.903333333, \"Das Ergebnis ist falsch\")\n",
    "    print(\"Test 2 erfolgreich\")\n",
    "except AssertionError as e:\n",
    "    print(\"Das Ergebnis ist falsch\")\n",
    "    print(e)\n",
    "    \n",
    "\n",
    "sales = [12, 20]\n",
    "average = analyse_steuern(sales)\n",
    "try:\n",
    "    assert_equal(average[1], 3.04)\n",
    "    print(\"Test 3 erfolgreich\")\n",
    "except AssertionError as e:\n",
    "    print(\"Das Ergebnis ist falsch\")\n",
    "    print(e)\n",
    "    \n",
    "\n",
    "sales = [20]\n",
    "average = analyse_steuern(sales)\n",
    "try:\n",
    "    assert_equal(average[1], 3.8)\n",
    "    print(\"Test 4 erfolgreich\")\n",
    "except AssertionError as e:\n",
    "    print(\"Das Ergebnis ist falsch\")\n",
    "    print(e)"
   ]
  },
  {
   "source": [
    "## Test 3 - Korrekte Bestimmung der höchsten Umsatzsteuer\n",
    "Der Betrag (`hoechste_steuern`) soll für jede Liste korrekt herausgefiltert werden."
   ],
   "cell_type": "markdown",
   "metadata": {
    "nbgrader": {
     "grade": false,
     "grade_id": "cell-5fe3e7d0739a97af",
     "locked": true,
     "schema_version": 1,
     "solution": false
    }
   }
  },
  {
   "cell_type": "code",
   "execution_count": null,
   "metadata": {
    "nbgrader": {
     "grade": true,
     "grade_id": "cell-bd0f620abcd1ffda",
     "locked": true,
     "points": 0,
     "schema_version": 1,
     "solution": false
    }
   },
   "outputs": [],
   "source": [
    "from nose.tools import assert_equal\n",
    "\n",
    "sales = [300, 250.45, 19.78, 123.56, 50.23]\n",
    "highest_tax = analyse_steuern(sales)\n",
    "try:\n",
    "    assert_equal(highest_tax[2], 57)\n",
    "    print(\"Test 1 erfolgreich\")\n",
    "except AssertionError as e:\n",
    "    print(\"Das Ergebnis ist falsch\")\n",
    "    print(e)\n",
    "    \n",
    "\n",
    "sales = [99999999, 1234567, 9876543]\n",
    "highest_tax = analyse_steuern(sales)\n",
    "try:\n",
    "    assert_equal(highest_tax[2], 18999999.81)\n",
    "    print(\"Test 2 erfolgreich\")\n",
    "except AssertionError as e:\n",
    "    print(\"Das Ergebnis ist falsch\")\n",
    "    print(e)\n",
    "    \n",
    "\n",
    "sales = [12, 20]\n",
    "highest_tax = analyse_steuern(sales)\n",
    "try:\n",
    "    assert_equal(highest_tax[2], 3.8)\n",
    "    print(\"Test 3 erfolgreich\")\n",
    "except AssertionError as e:\n",
    "    print(\"Das Ergebnis ist falsch\")\n",
    "    print(e)\n",
    "    \n",
    "\n",
    "sales = [20]\n",
    "highest_tax = analyse_steuern(sales)\n",
    "try:\n",
    "    assert_equal(highest_tax[2], 3.8)\n",
    "    print(\"Test 4 erfolgreich\")\n",
    "except AssertionError as e:\n",
    "    print(\"Das Ergebnis ist falsch\")\n",
    "    print(e)"
   ]
  }
 ],
 "metadata": {
  "celltoolbar": "Create Assignment",
  "file_extension": ".py",
  "kernelspec": {
   "display_name": "Python 3",
   "language": "python",
   "name": "python3"
  },
  "language_info": {
   "codemirror_mode": {
    "name": "ipython",
    "version": 3
   },
   "file_extension": ".py",
   "mimetype": "text/x-python",
   "name": "python",
   "nbconvert_exporter": "python",
   "pygments_lexer": "ipython3",
   "version": "3.7.2"
  },
  "mimetype": "text/x-python",
  "name": "python",
  "npconvert_exporter": "python",
  "pygments_lexer": "ipython3",
  "version": 3
 },
 "nbformat": 4,
 "nbformat_minor": 2
}