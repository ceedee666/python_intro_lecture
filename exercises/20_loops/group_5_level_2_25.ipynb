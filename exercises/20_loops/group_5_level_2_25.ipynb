{
 "cells": [
  {
   "source": [
    "# Aufgabe 2\n",
    "\n",
    "Für Ihren Online-Shop möchten Sie ein Programm implementieren, welches einen Gutscheincode überprüft und gegebenenfalls anwendet wenn dieser korrekt ist. Dazu soll der Benutzer nur 5 Versuche haben.\n",
    "\n",
    "Implementieren Sie nun die Funktion `validiere_coupon`. Diese Funktion soll nach einer Eingabe verlangen. Stimmt diese Eingabe *nicht* mit dem aktuellen Couponcode \"Winter19\" überein, so soll die Eingabe immer weiter wiederholt werden, bis die richtige Eingabe erfolgt. Das soll folgendermaßen aussehen:  \n",
    "\n",
    "Coupon Code: __12345678__   \n",
    "Coupon Code: __Winter19__  \n",
    "Coupon angewendet.  \n",
    "\n",
    "Falls der Code jedoch fünf mal falsch eingegeben wurde soll die Ausgabe folgendermaßen aussehen:  \n",
    "\n",
    "Coupon Code: __12345678__  \n",
    "Coupon Code: __abcdefg__  \n",
    "Coupon Code: __a1b2c3d4__  \n",
    "Coupon Code: __Sommer18__  \n",
    "Coupon Code: __winter 2019__  \n",
    "Alle Versuche aufgebraucht.\n",
    "\n",
    "\n",
    "\n",
    "\n",
    "\n",
    "### Hilfe\n",
    "Sie können Ihre Lösung mit den automatisierten [Tests](#Automatische-Tests) weiter unten im Dokument überprüfen.<br>\n",
    "Eine Einführung in die `While-Schleifen` in Python finden Sie [hier](../../50_loops/while_loop.ipynb)."
   ],
   "cell_type": "markdown",
   "metadata": {
    "nbgrader": {
     "grade": false,
     "grade_id": "cell-ccf48ddc62744bfc",
     "locked": true,
     "schema_version": 1,
     "solution": false
    }
   }
  },
  {
   "cell_type": "code",
   "execution_count": null,
   "metadata": {
    "nbgrader": {
     "grade": false,
     "grade_id": "cell-5f6e1bc048db7339",
     "locked": false,
     "schema_version": 1,
     "solution": true
    }
   },
   "outputs": [],
   "source": [
    "def validiere_coupon():\n",
    "    \n",
    "    eingabe = input(\"Coupon Code: \")\n",
    "    versuche = 1\n",
    "    ###START\n",
    "    # While schleife, welche sowohl die Eingabe prüft als auch die Anazhl der versuche\n",
    "        # erneute Abfrage des Coupon Codes\n",
    "        # heraufzählen der Versuche\n",
    "    ###ENDE\n",
    "    if eingabe == \"Winter19\":\n",
    "        print(\"Coupon angewendet.\")\n",
    "    else:\n",
    "        print(\"Alle Versuche aufgebraucht.\")\n",
    "        \n",
    "    return\n",
    "\n",
    "validiere_coupon()"
   ]
  },
  {
   "cell_type": "markdown",
   "metadata": {
    "nbgrader": {
     "grade": false,
     "grade_id": "cell-0c505bc3b68d3b89",
     "locked": true,
     "schema_version": 1,
     "solution": false
    }
   },
   "source": [
    "  ***\n",
    "  # Automatische Tests\n",
    "  Ab hier finden Sie einige automatisierte Tests um Ihre Lösungen zu überprüfen. Um Ihre Lösung zu prüfen führen Sie bitte zuerst die Zelle mit Ihrer Lösung und danach die Zelle mit dem zugehörigen Test aus.\n"
   ]
  },
  {
   "cell_type": "code",
   "execution_count": null,
   "metadata": {
    "nbgrader": {
     "grade": true,
     "grade_id": "cell-2f643d5ed17c61eb",
     "locked": true,
     "points": 0,
     "schema_version": 1,
     "solution": false
    }
   },
   "outputs": [],
   "source": [
    "try:\n",
    "    validiere_coupon()\n",
    "except NotImplementedError:\n",
    "    print(\"Bitte entfernen Sie das \\\"raise NotImplementedError()\\\"\")"
   ]
  },
  {
   "cell_type": "markdown",
   "metadata": {
    "nbgrader": {
     "grade": false,
     "grade_id": "cell-8a1c90a9278b48fc",
     "locked": true,
     "schema_version": 1,
     "solution": false
    }
   },
   "source": [
    "## Test 1 - Korrekte Abfrage\n",
    "Das Programm soll wie oben beschrieben funktionieren.\n",
    "\n",
    "__Hinweis__: Diese Tests sind sehr anfällig für kleinste Abweichungen. Achten Sie bitte darauf, dass Ihr Programm *genau* so aussieht wie in der Aufgabenstellung als Beispiel dargestellt.  \n",
    "Achten Sie bitte auch darauf den Text \"Coupon Code: \" mittels input auszugeben (also `input(\"Coupon Code: \")`). Bitte verwenden Sie hier kein print()."
   ]
  },
  {
   "cell_type": "code",
   "execution_count": null,
   "metadata": {
    "nbgrader": {
     "grade": true,
     "grade_id": "cell-bd32b8ad4bc730f0",
     "locked": true,
     "points": 0,
     "schema_version": 1,
     "solution": false
    }
   },
   "outputs": [],
   "source": [
    "from unittest import mock\n",
    "from nose.tools import assert_equal\n",
    "import unittest\n",
    "import io\n",
    "\n",
    "with mock.patch('builtins.input', side_effect=[\"Winter19\"]):\n",
    "    with mock.patch('sys.stdout', new=io.StringIO()) as fake_stdout:\n",
    "        validiere_coupon()\n",
    "\n",
    "    print(\"Teste Winter19 als erste Eingabe\")\n",
    "    assert_equal(fake_stdout.getvalue(), 'Coupon angewendet.\\n', \"Auch wenn Winter19 die erste Eingabe ist, sollte das Programm schon beendet werden\")\n",
    "    print(\"Test 1 erfolgreich.\")\n",
    "    \n",
    "with mock.patch('builtins.input', side_effect=[\"a\", \"199\", \"Winter19\"]):\n",
    "    with mock.patch('sys.stdout', new=io.StringIO()) as fake_stdout:\n",
    "        validiere_coupon()\n",
    "\n",
    "    print(\"Teste Winter19 als dritte Eingabe\")\n",
    "    assert_equal(fake_stdout.getvalue(), 'Coupon angewendet.\\n', \"Das Programm soll so lange eine Eingabe verlangen bis diese Winter19 ist.\")\n",
    "    print(\"Test 2 erfolgreich.\")\n",
    "    \n",
    "with mock.patch('builtins.input', side_effect=[\"1234\", \"1234\", \"1234\", \"abc\", \"def\"]):\n",
    "    with mock.patch('sys.stdout', new=io.StringIO()) as fake_stdout:\n",
    "        validiere_coupon()\n",
    "\n",
    "    print(\"Teste fünf falsche Eingaben\")\n",
    "    assert_equal(fake_stdout.getvalue(), 'Alle Versuche aufgebraucht.\\n', \"Das Programm soll nach der fünften falschen Eingabe beendet werden.\")\n",
    "    print(\"Test 3 erfolgreich.\")\n"
   ]
  }
 ],
 "metadata": {
  "celltoolbar": "Create Assignment",
  "file_extension": ".py",
  "kernelspec": {
   "display_name": "Python 3",
   "language": "python",
   "name": "python3"
  },
  "language_info": {
   "codemirror_mode": {
    "name": "ipython",
    "version": 3
   },
   "file_extension": ".py",
   "mimetype": "text/x-python",
   "name": "python",
   "nbconvert_exporter": "python",
   "pygments_lexer": "ipython3",
   "version": "3.7.2"
  },
  "mimetype": "text/x-python",
  "name": "python",
  "npconvert_exporter": "python",
  "pygments_lexer": "ipython3",
  "version": 3
 },
 "nbformat": 4,
 "nbformat_minor": 2
}