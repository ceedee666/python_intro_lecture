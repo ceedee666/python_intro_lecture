{
 "cells": [
  {
   "source": [
    "# Aufgabe 1\n",
    "\n",
    "Im Rahmen der Materialverwaltung soll ein Programm zur automatischen Berechnung eines Materialbestandes, anhand von Eingängen und Abgängen eines Materials in einer Lagerhalle, implementiert werden.  \n",
    "\n",
    "Implementieren Sie nun die Funktion `berechne_bestand`. Diese Funktion erhält als Parameter eine Liste `eingehend_ausgehend`, welche in Form von Integer-Werten die Materialeingänge und Abgänge in die Lagerhalle angibt (in etwa `[+500, -200, +70, -65]`).  \n",
    "Als Ergebnis soll der Materialbestand in Form eines Integer-Wertes zurückgegeben werden (\"bestand\").\n",
    "\n",
    "\n",
    "### Hilfe\n",
    "Sie können Ihre Lösung mit den automatisierten [Tests](#Automatische-Tests) weiter unten im Dokument überprüfen.<br>\n",
    "Eine Einführung in die `For-Schleifen` in Python finden Sie [hier](../../50_loops/for_loop.ipynb)."
   ],
   "cell_type": "markdown",
   "metadata": {
    "nbgrader": {
     "grade": false,
     "grade_id": "cell-ff6d2b5d7e983632",
     "locked": true,
     "schema_version": 1,
     "solution": false
    }
   }
  },
  {
   "cell_type": "code",
   "execution_count": null,
   "metadata": {
    "nbgrader": {
     "grade": false,
     "grade_id": "cell-080ae4f875168748",
     "locked": false,
     "schema_version": 1,
     "solution": true
    }
   },
   "outputs": [],
   "source": [
    "def berechne_bestand(eingehend_ausgehend):\n",
    "    \n",
    "    ###START\n",
    "    \n",
    "    ###ENDE\n",
    "    return bestand\n",
    "\n",
    "print(\"Bei \\\"eingehend_ausgehend = [20, 30, 40]\\\" liefert Ihre Funktion:\", berechne_bestand([20, 30, 40]))"
   ]
  },
  {
   "cell_type": "markdown",
   "metadata": {
    "nbgrader": {
     "grade": false,
     "grade_id": "cell-d568ff7c9a5f6bae",
     "locked": true,
     "schema_version": 1,
     "solution": false
    }
   },
   "source": [
    "  ***\n",
    "  # Automatische Tests\n",
    "  Ab hier finden Sie einige automatisierte Tests um Ihre Lösungen zu überprüfen. Um Ihre Lösung zu prüfen führen Sie bitte zuerst die Zelle mit Ihrer Lösung und danach die Zelle mit dem zugehörigen Test aus.\n"
   ]
  },
  {
   "cell_type": "code",
   "execution_count": null,
   "metadata": {
    "nbgrader": {
     "grade": true,
     "grade_id": "cell-9563226530e72506",
     "locked": true,
     "points": 0,
     "schema_version": 1,
     "solution": false
    }
   },
   "outputs": [],
   "source": [
    "try:\n",
    "    berechne_bestand([0, 0, 0, 0])\n",
    "except NotImplementedError:\n",
    "    print(\"Bitte entfernen Sie das \\\"raise NotImplementedError()\\\"\")"
   ]
  },
  {
   "source": [
    "## Test 1 - Korrekte Berechnung\n",
    "Der Materialbestand (`bestand`) soll für jede Liste korrekt berechnet werden."
   ],
   "cell_type": "markdown",
   "metadata": {
    "nbgrader": {
     "grade": false,
     "grade_id": "cell-b340834d8726e5d0",
     "locked": true,
     "schema_version": 1,
     "solution": false
    }
   }
  },
  {
   "cell_type": "code",
   "execution_count": null,
   "metadata": {
    "nbgrader": {
     "grade": true,
     "grade_id": "cell-e412b7ff90a78f87",
     "locked": true,
     "points": 0,
     "schema_version": 1,
     "solution": false
    }
   },
   "outputs": [],
   "source": [
    "from nose.tools import assert_equal\n",
    "\n",
    "incoming_outgoing = [+519, -250, -19, -12, +234]\n",
    "stock = berechne_bestand(incoming_outgoing)\n",
    "try:\n",
    "    assert_equal(stock, 472)\n",
    "    print(\"Test 1 erfolgreich\")\n",
    "except AssertionError as e:\n",
    "    print(\"Das Ergebnis ist falsch\")\n",
    "    print(e)\n",
    "    \n",
    "\n",
    "incoming_outgoing = [+99999999, -1234567, -9876543]\n",
    "stock = berechne_bestand(incoming_outgoing)\n",
    "try:\n",
    "    assert_equal(stock, 88888889)\n",
    "    print(\"Test 2 erfolgreich\")\n",
    "except AssertionError as e:\n",
    "    print(\"Das Ergebnis ist falsch\")\n",
    "    print(e)\n",
    "    \n",
    "\n",
    "incoming_outgoing = [-12, +20]\n",
    "stock = berechne_bestand(incoming_outgoing)\n",
    "try:\n",
    "    assert_equal(stock, 8)\n",
    "    print(\"Test 3 erfolgreich\")\n",
    "except AssertionError as e:\n",
    "    print(\"Das Ergebnis ist falsch\")\n",
    "    print(e)"
   ]
  }
 ],
 "metadata": {
  "celltoolbar": "Create Assignment",
  "file_extension": ".py",
  "kernelspec": {
   "display_name": "Python 3",
   "language": "python",
   "name": "python3"
  },
  "language_info": {
   "codemirror_mode": {
    "name": "ipython",
    "version": 3
   },
   "file_extension": ".py",
   "mimetype": "text/x-python",
   "name": "python",
   "nbconvert_exporter": "python",
   "pygments_lexer": "ipython3",
   "version": "3.7.2"
  },
  "mimetype": "text/x-python",
  "name": "python",
  "npconvert_exporter": "python",
  "pygments_lexer": "ipython3",
  "version": 3
 },
 "nbformat": 4,
 "nbformat_minor": 2
}