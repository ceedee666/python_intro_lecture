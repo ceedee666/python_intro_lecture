{
 "metadata": {
  "language_info": {
   "codemirror_mode": {
    "name": "ipython",
    "version": 3
   },
   "file_extension": ".py",
   "mimetype": "text/x-python",
   "name": "python",
   "nbconvert_exporter": "python",
   "pygments_lexer": "ipython3",
   "version": "3.8.5-final"
  },
  "orig_nbformat": 2,
  "kernelspec": {
   "name": "python_defaultSpec_1599583286654",
   "display_name": "Python 3.8.5 32-bit"
  }
 },
 "nbformat": 4,
 "nbformat_minor": 2,
 "cells": [
  {
   "source": [
    "# Aufgabe 2\n",
    "\n",
    "In dieser Aufgabe befassen wir uns mit der Analyse eines Produktportfolios. Hierzu haben Sie zwei Listen gegeben. Die Liste Portfolio beinhaltet eine Auflistung aller angebotenen Produkte. Die Liste Infos beinhaltet eine Auflistung zugehöriger genaueren Informationen. Ihre Aufgabe ist es nun die Gesamtzahl an Auto Türen herauszufinden. Hierzu müssen Sie zuerst im Portfolio die Einträge `\"Auto\"` herausfiltern. Wenn Sie diesen gefunden haben müssen Sie den zugehörigen Eintrag in der Infos Liste heraussuchen. Hierzu müssen Sie den selben Index also `Portfolio[10]` und `Infos[10]` verwenden um die passende Anzahl zu kriegen. Achten Sie darauf die Anzahl Türen in der Variable Tueren zu speichern und Benutzen Sie `int(Infos[Counter])` um einen int und keinen string Wert zu erhalten. \n",
    "\n",
    "### Hilfe\n",
    "\n",
    "1. Lassen Sie die variable Counter mittzählen, um auf die passenden Werten der Produkte aus der Infoliste zugreifen zu können.\n",
    "2. Achten Sie darauf an welcher Stelle Sie in der Schleife anfangen den Counter hochzuzählen."
   ],
   "cell_type": "markdown",
   "metadata": {}
  },
  {
   "cell_type": "code",
   "execution_count": null,
   "metadata": {},
   "outputs": [],
   "source": [
    "#Führen Sie diese Zelle immer nach der Öffnung der Übung aus.\n",
    "import pandas as pd\n",
    "CSV = pd.read_csv('tests/Portfolio_Tests/Autos.csv',sep=\";\",decimal=\",\")\n",
    "P = list(CSV['Produkt'])\n",
    "I = list(CSV['Info'])"
   ]
  },
  {
   "cell_type": "code",
   "execution_count": null,
   "metadata": {
    "tags": []
   },
   "outputs": [],
   "source": [
    "def berechne_tueren(Portfolio,Infos):\n",
    "    Tueren = 0\n",
    "    Counter = 0\n",
    "    ###START\n",
    "    \n",
    "    ###ENDE\n",
    "    return Tueren\n",
    "berechne_tueren(P,I)"
   ]
  },
  {
   "cell_type": "markdown",
   "metadata": {},
   "source": [
    "# Automatisierte Tests"
   ]
  },
  {
   "cell_type": "code",
   "execution_count": null,
   "metadata": {
    "tags": []
   },
   "outputs": [],
   "source": [
    "import sys\n",
    "sys.path.append(\"../..\")\n",
    "from nose.tools import assert_equal, assert_not_equal\n",
    "from utils import * \n",
    "\n",
    "try:\n",
    "    CSV = pd.read_csv('tests/Portfolio_Tests/test1.csv',sep=\";\",decimal=\",\")#Autos.csv\n",
    "    P = list(CSV['Produkt'])\n",
    "    I = list(CSV['Info'])\n",
    "    Erg = berechne_tueren(P,I)\n",
    "    expected_out = 686\n",
    "    assert_equal(Erg, expected_out)\n",
    "    print(\"[OK] Anzahl Türen in Ordnung!\")\n",
    "except AssertionError as e:\n",
    "    print(\"[FEHLER] Anzahl Türen sollten,\", expected_out, \"sein.\")\n",
    "    print(\"       \",e)\n",
    "except Exception as e:\n",
    "    print(\"[FEHLER]\", friendly_exceptions.msg(e))\n",
    "\n",
    "try:\n",
    "    CSV = pd.read_csv('tests/Portfolio_Tests/test2.csv',sep=\";\",decimal=\",\")#Autos.csv\n",
    "    P = list(CSV['Produkt'])\n",
    "    I = list(CSV['Info'])\n",
    "    Erg = berechne_tueren(P,I)\n",
    "    expected_out = 1372\n",
    "    assert_equal(Erg, expected_out)\n",
    "    print(\"[OK] Anzahl Türen in Ordnung!\")\n",
    "except AssertionError as e:\n",
    "    print(\"[FEHLER] Anzahl Türen sollten,\", expected_out, \"sein.\")\n",
    "    print(\"       \",e)\n",
    "except Exception as e:\n",
    "    print(\"[FEHLER]\", friendly_exceptions.msg(e))\n",
    "\n",
    "try:\n",
    "    CSV = pd.read_csv('tests/Portfolio_Tests/test3.csv',sep=\";\",decimal=\",\")#Autos.csv\n",
    "    P = list(CSV['Produkt'])\n",
    "    I = list(CSV['Info'])\n",
    "    Erg = berechne_tueren(P,I)\n",
    "    expected_out = 2850\n",
    "    assert_equal(Erg, expected_out)\n",
    "    print(\"[OK] Anzahl Türen in Ordnung!\")\n",
    "except AssertionError as e:\n",
    "    print(\"[FEHLER] Anzahl Türen sollten,\", expected_out, \"sein.\")\n",
    "    print(\"       \",e)\n",
    "except Exception as e:\n",
    "    print(\"[FEHLER]\", friendly_exceptions.msg(e))\n",
    "\n",
    "try:\n",
    "    CSV = pd.read_csv('tests/Portfolio_Tests/test4.csv',sep=\";\",decimal=\",\")#Autos.csv\n",
    "    P = list(CSV['Produkt'])\n",
    "    I = list(CSV['Info'])\n",
    "    Erg = berechne_tueren(P,I)\n",
    "    expected_out = 2219\n",
    "    assert_equal(Erg, expected_out)\n",
    "    print(\"[OK] Anzahl Türen in Ordnung!\")\n",
    "except AssertionError as e:\n",
    "    print(\"[FEHLER] Anzahl Türen sollten,\", expected_out, \"sein.\")\n",
    "    print(\"       \",e)\n",
    "except Exception as e:\n",
    "    print(\"[FEHLER]\", friendly_exceptions.msg(e))"
   ]
  }
 ]
}