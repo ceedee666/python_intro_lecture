{
 "cells": [
  {
   "cell_type": "markdown",
   "metadata": {
    "nbgrader": {
     "grade": false,
     "grade_id": "cell-f9e8e59ce6c43821",
     "locked": true,
     "schema_version": 1,
     "solution": false
    }
   },
   "source": [
    "Aufgabe 5 - Aktienkurs darstellen\n",
    "------------\n",
    "Gegeben ist eine Liste mit Werten einer Aktie über den Zeitraum von einem Jahr. Die Liste beinhält 12 Werte, also für die Monate Januar bis Dezember. Diese Werte sind vereinfacht auf 50 gerundet wobei der kleinste Wert 50 ist und der höchste Wert 300.  \n",
    "Ihre Aufgabe ist es diese Werte in einem Diagramm grafisch darzustellen.  \n",
    "Erstellen Sie dazu eine y-Achse mit den Werten von 50 bis 300 und eine x-Achse mit den Monaten Januar bis Dezember. \n",
    "Tragen Sie für jeden Monat den Aktienwert mit einem \"x\" ein.  \n",
    "\n",
    "Für eine Liste `100, 150, 200, 250, 200, 250, 200, 100, 150, 250, 200, 200`,  \n",
    "sähe das Diagramm dann so aus:  \n",
    "`\n",
    "300                                     \n",
    "250           x     x           x       \n",
    "200        x     x     x           x  x \n",
    "150     x                    x          \n",
    "100  x                    x             \n",
    "50                                      \n",
    "     J  F  M  A  M  J  J  A  S  O  N  D` \n"
   ]
  },
  {
   "cell_type": "code",
   "execution_count": null,
   "metadata": {
    "nbgrader": {
     "grade": false,
     "grade_id": "cell-ae387673cf8e32fa",
     "locked": false,
     "schema_version": 1,
     "solution": true
    }
   },
   "outputs": [],
   "source": [
    "def aktien_visualisieren(aktien):\n",
    "    \n",
    "    for wert in range(300, 49, -50):\n",
    "        print(wert, ende=\"\")\n",
    "        ###START\n",
    "        # zweite For-Schleife zum durchlaufen der Monate\n",
    "        ###ENDE\n",
    "        print()\n",
    "    print(\"     J  F  M  A  M  J  J  A  S  O  N  D\")\n",
    "            \n",
    "    return\n",
    "\n",
    "aktien_visualisieren([100, 150, 200, 250, 200, 250, 200, 100, 150, 250, 200, 200])"
   ]
  },
  {
   "cell_type": "markdown",
   "metadata": {
    "nbgrader": {
     "grade": false,
     "grade_id": "cell-fee021b6bf2ae157",
     "locked": true,
     "schema_version": 1,
     "solution": false
    }
   },
   "source": [
    "   ***\n",
    "# Automatische Tests\n",
    "Ab hier finden Sie einige automatisierte Tests um Ihre Lösungen zu überprüfen. Um Ihre Lösung zu prüfen führen Sie bitte zuerst die Zelle mit Ihrer Lösung und danach die Zelle mit dem zugehörigen Test aus.\n",
    "\n",
    "Die für diese Aufgabe verwendeten Tests sind schon für kleinste Abweichungen von der Musterlösung anfällig. Achten Sie bitte darauf dass ihre Ausgabe exakt so aussieht wie hier dargestellt.  \n",
    "- Tipps:\n",
    "  - Der Abstand vor bzw. zwischen zwei \"x\" ist immer 2 Leerzeichen groß.  \n",
    "  - Der Zeilenumbruch erfolgt immer an der selben Stelle, unabhängig davon wo das \"x\" in dieser Zeile steht\n",
    "  - Vor dem \"J\" für Januar stehen 5 Leerzeichen\n",
    "  - zwischen den Buchstaben für die Monate stehen jeweils 2 Leerzeichen\n",
    "  - Nach dem \"D\" für Dezember erfolgt ein Zeilenumbruch"
   ]
  },
  {
   "cell_type": "code",
   "execution_count": null,
   "metadata": {
    "nbgrader": {
     "grade": true,
     "grade_id": "cell-3c1b47bde9f320b1",
     "locked": true,
     "points": 0,
     "schema_version": 1,
     "solution": false
    }
   },
   "outputs": [],
   "source": [
    "try:\n",
    "    aktien_visualisieren([0, 0, 0, 0])\n",
    "except NotImplementedError:\n",
    "    print(\"Bitte entfernen Sie das \\\"raise NotImplementedError()\\\"\")"
   ]
  },
  {
   "cell_type": "markdown",
   "metadata": {
    "nbgrader": {
     "grade": false,
     "grade_id": "cell-e00fcc3c850d9316",
     "locked": true,
     "schema_version": 1,
     "solution": false
    }
   },
   "source": [
    "## Test 1 - Korrekte Darstellung einer Liste\n",
    "Für die Liste `100, 150, 200, 250, 200, 250, 200, 100, 150, 250, 200, 200`,  \n",
    "soll das Diagramm so aussehen:  \n",
    "`\n",
    "300                                     \n",
    "250           x     x           x       \n",
    "200        x     x     x           x  x \n",
    "150     x                    x          \n",
    "100  x                    x             \n",
    "50                                      \n",
    "     J  F  M  A  M  J  J  A  S  O  N  D` \n"
   ]
  },
  {
   "cell_type": "code",
   "execution_count": null,
   "metadata": {
    "nbgrader": {
     "grade": true,
     "grade_id": "cell-5930e3ee07100aa3",
     "locked": true,
     "points": 1,
     "schema_version": 1,
     "solution": false
    }
   },
   "outputs": [],
   "source": [
    "from unittest import mock\n",
    "import unittest\n",
    "import io\n",
    "from nose.tools import assert_equal, assert_not_equal\n",
    "\n",
    "\n",
    "with mock.patch('sys.stdout', new=io.StringIO()) as fake_stdout:\n",
    "    shares = [100, 150, 200, 250, 200, 250, 200, 100, 150, 250, 200, 200]\n",
    "    aktien_visualisieren(shares)\n",
    "\n",
    "assert_equal(fake_stdout.getvalue(), '300                                    \\n250           x     x           x      \\n200        x     x     x           x  x\\n150     x                    x         \\n100  x                    x            \\n50                                    \\n     J  F  M  A  M  J  J  A  S  O  N  D\\n', \"Die Ausgabe ist nicht korrekt\")\n",
    "print(\"Test 1 erfolgreich\")"
   ]
  },
  {
   "cell_type": "markdown",
   "metadata": {
    "nbgrader": {
     "grade": false,
     "grade_id": "cell-d1a81bf2c0f4c00b",
     "locked": true,
     "schema_version": 1,
     "solution": false
    }
   },
   "source": [
    "## Test 2 - Korrekte Darstellung einer Liste\n",
    "Für die Liste `100, 300, 150, 250, 200, 250, 300, 100, 150, 200, 250, 300`,  \n",
    "soll das Diagramm so aussehen:  \n",
    "`\n",
    "300     x              x              x \n",
    "250           x     x              x    \n",
    "200              x              x       \n",
    "150        x                 x          \n",
    "100  x                    x             \n",
    "50                                      \n",
    "     J  F  M  A  M  J  J  A  S  O  N  D`\n"
   ]
  },
  {
   "cell_type": "code",
   "execution_count": null,
   "metadata": {
    "nbgrader": {
     "grade": true,
     "grade_id": "cell-a569658825146cde",
     "locked": true,
     "points": 1,
     "schema_version": 1,
     "solution": false
    }
   },
   "outputs": [],
   "source": [
    "from unittest import mock\n",
    "import unittest\n",
    "import io\n",
    "from nose.tools import assert_equal, assert_not_equal\n",
    "\n",
    "\n",
    "with mock.patch('sys.stdout', new=io.StringIO()) as fake_stdout:\n",
    "    shares = [100, 300, 150, 250, 200, 250, 300, 100, 150, 200, 250, 300]\n",
    "    aktien_visualisieren(shares)\n",
    "\n",
    "assert_equal(fake_stdout.getvalue(), '300     x              x              x\\n250           x     x              x   \\n200              x              x      \\n150        x                 x         \\n100  x                    x            \\n50                                    \\n     J  F  M  A  M  J  J  A  S  O  N  D\\n', \"Die Ausgabe ist nicht korrekt\")\n",
    "print(\"Test 2 erfolgreich\")"
   ]
  }
 ],
 "metadata": {
  "celltoolbar": "Create Assignment",
  "kernelspec": {
   "display_name": "Python 3",
   "language": "python",
   "name": "python3"
  },
  "language_info": {
   "codemirror_mode": {
    "name": "ipython",
    "version": 3
   },
   "file_extension": ".py",
   "mimetype": "text/x-python",
   "name": "python",
   "nbconvert_exporter": "python",
   "pygments_lexer": "ipython3",
   "version": "3.7.2"
  }
 },
 "nbformat": 4,
 "nbformat_minor": 2
}