{
 "cells": [
  {
   "cell_type": "markdown",
   "metadata": {},
   "source": [
    "<nav>\n",
    "    <a href=\"for_loop_exercises.ipynb\">&#9664; Übungsaufgaben zu Schleifen</a> |\n",
    "    <a href=\"group_1_level_1_25.ipynb\">Wenig Unterstützung &#9684;</a> |\n",
    "    <a href=\"group_1_level_1.ipynb\">Keine Unterstützung &#9711;</a> |\n",
    "</nav>"
   ]
  },
  {
   "source": [
    "<div class=\"alert alert-warning\"><strong>Aufgabe 1 - Produktionsplanung</strong>\n",
    "    \n",
    "Im Rahmen der operativen Planung in einem Fertigungsunternehmen sollen auf der Basis eines gegebenen\n",
    "Absatzplans eine Produktionsplanung für die nächsten 12 Monate erstellt werden. Zur Berechnung der\n",
    "Produktionsplanung wird folgende Formel verwendet\n",
    "\n",
    "   $$ P_t = A_t \\cdot 1.1$$\n",
    "   \n",
    "In dieser Formel steht $P_t$ für die Produktionsmenge in einem Monat $t$ und $A_t$ für die geplante Absatzmenge in einem Monat $t$.\n",
    "Implementieren Sie nun die Funktion `erstelle_produktions_plan`. Die Funktion erhält als Parameter\n",
    "`verkaufs_plan` eine Liste von geplanten Absatzmengen der nächsten 12 Monate. Als Ergebnis soll eine neue Liste\n",
    "`produktions_plan` erstellt werden, die die Propduktionsmenge der nächsten 12 Monate enthält.\n",
    "</div>\n",
    "\n",
    "<div class=\"alert alert-block alert-info\"><strong>Hilfe</strong>\n",
    "    \n",
    "Sie können Ihre Lösung mit den automatisierten [Tests](#Automatische-Test) weiter unten im Dokument überprüfen.<br>\n",
    "Eine Einführung in die `for`-Schleife in Python finden Sie [hier](../for_loop.ipynb).\n",
    "</div>"
   ],
   "cell_type": "markdown",
   "metadata": {
    "nbgrader": {
     "grade": false,
     "grade_id": "cell-7590e37bc8fb12f6",
     "locked": true,
     "schema_version": 1,
     "solution": false
    }
   }
  },
  {
   "cell_type": "code",
   "execution_count": null,
   "metadata": {
    "nbgrader": {
     "grade": false,
     "grade_id": "cell-319c848acf6498ba",
     "locked": false,
     "schema_version": 1,
     "solution": true
    }
   },
   "outputs": [],
   "source": [
    "def erstelle_produktions_plan(verkaufs_plan):\n",
    "    # Die Variable produktions_plan soll die List der Produktionsmengen enthalten\n",
    "    produktions_plan = []\n",
    "    \n",
    "    # Die for-Schleife nimmt nacheinander jedes Elemement der Absatzplanung \n",
    "    # (Parameter verkaufs_plan) und weist es der Variablen monats_menge zu.\n",
    "    for monats_menge in verkaufs_plan:\n",
    "       ###START\n",
    "       # Berechenen Sie auf Basis der Absatzmenge eines Monats (enthalten in der Variable monats_menge)\n",
    "       # die notwendige Produktiosmenge und hängen Sie das Ergebnis an die List\n",
    "       # der Produktionsmengen an (Variable produktions_plan)\n",
    "       ###ENDE\n",
    "    \n",
    "    return produktions_plan\n",
    "\n",
    "print(\"Bei \\\"verkaufs_plan = [20, 30, 40]\\\" liefert Ihre Funktion:\", erstelle_produktions_plan([20, 30, 40]))"
   ]
  },
  {
   "cell_type": "markdown",
   "metadata": {
    "nbgrader": {
     "grade": false,
     "grade_id": "cell-b1274ac8e6a45913",
     "locked": true,
     "schema_version": 1,
     "solution": false
    }
   },
   "source": [
    "\n",
    "---\n",
    "# Automatische Tests\n",
    "Ab hier finden Sie einige automatisierte Tests um Ihre Lösungen zu überprüfen. Um Ihre Lösung zu prüfen führen Sie bitte zuerst die Zelle mit Ihrer Lösung und danach die Zelle mit dem zugehörigen Test aus.\n"
   ]
  },
  {
   "cell_type": "code",
   "execution_count": null,
   "metadata": {},
   "outputs": [],
   "source": [
    "import sys\n",
    "sys.path.append(\"../..\")\n",
    "from nose.tools import assert_equal, assert_not_equal\n",
    "from utils import * \n",
    "import unittest\n",
    "\n",
    "try:\n",
    "    sales_plan = (0, 0, 0, 0, 0, 0, 0, 0, 0, 0, 0, 0)\n",
    "    Erg = erstelle_produktions_plan(sales_plan)\n",
    "    assert_equal(isinstance(Erg, list),True)\n",
    "    print(\"[OK] Die Ausgabe ist eine Liste!\")\n",
    "except AssertionError as e:\n",
    "    print(\"[FEHLER] Die Ausgabe ist keine Liste!\")\n",
    "    print(\"       \",e)\n",
    "except Exception as e:\n",
    "    print(\"[FEHLER]\", friendly_exceptions.msg(e))\n",
    "\n",
    "try:\n",
    "    sales_plan = (0, 0, 0, 0, 0, 0, 0, 0, 0, 0, 0, 0)\n",
    "    Erg = erstelle_produktions_plan(sales_plan)\n",
    "    assert_equal(len(Erg), 12)\n",
    "    print(\"[OK] Die Ausgabe ist eine Liste mit 12 Einträgen!\")\n",
    "except AssertionError as e:\n",
    "    print(\"[FEHLER] Die Ausgabe ist keine Liste mit 12 Einträgen!\")\n",
    "    print(\"       \",e)\n",
    "except Exception as e:\n",
    "    print(\"[FEHLER]\", friendly_exceptions.msg(e))\n",
    "\n",
    "try:\n",
    "    sales_plan = [570, 500, 520, 500, 600, 550, 530, 520, 530, 590, 600, 590]\n",
    "    Erg = erstelle_produktions_plan(sales_plan)\n",
    "    expected_production_plan = [627.0, 550.0, 572.0, 550.0, 660.0, 605.0, 583.0, 572.0, 583.0, 649.0, 660.0, 649.0]\n",
    "    assert_equal(Erg, expected_production_plan)\n",
    "    print(\"[OK] Die Liste ist korrekt berechnet!\")\n",
    "except AssertionError as e:\n",
    "    print(\"[FEHLER] Die Liste ist\", Erg ,\". Richtig wäre :\", expected_production_plan ,)\n",
    "    print(\"       \",e)\n",
    "except Exception as e:\n",
    "    print(\"[FEHLER]\", friendly_exceptions.msg(e))"
   ]
  }
 ],
 "metadata": {
  "file_extension": ".py",
  "kernelspec": {
   "display_name": "Python 3",
   "language": "python",
   "name": "python3"
  },
  "language_info": {
   "codemirror_mode": {
    "name": "ipython",
    "version": 3
   },
   "file_extension": ".py",
   "mimetype": "text/x-python",
   "name": "python",
   "nbconvert_exporter": "python",
   "pygments_lexer": "ipython3",
   "version": "3.8.5-final"
  },
  "mimetype": "text/x-python",
  "name": "python",
  "npconvert_exporter": "python",
  "pycharm": {
   "stem_cell": {
    "cell_type": "raw",
    "metadata": {
     "collapsed": false
    },
    "source": []
   }
  },
  "pygments_lexer": "ipython3",
  "version": 3
 },
 "nbformat": 4,
 "nbformat_minor": 2
}