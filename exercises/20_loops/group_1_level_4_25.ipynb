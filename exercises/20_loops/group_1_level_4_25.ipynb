{
 "cells": [
  {
   "cell_type": "markdown",
   "metadata": {
    "nbgrader": {
     "grade": false,
     "grade_id": "cell-f9e8e59ce6c43821",
     "locked": true,
     "schema_version": 1,
     "solution": false
    }
   },
   "source": [
    "Aufgabe 4 - Aktien filtern\n",
    "------------\n",
    "Gegeben ist eine Liste mit Aktienkursen.  \n",
    "Jedes Element dieser Liste ist jedoch selbst eine Liste. Diese enthält als ersten Wert den Namen der Aktie, als zweiten die Veränderung zum Vortag und als dritten den Wert einer Aktie.  \n",
    "Nun wollen Sie alle gut im Wert gestiegenen Aktien herausfiltern um diese zu verkaufen.  \n",
    "Erstellen Sie dazu eine neue Liste, wieder bestehend aus Listen, in welcher Sie alle Aktienkurse speichern mit einer Veränderung zum Vortag größer/gleich 1.  "
   ]
  },
  {
   "cell_type": "code",
   "execution_count": null,
   "metadata": {
    "nbgrader": {
     "grade": false,
     "grade_id": "cell-ae387673cf8e32fa",
     "locked": false,
     "schema_version": 1,
     "solution": true
    }
   },
   "outputs": [],
   "source": [
    "def filter_aktien(aktien):\n",
    "    \n",
    "    aktien_zu_verkaufen = []\n",
    "    ###START\n",
    "    for #Schleife:\n",
    "        if # Bedingung um aktie in die Liste mit aufzunehmen:\n",
    "            #Aktie in die neue Liste aufnehmen\n",
    "    ###ENDE\n",
    "     \n",
    "    return aktien_zu_verkaufen\n",
    "\n",
    "print(\"Bei \\\"aktien = ['SAP', -0.3, 100.0], ['MSFT', +1.5, 180.4]\\\" liefert Ihre Funktion:\", filter_aktien([['SAP', -0.3, 100.0], ['MSFT', +1.5, 180.4]]))"
   ]
  },
  {
   "cell_type": "markdown",
   "metadata": {
    "nbgrader": {
     "grade": false,
     "grade_id": "cell-0cc64ffadd156333",
     "locked": true,
     "schema_version": 1,
     "solution": false
    }
   },
   "source": [
    "   ***\n",
    "# Automatische Tests\n",
    "Ab hier finden Sie einige automatisierte Tests um Ihre Lösungen zu überprüfen. Um Ihre Lösung zu prüfen führen Sie bitte zuerst die Zelle mit Ihrer Lösung und danach die Zelle mit dem zugehörigen Test aus.\n"
   ]
  },
  {
   "cell_type": "code",
   "execution_count": null,
   "metadata": {
    "nbgrader": {
     "grade": true,
     "grade_id": "cell-5ae06540cdad36c5",
     "locked": true,
     "points": 0,
     "schema_version": 1,
     "solution": false
    }
   },
   "outputs": [],
   "source": [
    "try:\n",
    "    filter_aktien([['SAP', -0.3, 100.0], ['MSFT', +1.5, 180.4]])\n",
    "except NotImplementedError:\n",
    "    print(\"Bitte entfernen Sie das \\\"raise NotImplementedError()\\\"\")"
   ]
  },
  {
   "source": [
    "## Test 1 - Korrekte Filterung der meisten Aktien\n",
    "Die von der Funktion `filter_aktien` zurückgegebene Liste `aktien_zu_verkaufen` muss die korrekten Aktienkurse enthalten."
   ],
   "cell_type": "markdown",
   "metadata": {
    "nbgrader": {
     "grade": false,
     "grade_id": "cell-6706affc2650c364",
     "locked": true,
     "schema_version": 1,
     "solution": false
    }
   }
  },
  {
   "cell_type": "code",
   "execution_count": null,
   "metadata": {
    "nbgrader": {
     "grade": true,
     "grade_id": "cell-5930e3ee07100aa3",
     "locked": true,
     "points": 1,
     "schema_version": 1,
     "solution": false
    }
   },
   "outputs": [],
   "source": [
    "from nose.tools import assert_equal, assert_is_instance\n",
    "\n",
    "shares = [['SAP', -0.3, 100.0], ['MSFT', +1.5, 180.4], ['APPL', +0.5, 480.4], ['AMZN', +1.23, 450.8], ['MCD', -1.2, 350]]\n",
    "try:\n",
    "    expected_output = [['MSFT', 1.5, 180.4], ['AMZN', 1.23, 450.8]]\n",
    "    assert_equal(filter_aktien(shares), expected_output)\n",
    "    print(\"Test 1 erfolgreich\")\n",
    "except AssertionError as e:\n",
    "    print(\"Die zurückgegebenen Aktienkurse sind nicht korrekt.\")\n",
    "    print(e)"
   ]
  },
  {
   "source": [
    "## Test 2 - Einbeziehung der Aktien mit Veränderungen genau gleich 1\n",
    "Die von der Funktion `filter_aktien` zurückgegebene Liste `aktien_zu_verkaufen` soll nicht nur alle Aktienkurse mit einer Veränderung zum Vortag größer als 1 speichern sondern auch Aktienkurse bei denen die Veränderung genau gleich 1 ist."
   ],
   "cell_type": "markdown",
   "metadata": {
    "nbgrader": {
     "grade": false,
     "grade_id": "cell-e309d8e581d44482",
     "locked": true,
     "schema_version": 1,
     "solution": false
    }
   }
  },
  {
   "cell_type": "code",
   "execution_count": null,
   "metadata": {
    "nbgrader": {
     "grade": true,
     "grade_id": "cell-e761db6779b21c92",
     "locked": true,
     "points": 1,
     "schema_version": 1,
     "solution": false
    }
   },
   "outputs": [],
   "source": [
    "from nose.tools import assert_equal, assert_is_instance\n",
    "\n",
    "shares = [['MSFT', +1, 180.4]]\n",
    "try:\n",
    "    expected_output = [['MSFT', +1, 180.4]]\n",
    "    assert_equal(filter_aktien(shares), expected_output)\n",
    "    print(\"Test 2 erfolgreich\")\n",
    "except AssertionError as e:\n",
    "    print(\"Die Liste bezieht keine Aktien ein, bei denen die Veränderung genau gleich 1 ist.\")\n",
    "    print(e)"
   ]
  }
 ],
 "metadata": {
  "celltoolbar": "Create Assignment",
  "kernelspec": {
   "display_name": "Python 3",
   "language": "python",
   "name": "python3"
  },
  "language_info": {
   "codemirror_mode": {
    "name": "ipython",
    "version": 3
   },
   "file_extension": ".py",
   "mimetype": "text/x-python",
   "name": "python",
   "nbconvert_exporter": "python",
   "pygments_lexer": "ipython3",
   "version": "3.7.2"
  }
 },
 "nbformat": 4,
 "nbformat_minor": 2
}