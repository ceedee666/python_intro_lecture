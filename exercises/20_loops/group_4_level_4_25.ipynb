{
 "cells": [
  {
   "source": [
    "# Aufgabe 4\n",
    "\n",
    "Im Rahmen der Bestellungsabwicklung soll ein Programm zur automatischen Bewertung mehrerer Bestellungen implementiert werden. So sollen aus einer Liste mehrerer Bestellungen alle herausgefiltert werden, die schon bezahlt wurden.\n",
    "\n",
    "Implementieren Sie nun die Funktion `analyse_bestellungen`. Diese Funktion erhält als Parameter eine Liste `bestellungen`. Diese Liste besteht allerding aus mehreren Listen. So ist jedes Element der Liste `bestellungen` eine Liste bestehend aus der Bestellungsnummer als erstem Wert, gefolgt von der Artikelbezeichnung als zweitem Wert, sowie als drittes einem Boolean-Wert der speichert ob die Bestellung bezahlt wurde (in diesem Fall ist der Wert True). Die Liste sieht also in etwa so aus: `[[76576, \"Regal\", True], [76577, \"Tisch\", False], [76578, \"Bett\", True]]`.  \n",
    "\n",
    "Als Ergebnis soll eine Liste mit nur den Bestellungen, die schon bezahlt wurden, zurückgegeben werden (`bezahlte_bestellungen`). Ergebnis für obiges Beispiel wäre also: `[[76576, \"Regal\", True], [76578, \"Bett\", True]]`\n",
    "\n",
    "\n",
    "\n",
    "### Hilfe\n",
    "Sie können Ihre Lösung mit den automatisierten [Tests](#Automatische-Tests) weiter unten im Dokument überprüfen.<br>\n",
    "Eine Einführung in die `For-Schleifen` in Python finden Sie [hier](../../50_loops/for_loop.ipynb)."
   ],
   "cell_type": "markdown",
   "metadata": {
    "nbgrader": {
     "grade": false,
     "grade_id": "cell-65ab909cb95d19f0",
     "locked": true,
     "schema_version": 1,
     "solution": false
    }
   }
  },
  {
   "cell_type": "code",
   "execution_count": null,
   "metadata": {
    "nbgrader": {
     "grade": false,
     "grade_id": "cell-e99d1d9aa40f8383",
     "locked": false,
     "schema_version": 1,
     "solution": true
    }
   },
   "outputs": [],
   "source": [
    "def analyse_bestellungen(bestellungen):\n",
    "    \n",
    "    bezahlte_bestellungen = []\n",
    "    for bestellung in bestellungen:\n",
    "        ###START\n",
    "        # prüfe ob die Bestellung bezahlt ist und füge sie gegebenenfalls zu \"bezahlte_bestellungen\" hinzu\n",
    "        ###ENDE   \n",
    "    return bezahlte_bestellungen\n",
    "\n",
    "print(\"Bei \\\"bestellungen = [[10001, \\\"Esstisch\\\", False], [10002, \\\"Sofa\\\", True]]\\\" liefert Ihre Funktion:\", analyse_bestellungen([[10001, \"Esstisch\", False], [10002, \"Sofa\", True]]))"
   ]
  },
  {
   "cell_type": "markdown",
   "metadata": {
    "nbgrader": {
     "grade": false,
     "grade_id": "cell-eaf6b5dffdd510c9",
     "locked": true,
     "schema_version": 1,
     "solution": false
    }
   },
   "source": [
    "  ***\n",
    "  # Automatische Tests\n",
    "  Ab hier finden Sie einige automatisierte Tests um Ihre Lösungen zu überprüfen. Um Ihre Lösung zu prüfen führen Sie bitte zuerst die Zelle mit Ihrer Lösung und danach die Zelle mit dem zugehörigen Test aus.\n"
   ]
  },
  {
   "cell_type": "code",
   "execution_count": null,
   "metadata": {
    "nbgrader": {
     "grade": true,
     "grade_id": "cell-c4b4edfe13551af1",
     "locked": true,
     "points": 0,
     "schema_version": 1,
     "solution": false
    }
   },
   "outputs": [],
   "source": [
    "try:\n",
    "    analyse_bestellungen([[10001, \"Esstisch\", False], [10002, \"Sofa\", False]])\n",
    "except NotImplementedError:\n",
    "    print(\"Bitte entfernen Sie das \\\"raise NotImplementedError()\\\"\")"
   ]
  },
  {
   "cell_type": "markdown",
   "metadata": {
    "nbgrader": {
     "grade": false,
     "grade_id": "cell-a24a882dabce404f",
     "locked": true,
     "schema_version": 1,
     "solution": false
    }
   },
   "source": [
    "## Test 1 - Richtige Filterung\n",
    "Es sollen die Bestellungen herausgefiltert werden, die bereits bezahlt wurden. Das heißt der dritte Wert ist \"True\"."
   ]
  },
  {
   "cell_type": "code",
   "execution_count": null,
   "metadata": {
    "nbgrader": {
     "grade": true,
     "grade_id": "cell-ffc6c3a680fd5227",
     "locked": true,
     "points": 0,
     "schema_version": 1,
     "solution": false
    }
   },
   "outputs": [],
   "source": [
    "from nose.tools import assert_equal\n",
    "\n",
    "orders = [[10001, \"Esstisch\", False], [10002, \"Sofa\", False], [10003, \"Schreibtisch\", True]]\n",
    "paid_orders = analyse_bestellungen(orders)\n",
    "try:\n",
    "    assert_equal(paid_orders, [[10003, \"Schreibtisch\", True]])\n",
    "    print(\"Test 1 erfolgreich\")\n",
    "except AssertionError as e:\n",
    "    print(\"Das Material \\\"Muttern\\\" sollte als einziges Material zurückgegeben werden\")\n",
    "    print(e)\n",
    "    \n",
    "\n",
    "orders = [[10001, \"iPhone X\", True], [10002, \"iPad 2018\", False], [10003, \"Apple Watch\", False]]\n",
    "paid_orders = analyse_bestellungen(orders)\n",
    "try:\n",
    "    assert_equal(paid_orders, [[10001, \"iPhone X\", True]])\n",
    "    print(\"Test 2 erfolgreich\")\n",
    "except AssertionError as e:\n",
    "    print(\"Das Material \\\"Muttern\\\" sollte als einziges Material zurückgegeben werden\")\n",
    "    print(e)\n",
    "    \n",
    "\n",
    "orders = [[10001, \"Esstisch\", True], [10002, \"Sofa\", False], [10003, \"Schublade\", False], [10004, \"Schreibtisch\", True]]\n",
    "paid_orders = analyse_bestellungen(orders)\n",
    "try:\n",
    "    assert_equal(paid_orders, [[10001, \"Esstisch\", True], [10004, \"Schreibtisch\", True]])\n",
    "    print(\"Test 3 erfolgreich\")\n",
    "except AssertionError as e:\n",
    "    print(\"Das Material \\\"Muttern\\\" sollte als einziges Material zurückgegeben werden\")\n",
    "    print(e)"
   ]
  }
 ],
 "metadata": {
  "celltoolbar": "Create Assignment",
  "file_extension": ".py",
  "kernelspec": {
   "display_name": "Python 3",
   "language": "python",
   "name": "python3"
  },
  "language_info": {
   "codemirror_mode": {
    "name": "ipython",
    "version": 3
   },
   "file_extension": ".py",
   "mimetype": "text/x-python",
   "name": "python",
   "nbconvert_exporter": "python",
   "pygments_lexer": "ipython3",
   "version": "3.7.2"
  },
  "mimetype": "text/x-python",
  "name": "python",
  "npconvert_exporter": "python",
  "pygments_lexer": "ipython3",
  "version": 3
 },
 "nbformat": 4,
 "nbformat_minor": 2
}