{
 "metadata": {
  "language_info": {
   "codemirror_mode": {
    "name": "ipython",
    "version": 3
   },
   "file_extension": ".py",
   "mimetype": "text/x-python",
   "name": "python",
   "nbconvert_exporter": "python",
   "pygments_lexer": "ipython3",
   "version": "3.8.5-final"
  },
  "orig_nbformat": 2,
  "kernelspec": {
   "name": "python_defaultSpec_1599397848477",
   "display_name": "Python 3.8.5 32-bit"
  }
 },
 "nbformat": 4,
 "nbformat_minor": 2,
 "cells": [
  {
   "source": [
    "# Aufgabe 2\n",
    "\n",
    "In dieser Aufgabe befassen wir uns mit der Berechnung von Abschreibungsplänen. Diese können mittels PC-Programmen schnell und in großen Mengen berechnet werden. Da dieses auch Ihr neuer Chef in der Muster AG mitbekommen hat, erwartet er von Ihnen ein solches Programm zu entwickeln. Als Vorgabe haben Sie folgendes:\n",
    "\n",
    "1. Schreiben Sie ein Programm, welches eine Degressiven Abschreibungsplan berechnet.\n",
    "2. Sie kriegen den Prozentsatz der Abschreibung in der Variable Prozentwert vorgegeben.\n",
    "3. Den ursprünglichen Wert der Maschine kriegen Sie in der Variable Wert_Maschine vorgegeben.\n",
    "4. Die Abschreibungswerte sollen in dem Array Abschreibungsplan angegeben werden. Achten Sie darauf, dass der 0 Wert schon eingetragen wurde.\n",
    "5. Geben Sie den Abschreibungsplan in folgendem Format an: `[0] = Startwert` ,`[1] = Startwert - Abschreibung ` usw. an.\n",
    "6. Ab einen Wert von Prozentwert * Wert_Maschine soll eine lineare Abschreibung vorgenommen werden Laufzeit: 2 Jahre.\n",
    "7. Nutzen Sie die array.append(wert) Funktion um den Abschreibungsplan zu erstellen. Diese fügt automatisch am Ende des arrays einen neuen Eintrag ein mit eingegeben wert.\n",
    "\n",
    "\n",
    "### Hilfe\n",
    "\n",
    "1. Überlegen Sie sich, welche Schleife hierbei sinnvoll sein kann.\n",
    "2. Denken Sie daran, die linearen Abschreibungen auch in den Plan einzutragen.\n",
    "3. Denken Sie daran, die Abschreibung neu zu berechnen nach der prozentualen Abschreibung."
   ],
   "cell_type": "markdown",
   "metadata": {}
  },
  {
   "cell_type": "code",
   "execution_count": null,
   "metadata": {
    "tags": []
   },
   "outputs": [],
   "source": [
    "M_1 = 1000\n",
    "p = 0.4\n",
    "def berechne_degressiv(Wert_Maschine,Prozentwert):\n",
    "    Abschreibungsplan = [Wert_Maschine]\n",
    "    ###START\n",
    "    Grenze = Prozentwert * Wert_Maschine\n",
    "    #Iterieren Sie hier solange über den Wert der Maschine, bis dieser kleiner ist als die Grenze\n",
    "        #Berechnen Sie zuerst die jährliche Abschreibungssumme\n",
    "        #Ziehen Sie hier vom Wert der Maschine den jeweiligen Abschreibungswert ab\n",
    "        #Fügen Sie hier dem Abschreibungsplan den Restwert der Maschine hinzu\n",
    "    #Berechnen Sie hier die Abschreibung von 2 Jahren bevor Sie diese im nächsten Schritt abziehen\n",
    "    #Iterieren Sie hier noch 2 weitere Jahre über den Rest-Wert der Maschine\n",
    "        #Ziehen Sie zuerst vom Restwert der Maschine die Abschreibung ab und fügen dannach den Restwert dem Abschreibungplan hinzu\n",
    "    ###ENDE\n",
    "    return Abschreibungsplan\n",
    "berechne_degressiv(M_1,p)"
   ]
  },
  {
   "cell_type": "markdown",
   "metadata": {},
   "source": [
    "# Automatische Tests"
   ]
  },
  {
   "cell_type": "code",
   "execution_count": null,
   "metadata": {
    "tags": []
   },
   "outputs": [],
   "source": [
    "import sys\n",
    "sys.path.append(\"../..\")\n",
    "from nose.tools import assert_equal, assert_not_equal\n",
    "from utils import * \n",
    "\n",
    "try:\n",
    "    W = 250000\n",
    "    p = 0.1\n",
    "    Erg = berechne_degressiv(W,p)\n",
    "    expected_out = [250000, 225000.0, 202500.0, 182250.0, 164025.0, 147622.5, 132860.25, 119574.225, 107616.8025, 96855.12225, 87169.610025, 78452.6490225, 70607.38412025, 63546.645708225005, 57191.9811374025, 51472.783023662254, 46325.50472129603, 41692.954249166425, 37523.65882424978, 33771.2929418248, 30394.163647642323, 27354.74728287809, 24619.27255459028, 12309.63627729514, 0.0]\n",
    "    assert_equal(Erg, expected_out)\n",
    "    print(\"[OK] Abschreibungsplan bei einem Maschinenwert von\", W ,\"und Abschreibungswert vom\", p * 100,\"Prozent in Ordnung!\")\n",
    "except AssertionError as e:\n",
    "    print(\"[FEHLER] Abschreibungsplan sollte bei Maschinenwert von\", W ,\"und einem Abschreibungswert von\", p * 100 ,\"Prozent,\", expected_out, \"sein.\")\n",
    "    print(\"       \",e)\n",
    "except Exception as e:\n",
    "    print(\"[FEHLER]\", friendly_exceptions.msg(e))\n",
    "\n",
    "try:\n",
    "    W = 10000\n",
    "    p = 0.3\n",
    "    Erg = berechne_degressiv(W,p)\n",
    "    expected_out = [10000, 7000.0, 4900.0, 3430.0, 2401.0, 1200.5, 0.0]\n",
    "    assert_equal(Erg, expected_out)\n",
    "    print(\"[OK] Abschreibungsplan bei einem Maschinenwert von\", W ,\"und Abschreibungswert vom\", p * 100,\"Prozent in Ordnung!\")\n",
    "except AssertionError as e:\n",
    "    print(\"[FEHLER] Abschreibungsplan sollte bei Maschinenwert von\", W ,\"und einem Abschreibungswert von\", p * 100 ,\"Prozent,\", expected_out, \"sein.\")\n",
    "    print(\"       \",e)\n",
    "except Exception as e:\n",
    "    print(\"[FEHLER]\", friendly_exceptions.msg(e))\n",
    "\n",
    "try:\n",
    "    W = 1000\n",
    "    p = 0.4\n",
    "    Erg = berechne_degressiv(W,p)\n",
    "    expected_out = [1000, 600.0, 360.0, 180.0, 0.0]\n",
    "    assert_equal(Erg, expected_out)\n",
    "    print(\"[OK] Abschreibungsplan bei einem Maschinenwert von\", W ,\"und Abschreibungswert vom\", p * 100,\"Prozent in Ordnung!\")\n",
    "except AssertionError as e:\n",
    "    print(\"[FEHLER] Abschreibungsplan sollte bei Maschinenwert von\", W ,\"und einem Abschreibungswert von\", p * 100 ,\"Prozent,\", expected_out, \"sein.\")\n",
    "    print(\"       \",e)\n",
    "except Exception as e:\n",
    "    print(\"[FEHLER]\", friendly_exceptions.msg(e))\n",
    "\n",
    "try:\n",
    "    W = 100000\n",
    "    p = 0.09\n",
    "    Erg = berechne_degressiv(W,p)\n",
    "    expected_out = [100000, 91000.0, 82810.0, 75357.1, 68574.96100000001, 62403.21451000001, 56786.925204100015, 51676.101935731014, 47025.25276151522, 42792.98001297885, 38941.611811810755, 35436.86674874779, 32247.548741360486, 29345.269354638043, 26704.19511272062, 24300.817552575765, 22113.743972843946, 20123.507015287993, 18312.391383912072, 16664.276159359986, 15164.491305017587, 13799.687087566004, 12557.715249685065, 11427.52087721341, 10399.043998264204, 9463.130038420426, 8611.448334962588, 4305.724167481294, 0.0]\n",
    "    assert_equal(Erg, expected_out)\n",
    "    print(\"[OK] Abschreibungsplan bei einem Maschinenwert von\", W ,\"und Abschreibungswert vom\", p * 100,\"Prozent in Ordnung!\")\n",
    "except AssertionError as e:\n",
    "    print(\"[FEHLER] Abschreibungsplan sollte bei Maschinenwert von\", W ,\"und einem Abschreibungswert von\", p * 100 ,\"Prozent,\", expected_out, \"sein.\")\n",
    "    print(\"       \",e)\n",
    "except Exception as e:\n",
    "    print(\"[FEHLER]\", friendly_exceptions.msg(e))\n",
    "\n",
    "try:\n",
    "    W = 5000\n",
    "    p = 0.12\n",
    "    Erg = berechne_degressiv(W,p)\n",
    "    expected_out = [5000, 4400.0, 3872.0, 3407.36, 2998.4768000000004, 2638.6595840000005, 2322.0204339200004, 2043.3779818496005, 1798.1726240276485, 1582.3919091443306, 1392.5048800470108, 1225.4042944413695, 1078.3557791084052, 948.9530856153965, 835.0787153415489, 734.8692695005631, 646.6849571604955, 569.082762301236, 284.541381150618, 0.0]\n",
    "    assert_equal(Erg, expected_out)\n",
    "    print(\"[OK] Abschreibungsplan bei einem Maschinenwert von\", W ,\"und Abschreibungswert vom\", p * 100,\"Prozent in Ordnung!\")\n",
    "except AssertionError as e:\n",
    "    print(\"[FEHLER] Abschreibungsplan sollte bei Maschinenwert von\", W ,\"und einem Abschreibungswert von\", p * 100 ,\"Prozent,\", expected_out, \"sein.\")\n",
    "    print(\"       \",e)\n",
    "except Exception as e:\n",
    "    print(\"[FEHLER]\", friendly_exceptions.msg(e))"
   ]
  }
 ]
}