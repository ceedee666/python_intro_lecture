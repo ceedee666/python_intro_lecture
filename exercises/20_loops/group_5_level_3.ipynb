{
 "cells": [
  {
   "cell_type": "markdown",
   "metadata": {
    "nbgrader": {
     "grade": false,
     "grade_id": "cell-82bcfe909881f083",
     "locked": true,
     "schema_version": 1,
     "solution": false
    }
   },
   "source": [
    "# Aufgabe 3\n",
    "\n",
    "Um Ihren Online-Shop vor Hackerangriffen zu schützen wollen Sie ein Programm implementieren, welches beim betreten der Webseite überprüft ob der Besucher ein Mensch ist. Bekannt sind diese Tests als [Captcha](https://en.wikipedia.org/wiki/CAPTCHA).  \n",
    "Versuchen Sie in diesem Schritt ein vereinfachtes Captcha zu programmieren, welches vom Benutzer eine Primzahl als Eingabe erwartet. \n",
    "\n",
    "Implementieren Sie nun die Funktion `captcha`. Diese Funktion soll nach einer Eingabe verlangen. Prüfen Sie zunächst ob diese Eingabe eine Zahl ist. Ist dies nicht der Fall so soll das Programm erst gar nicht weiter ausgeführt werden.   \n",
    "Prüfen Sie danach ob die Zahl eine Primzahl ist. Ist diese Eingabe keine Primzahl, so soll die Eingabe immer weiter wiederholt werden, bis die richtige Eingabe erfolgt. Das soll folgendermaßen aussehen:  \n",
    "\n",
    "Fall 1:  \n",
    "Geben Sie eine Primzahl ein: __45__  \n",
    "Keine Primzahl  \n",
    "Geben Sie eine Primzahl ein: __12__  \n",
    "Keine Primzahl  \n",
    "Geben Sie eine Primzahl ein: __7__  \n",
    "Primzahl  \n",
    "\n",
    "---\n",
    "Fall 2:  \n",
    "Geben Sie eine Primzahl ein: __56__  \n",
    "Keine Primzahl  \n",
    "Geben Sie eine Primzahl ein: __zwei__  \n",
    "Das ist keine Zahl.  \n",
    "\n",
    "\n",
    "\n",
    "\n",
    "### Hilfe\n",
    "Sie können Ihre Lösung mit den automatisierten [Tests](#Automatische-Tests) weiter unten im Dokument überprüfen.<br>\n",
    "Eine Einführung in die `While-Schleifen` in Python finden Sie [hier](../../50_loops/while_loop.ipynb)."
   ]
  },
  {
   "cell_type": "code",
   "execution_count": null,
   "metadata": {
    "nbgrader": {
     "grade": false,
     "grade_id": "cell-ae858d4a7d4b24f8",
     "locked": false,
     "schema_version": 1,
     "solution": true
    }
   },
   "outputs": [],
   "source": [
    "def validiere_coupon():\n",
    "    \n",
    "    ###START\n",
    "    \n",
    "    ###ENDE\n",
    "    \n",
    "    return\n",
    "\n",
    "validiere_coupon()"
   ]
  },
  {
   "cell_type": "markdown",
   "metadata": {
    "nbgrader": {
     "grade": false,
     "grade_id": "cell-884d329e436a1a39",
     "locked": true,
     "schema_version": 1,
     "solution": false
    }
   },
   "source": [
    "  ***\n",
    "  # Automatische Tests\n",
    "  Ab hier finden Sie einige automatisierte Tests um Ihre Lösungen zu überprüfen. Um Ihre Lösung zu prüfen führen Sie bitte zuerst die Zelle mit Ihrer Lösung und danach die Zelle mit dem zugehörigen Test aus.\n"
   ]
  },
  {
   "cell_type": "code",
   "execution_count": null,
   "metadata": {
    "nbgrader": {
     "grade": true,
     "grade_id": "cell-d73d157adec0fd82",
     "locked": true,
     "points": 0,
     "schema_version": 1,
     "solution": false
    }
   },
   "outputs": [],
   "source": [
    "try:\n",
    "    validiere_coupon()\n",
    "except NotImplementedError:\n",
    "    print(\"Bitte entfernen Sie das \\\"raise NotImplementedError()\\\"\")"
   ]
  },
  {
   "cell_type": "markdown",
   "metadata": {
    "nbgrader": {
     "grade": false,
     "grade_id": "cell-6686ef62468e9e25",
     "locked": true,
     "schema_version": 1,
     "solution": false
    }
   },
   "source": [
    "## Test 1 - Korrekte Abfrage\n",
    "Das Programm soll wie oben beschrieben funktionieren.\n",
    "\n",
    "__Hinweis__: Diese Tests sind sehr anfällig für kleinste Abweichungen. Achten Sie bitte darauf, dass Ihr Programm *genau* so aussieht wie in der Aufgabenstellung als Beispiel dargestellt.  \n",
    "Achten Sie bitte auch darauf den Text \"Geben Sie eine Primzahl ein: \" mittels input auszugeben (also `input(\"Geben Sie eine Primzahl ein: \")`). Bitte verwenden Sie hier kein print()."
   ]
  },
  {
   "cell_type": "code",
   "execution_count": null,
   "metadata": {
    "nbgrader": {
     "grade": true,
     "grade_id": "cell-4384a6faf24f294d",
     "locked": true,
     "points": 0,
     "schema_version": 1,
     "solution": false
    }
   },
   "outputs": [],
   "source": [
    "from unittest import mock\n",
    "from nose.tools import assert_equal\n",
    "import unittest\n",
    "import io\n",
    "\n",
    "with mock.patch('builtins.input', side_effect=[\"7\"]):\n",
    "    with mock.patch('sys.stdout', new=io.StringIO()) as fake_stdout:\n",
    "        validiere_coupon()\n",
    "\n",
    "    print(\"Teste 7 als erste Eingabe\")\n",
    "    assert_equal(fake_stdout.getvalue(), 'Primzahl\\n', \"Sollte die erste Eingabe bereits eine Primzahl sein, so sollte das Programm \\\"Primzahl\\\" ausgeben und sich beenden\")\n",
    "    print(\"Test 1 erfolgreich.\")\n",
    "    \n",
    "with mock.patch('builtins.input', side_effect=[\"80\", \"60\", \"197\"]):\n",
    "    with mock.patch('sys.stdout', new=io.StringIO()) as fake_stdout:\n",
    "        validiere_coupon()\n",
    "\n",
    "    print(\"Teste 197 als dritte Eingabe\")\n",
    "    assert_equal(fake_stdout.getvalue(), 'Keine Primzahl\\nKeine Primzahl\\nPrimzahl\\n', \"Das Programm soll (wenn Zahlen eingegeben werden) so lange nach einer Eingabe verlangen bis diese eine Primzahl ist. Andernfalls soll \\\"Keine Primzahl\\\" ausgegeben werden.\")\n",
    "    print(\"Test 2 erfolgreich.\")\n",
    "    \n",
    "with mock.patch('builtins.input', side_effect=[\"1234\", \"hallo\"]):\n",
    "    with mock.patch('sys.stdout', new=io.StringIO()) as fake_stdout:\n",
    "        validiere_coupon()\n",
    "\n",
    "    print(\"Teste Buchstaben als zweite Eingabe\")\n",
    "    assert_equal(fake_stdout.getvalue(), 'Keine Primzahl\\nDas ist keine Zahl.\\n', \"Das Programm soll sich beenden wenn keine Zahl eingegeben wird. Vorher soll \\\"Das ist keine Zahl.\\\" ausgegeben werden.\")\n",
    "    print(\"Test 3 erfolgreich.\")\n",
    "\n",
    "with mock.patch('builtins.input', side_effect=[\"hallo\"]):\n",
    "    with mock.patch('sys.stdout', new=io.StringIO()) as fake_stdout:\n",
    "        validiere_coupon()\n",
    "\n",
    "    print(\"Teste Buchstaben als erste Eingabe\")\n",
    "    assert_equal(fake_stdout.getvalue(), 'Das ist keine Zahl.\\n', \"Auch wenn die erste Eingabe bereits keine Zahl ist soll das Programm die Fehlermeldung ausgeben und sich beenden.\")\n",
    "    print(\"Test 4 erfolgreich.\")"
   ]
  }
 ],
 "metadata": {
  "celltoolbar": "Create Assignment",
  "file_extension": ".py",
  "kernelspec": {
   "display_name": "Python 3",
   "language": "python",
   "name": "python3"
  },
  "language_info": {
   "codemirror_mode": {
    "name": "ipython",
    "version": 3
   },
   "file_extension": ".py",
   "mimetype": "text/x-python",
   "name": "python",
   "nbconvert_exporter": "python",
   "pygments_lexer": "ipython3",
   "version": "3.7.2"
  },
  "mimetype": "text/x-python",
  "name": "python",
  "npconvert_exporter": "python",
  "pygments_lexer": "ipython3",
  "version": 3
 },
 "nbformat": 4,
 "nbformat_minor": 2
}