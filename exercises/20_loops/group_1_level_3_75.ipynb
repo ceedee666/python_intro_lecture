{
 "cells": [
  {
   "cell_type": "markdown",
   "metadata": {
    "nbgrader": {
     "grade": false,
     "grade_id": "cell-3b8cdecf8a1eef88",
     "locked": true,
     "schema_version": 1,
     "solution": false
    }
   },
   "source": [
    "Aufgabe 3 - Produktionsmengenplanung\n",
    "------------\n",
    "Gegeben sind die Absatzprognosen sowie Ziellagerbestände eines Produktes für die nächsten 12 Monate in gleichnamigen Listen.\n",
    "Erstellen Sie eine neue Liste, in der Sie die Produktionsmengen für die jeweiligen Monate speichern.  \n",
    "Beachten Sie die Lagerbestände aus dem jeweils vorhergehenden Monat in den nächsten Monat zu übernehmen."
   ]
  },
  {
   "cell_type": "code",
   "execution_count": null,
   "metadata": {
    "nbgrader": {
     "grade": false,
     "grade_id": "cell-073db0e144d454aa",
     "locked": false,
     "schema_version": 1,
     "solution": true
    }
   },
   "outputs": [],
   "source": [
    "def erstelle_produktions_plan(verkaufs_plan, ziel_bestand):\n",
    "    \n",
    "    produktions_plan = []\n",
    "    vorheriger_bestand = 0\n",
    "    for monat in range(len(verkaufs_plan)):\n",
    "        ###START\n",
    "        # Berechnung der Produktionsmengen für den aktuellen Monat\n",
    "        ###ENDE\n",
    "        vorheriger_bestand = ziel_bestand[monat]\n",
    "        \n",
    "    return produktions_plan\n",
    "\n",
    "print(\"Bei \\\"verkaufs_plan = [20, 30, 40]\\\" und \\\"ziel_bestand = [50, 60, 65]\\\" liefert Ihre Funktion:\", erstelle_produktions_plan([20, 30, 40], [50, 60, 65]))"
   ]
  },
  {
   "cell_type": "markdown",
   "metadata": {
    "nbgrader": {
     "grade": false,
     "grade_id": "cell-e99d97c0a3acc185",
     "locked": true,
     "schema_version": 1,
     "solution": false
    }
   },
   "source": [
    "   ***\n",
    "# Automatische Tests\n",
    "Ab hier finden Sie einige automatisierte Tests um Ihre Lösungen zu überprüfen. Um Ihre Lösung zu prüfen führen Sie bitte zuerst die Zelle mit Ihrer Lösung und danach die Zelle mit dem zugehörigen Test aus.\n"
   ]
  },
  {
   "cell_type": "code",
   "execution_count": null,
   "metadata": {
    "nbgrader": {
     "grade": true,
     "grade_id": "cell-42ba2270619bd540",
     "locked": true,
     "points": 0,
     "schema_version": 1,
     "solution": false
    }
   },
   "outputs": [],
   "source": [
    "try:\n",
    "    erstelle_produktions_plan([0, 0, 0, 0], [0, 0, 0, 0])\n",
    "except NotImplementedError:\n",
    "    print(\"Bitte entfernen Sie das \\\"raise NotImplementedError()\\\"\")"
   ]
  },
  {
   "source": [
    "## Test 1 - Länge der Ergebnisliste\n",
    "Das von der Funktion `erstelle_produktions_plan` zurückgegebene Ergebnis  `produktions_plan` ist eine Liste.\n",
    "Diese Liste muss genau so viele Einträge enthalten wie\n",
    "die übergebenen Listen `verkaufs_plan` und `ziel_bestand`. In diesem Test hat die übergebene Liste die Länge 12."
   ],
   "cell_type": "markdown",
   "metadata": {
    "nbgrader": {
     "grade": false,
     "grade_id": "cell-d993ad62fe4ebaef",
     "locked": true,
     "schema_version": 1,
     "solution": false
    }
   }
  },
  {
   "cell_type": "code",
   "execution_count": null,
   "metadata": {
    "nbgrader": {
     "grade": true,
     "grade_id": "cell-dd7d08596810b7d2",
     "locked": true,
     "points": 1,
     "schema_version": 1,
     "solution": false
    }
   },
   "outputs": [],
   "source": [
    "from nose.tools import assert_equal, assert_is_instance\n",
    "\n",
    "sales_plan = [0, 0, 0, 0, 0, 0, 0, 0, 0, 0, 0, 0]\n",
    "target_stock = [0, 0, 0, 0, 0, 0, 0, 0, 0, 0, 0, 0]\n",
    "production_plan = erstelle_produktions_plan(sales_plan, target_stock)\n",
    "try:\n",
    "    assert_is_instance(production_plan, list)\n",
    "    assert_equal(len(production_plan), 12)\n",
    "    print(\"Test 1 erfolgreich\")\n",
    "except AssertionError as e:\n",
    "    print(\"Die Produktionsmengen sollen als Liste ausgegeben werden.\\nDie zurückgegebene Liste muss 12 Einträge enthalten.\")\n",
    "    print(e)"
   ]
  },
  {
   "source": [
    "## Test 2 - Korrekte Berechnung der Produktionsmengen\n",
    "Die von der Funktion `erstelle_produktions_plan` zurückgegebene Liste `produktions_plan` muss die korrekten Produktionsmengen in\n",
    "Abhängigkeit von den übergebenen Absatzmengen und Ziellagerbeständen enthalten."
   ],
   "cell_type": "markdown",
   "metadata": {
    "nbgrader": {
     "grade": false,
     "grade_id": "cell-6a2b8654c6272788",
     "locked": true,
     "schema_version": 1,
     "solution": false
    }
   }
  },
  {
   "cell_type": "code",
   "execution_count": null,
   "metadata": {
    "nbgrader": {
     "grade": true,
     "grade_id": "cell-c25447d271049c6a",
     "locked": true,
     "points": 1,
     "schema_version": 1,
     "solution": false
    }
   },
   "outputs": [],
   "source": [
    "from nose.tools import assert_equal, assert_is_instance\n",
    "\n",
    "sales_plan = [570, 500, 520, 500, 600, 550, 530, 520, 530, 590, 600, 590]\n",
    "target_stock = [100, 100, 150, 100, 200, 100, 150, 100, 150, 100, 100, 50]\n",
    "try:\n",
    "    expected_production_plan = [670, 500, 570, 450, 700, 450, 580, 470, 580, 540, 600, 540]\n",
    "    assert_equal(erstelle_produktions_plan(sales_plan, target_stock), expected_production_plan)\n",
    "    print(\"Test 2 erfolgreich\")\n",
    "except AssertionError as e:\n",
    "    print(\"Die berechneten Produktionsmengen sind nicht korrekt.\")\n",
    "    print(e)"
   ]
  }
 ],
 "metadata": {
  "celltoolbar": "Create Assignment",
  "kernelspec": {
   "display_name": "Python 3",
   "language": "python",
   "name": "python3"
  },
  "language_info": {
   "codemirror_mode": {
    "name": "ipython",
    "version": 3
   },
   "file_extension": ".py",
   "mimetype": "text/x-python",
   "name": "python",
   "nbconvert_exporter": "python",
   "pygments_lexer": "ipython3",
   "version": "3.7.1"
  }
 },
 "nbformat": 4,
 "nbformat_minor": 2
}