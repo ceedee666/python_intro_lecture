{
 "cells": [
  {
   "source": [
    "# Aufgabe 5\n",
    "\n",
    "Im Rahmen der Bestellungsabwicklung soll ein Programm zur automatischen Bewertung mehrerer Bestellungen implementiert werden. So soll anhand einer Liste von Bestellungen und einer (separaten) Liste von Zahlungen erkannt werden, welche Bestellungen noch nicht bezahlt wurden.  \n",
    "\n",
    "Implementieren Sie nun die Funktion `analyse_bestellungen`. Diese Funktion erhält als Parameter eine Liste `bestellungen`. Diese Liste besteht allerding aus mehreren Listen. So ist jedes Element der Liste `bestellungen` eine Liste bestehend aus der Bestellnummer als erstem Wert, gefolgt von einer Artikelbezeichnung. Die Liste sieht also in etwa so aus: `[[10001, \"Erdbeermüsli\"], [10002, \"Blaubeermüsli\"], [\"10003\", \"Früchtemüsli\"]]`.   \n",
    "Zusätzlich gibt es als zweiten Parameter eine weitere Liste `bezahlte`. Diese Liste beinhält alle Bestellnummern, welche bezahlt wurden. Also in etwa so: `[10001, 10003]`.  \n",
    "Als Ergebnis sollen alle Bestellungen zurückgegeben werden, welche noch nicht bezahlt wurden. Für die obigen Beispiele wäre die Ergebnis-Liste also: `[[10002, \"Blaubeermüsli\"]`\n",
    "\n",
    "\n",
    "\n",
    "### Hilfe\n",
    "Sie können Ihre Lösung mit den automatisierten [Tests](#Automatische-Tests) weiter unten im Dokument überprüfen.<br>\n",
    "Eine Einführung in die `For-Schleifen` in Python finden Sie [hier](../../50_loops/for_loop.ipynb)."
   ],
   "cell_type": "markdown",
   "metadata": {
    "nbgrader": {
     "grade": false,
     "grade_id": "cell-6b644798d1901f1b",
     "locked": true,
     "schema_version": 1,
     "solution": false
    }
   }
  },
  {
   "cell_type": "code",
   "execution_count": null,
   "metadata": {
    "nbgrader": {
     "grade": false,
     "grade_id": "cell-65b62e49dfcb7d3c",
     "locked": false,
     "schema_version": 1,
     "solution": true
    }
   },
   "outputs": [],
   "source": [
    "def analyse_bestellungen(bestellungen, bezahlte):\n",
    "    \n",
    "    unbezahlte_bestellungen = bestellungen\n",
    "\n",
    "    for bestellung in unbezahlte_bestellungen: \n",
    "        for bezahlt in bezahlte:\n",
    "            ###START\n",
    "            if #Bedingung wann eine Bestellung aus der Liste \"unbezahlte_bestellungen\" entfernt werden soll:\n",
    "            ###ENDE\n",
    "                unbezahlte_bestellungen.remove(bestellung)                \n",
    "\n",
    "    return unbezahlte_bestellungen\n",
    "\n",
    "print(\"Bei \\\"bestellungen = [[10001, \\\"Erdbeermüsli\\\"], [10002, \\\"Blaubeermüsli\\\"]]\\\" und \\\"payments = [10001, 10003]\\\" liefert Ihre Funktion:\", analyse_bestellungen([[10001, \"Erdbeermüsli\"], [10002, \"Blaubeermüsli\"]], [10001, 10003]))"
   ]
  },
  {
   "cell_type": "markdown",
   "metadata": {
    "nbgrader": {
     "grade": false,
     "grade_id": "cell-64607c0f6ab33c40",
     "locked": true,
     "schema_version": 1,
     "solution": false
    }
   },
   "source": [
    "  ***\n",
    "  # Automatische Tests\n",
    "  Ab hier finden Sie einige automatisierte Tests um Ihre Lösungen zu überprüfen. Um Ihre Lösung zu prüfen führen Sie bitte zuerst die Zelle mit Ihrer Lösung und danach die Zelle mit dem zugehörigen Test aus.\n"
   ]
  },
  {
   "cell_type": "code",
   "execution_count": null,
   "metadata": {
    "nbgrader": {
     "grade": true,
     "grade_id": "cell-8cccd9a10c5cdf35",
     "locked": true,
     "points": 0,
     "schema_version": 1,
     "solution": false
    }
   },
   "outputs": [],
   "source": [
    "try:\n",
    "    analyse_bestellungen([[10001, \"Erdbeermüsli\"], [10002, \"Blaubeermüsli\"]], [10001, 10003])\n",
    "except NotImplementedError:\n",
    "    print(\"Bitte entfernen Sie das \\\"raise NotImplementedError()\\\"\")"
   ]
  },
  {
   "cell_type": "markdown",
   "metadata": {
    "nbgrader": {
     "grade": false,
     "grade_id": "cell-6cd48c7744a87cf5",
     "locked": true,
     "schema_version": 1,
     "solution": false
    }
   },
   "source": [
    "## Test 1 - Korrekte Filterung der Bestellungen\n",
    "Die noch *nicht* bezahlten Bestellungen sollen zurückgegeben werden."
   ]
  },
  {
   "cell_type": "code",
   "execution_count": null,
   "metadata": {
    "nbgrader": {
     "grade": true,
     "grade_id": "cell-237bf4f739287ceb",
     "locked": true,
     "points": 0,
     "schema_version": 1,
     "solution": false
    }
   },
   "outputs": [],
   "source": [
    "from nose.tools import assert_equal\n",
    "\n",
    "orders = [[10001, \"Erdbeermüsli\"], [10002, \"Blaubeermüsli\"], [10003, \"Früchtemüsli\"]]\n",
    "payments = [10001, 10003]\n",
    "paid_orders = analyse_bestellungen(orders, payments)\n",
    "try:\n",
    "    assert_equal(paid_orders, [[10002, \"Blaubeermüsli\"]])\n",
    "    print(\"Test 1 erfolgreich\")\n",
    "except AssertionError as e:\n",
    "    print(\"Die Bestellung \\\"10002 Blaubeermüsli\\\" soll zurückgegeben werden.\")\n",
    "    print(e)\n",
    "    \n",
    "\n",
    "orders = [[10001, \"Erdbeermüsli\"], [10002, \"Blaubeermüsli\"], [10003, \"Früchtemüsli\"], [10004, \"Früchtemüsli\"]]\n",
    "payments = [10001, 10003]\n",
    "paid_orders = analyse_bestellungen(orders, payments)\n",
    "try:\n",
    "    assert_equal(paid_orders, [[10002, \"Blaubeermüsli\"], [10004, \"Früchtemüsli\"]])\n",
    "    print(\"Test 2 erfolgreich\")\n",
    "except AssertionError as e:\n",
    "    print(\"Die Bestellungen \\\"10002 Blaubeermüsli\\\" und \\\"10004 Früchtemüsli\\\" sollen zurückgegeben werden.\")\n",
    "    print(e)\n",
    "    \n",
    "\n",
    "orders = [[10001, \"Erdbeermüsli\"], [10002, \"Blaubeermüsli\"], [10003, \"Früchtemüsli\"], [10004, \"Früchtemüsli\"]]\n",
    "payments = [10004]\n",
    "paid_orders = analyse_bestellungen(orders, payments)\n",
    "try:\n",
    "    assert_equal(paid_orders, [[10001, \"Erdbeermüsli\"], [10002, \"Blaubeermüsli\"], [10003, \"Früchtemüsli\"]])\n",
    "    print(\"Test 3 erfolgreich\")\n",
    "except AssertionError as e:\n",
    "    print(\"Die Bestellungen \\\"10001 Erdbeermüsli\\\", \\\"10002 Blaubeermüsli\\\" und \\\"10003 Früchtemüsli\\\" sollen zurückgegeben werden.\")\n",
    "    print(e)"
   ]
  }
 ],
 "metadata": {
  "celltoolbar": "Create Assignment",
  "file_extension": ".py",
  "kernelspec": {
   "display_name": "Python 3",
   "language": "python",
   "name": "python3"
  },
  "language_info": {
   "codemirror_mode": {
    "name": "ipython",
    "version": 3
   },
   "file_extension": ".py",
   "mimetype": "text/x-python",
   "name": "python",
   "nbconvert_exporter": "python",
   "pygments_lexer": "ipython3",
   "version": "3.7.2"
  },
  "mimetype": "text/x-python",
  "name": "python",
  "npconvert_exporter": "python",
  "pygments_lexer": "ipython3",
  "version": 3
 },
 "nbformat": 4,
 "nbformat_minor": 2
}