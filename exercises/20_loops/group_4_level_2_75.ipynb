{
 "cells": [
  {
   "source": [
    "# Aufgabe 2\n",
    "\n",
    "Im Rahmen der Steuerrechnung soll ein Programm zur automatischen Analyse der Umsatzsteuer, welche von Ihrem Unternehmen eingenommen wird, implementiert werden. Dazu sollen die Netto-Verkaufspreise analysiert werden. So soll aus einer Liste mit vielen Einnahmen herausgefiltert werden, welches die höchste eingenommene Umsatzsteuer ist.  \n",
    "\n",
    "Implementieren Sie nun die Funktion `analyse_steuern`. Diese Funktion erhält als Parameter eine Liste `verkaeufe`, welche in Form von Float-Werten die Netto-Verkaufspreise aller verkauften Artikel angibt (in etwa `[500.00, 299.99, 1.79, 149.49]`).  \n",
    "Als Ergebnis soll der höchste Betrag, welcher durch die Umsatzsteuer an einem Artikel eingenommen wurde, in Form eines Float-Wertes zurückgegeben werden (\"hoechste_steuern\").   \n",
    "\n",
    "Tipp: $ Umsatzsteuer = Nettobetrag * 0.19 $\n",
    "\n",
    "### Hilfe\n",
    "Sie können Ihre Lösung mit den automatisierten [Tests](#Automatische-Tests) weiter unten im Dokument überprüfen.<br>\n",
    "Eine Einführung in die `For-Schleifen` in Python finden Sie [hier](../../50_loops/for_loop.ipynb)."
   ],
   "cell_type": "markdown",
   "metadata": {
    "nbgrader": {
     "grade": false,
     "grade_id": "cell-834b0e36692203b3",
     "locked": true,
     "schema_version": 1,
     "solution": false
    }
   }
  },
  {
   "cell_type": "code",
   "execution_count": null,
   "metadata": {
    "nbgrader": {
     "grade": false,
     "grade_id": "cell-a5f281ffaac0dc9e",
     "locked": false,
     "schema_version": 1,
     "solution": true
    }
   },
   "outputs": [],
   "source": [
    "def analyse_steuern(verkaeufe):\n",
    "    \n",
    "    hoechste_steuern = 0\n",
    "    for verkauf in verkaeufe:\n",
    "        if (verkauf * 0.19) > hoechste_steuern:\n",
    "            ###START\n",
    "            # ersetze den Wert der hoechste_steuern durch die neue Umsatzsteuer des Verkaufs\n",
    "            ###ENDE\n",
    "    return hoechste_steuern\n",
    "\n",
    "print(\"Bei \\\"verkaeufe = [20, 30, 40]\\\" liefert Ihre Funktion:\", analyse_steuern([20, 30, 40]))"
   ]
  },
  {
   "cell_type": "markdown",
   "metadata": {
    "nbgrader": {
     "grade": false,
     "grade_id": "cell-9e52e16b13534f0c",
     "locked": true,
     "schema_version": 1,
     "solution": false
    }
   },
   "source": [
    "  ***\n",
    "  # Automatische Tests\n",
    "  Ab hier finden Sie einige automatisierte Tests um Ihre Lösungen zu überprüfen. Um Ihre Lösung zu prüfen führen Sie bitte zuerst die Zelle mit Ihrer Lösung und danach die Zelle mit dem zugehörigen Test aus.\n"
   ]
  },
  {
   "cell_type": "code",
   "execution_count": null,
   "metadata": {
    "nbgrader": {
     "grade": true,
     "grade_id": "cell-6a6176b58b497b62",
     "locked": true,
     "points": 0,
     "schema_version": 1,
     "solution": false
    }
   },
   "outputs": [],
   "source": [
    "try:\n",
    "    analyse_steuern([0, 0, 0, 0])\n",
    "except NotImplementedError:\n",
    "    print(\"Bitte entfernen Sie das \\\"raise NotImplementedError()\\\"\")"
   ]
  },
  {
   "source": [
    "## Test 1 - Korrekte Bestimmung der höchsten EIngenommenen Umsatzsteuer\n",
    "Der Betrag (`hoechste_steuern`) soll für jede Liste korrekt herausgefiltert werden."
   ],
   "cell_type": "markdown",
   "metadata": {
    "nbgrader": {
     "grade": false,
     "grade_id": "cell-1f4752d4951c055d",
     "locked": true,
     "schema_version": 1,
     "solution": false
    }
   }
  },
  {
   "cell_type": "code",
   "execution_count": null,
   "metadata": {
    "nbgrader": {
     "grade": true,
     "grade_id": "cell-e87fcf79985d5938",
     "locked": true,
     "points": 0,
     "schema_version": 1,
     "solution": false
    }
   },
   "outputs": [],
   "source": [
    "from nose.tools import assert_equal\n",
    "\n",
    "sales = [300, 250.45, 19.78, 123.56, 50.23]\n",
    "highest_tax = analyse_steuern(sales)\n",
    "try:\n",
    "    assert_equal(highest_tax, 57)\n",
    "    print(\"Test 1 erfolgreich\")\n",
    "except AssertionError as e:\n",
    "    print(\"Das Ergebnis ist falsch\")\n",
    "    print(e)\n",
    "    \n",
    "\n",
    "sales = [99999999, 1234567, 9876543]\n",
    "highest_tax = analyse_steuern(sales)\n",
    "try:\n",
    "    assert_equal(highest_tax, 18999999.81)\n",
    "    print(\"Test 2 erfolgreich\")\n",
    "except AssertionError as e:\n",
    "    print(\"Das Ergebnis ist falsch\")\n",
    "    print(e)\n",
    "    \n",
    "\n",
    "sales = [12, 20]\n",
    "highest_tax = analyse_steuern(sales)\n",
    "try:\n",
    "    assert_equal(highest_tax, 3.8)\n",
    "    print(\"Test 3 erfolgreich\")\n",
    "except AssertionError as e:\n",
    "    print(\"Das Ergebnis ist falsch\")\n",
    "    print(e)\n",
    "    \n",
    "\n",
    "sales = [20]\n",
    "highest_tax = analyse_steuern(sales)\n",
    "try:\n",
    "    assert_equal(highest_tax, 3.8)\n",
    "    print(\"Test 4 erfolgreich\")\n",
    "except AssertionError as e:\n",
    "    print(\"Das Ergebnis ist falsch\")\n",
    "    print(e)"
   ]
  }
 ],
 "metadata": {
  "celltoolbar": "Create Assignment",
  "file_extension": ".py",
  "kernelspec": {
   "display_name": "Python 3",
   "language": "python",
   "name": "python3"
  },
  "language_info": {
   "codemirror_mode": {
    "name": "ipython",
    "version": 3
   },
   "file_extension": ".py",
   "mimetype": "text/x-python",
   "name": "python",
   "nbconvert_exporter": "python",
   "pygments_lexer": "ipython3",
   "version": "3.7.2"
  },
  "mimetype": "text/x-python",
  "name": "python",
  "npconvert_exporter": "python",
  "pygments_lexer": "ipython3",
  "version": 3
 },
 "nbformat": 4,
 "nbformat_minor": 2
}