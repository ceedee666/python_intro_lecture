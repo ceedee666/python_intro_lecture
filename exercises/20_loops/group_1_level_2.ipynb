{
 "cells": [
  {
   "cell_type": "markdown",
   "metadata": {},
   "source": [
    "<nav>\n",
    "    <a href=\"for_loop_exercises.ipynb\">&#9664; Übungsaufgaben zu Schleifen</a> |\n",
    "    <a href=\"group_1_level_2_75.ipynb\">Viel Unterstützung &#9685;</a> |\n",
    "    <a href=\"group_1_level_2_25.ipynb\">Wenig Unterstützung &#9684;</a> |\n",
    "</nav>"
   ]
  },
  {
   "source": [
    "<div class=\"alert alert-warning\"><strong>Aufgabe 2 - Lagerbestandsberechnung</strong>\n",
    "\n",
    "Gegeben sind die Absatzprognosen `verkaufs_plan` sowie Produktionsmengen eines Produktes `produktions_plan` für die nächsten 12 Monate in gleichnamigen Listen.\n",
    "Die Berechnung der Lagerbestände ist wie folgt definiert:\n",
    "\n",
    "$$L_t = P_t - A_t + P_{t-1}$$\n",
    "\n",
    "In dieser Formel steht $P_t$ für die Produktionsmenge, $A_t$ für die geplante Absatzmenge und $L_t$ den Lagerbestand in einem Monat $t$, wobei $P_0 = 0$.\n",
    "Erstellen Sie eine neue Liste, in der Sie die Lagerbestände für die jeweiligen Monate speichern.  \n",
    "Beachten Sie die Lagerbestände aus dem jeweils vorhergehenden Monat in den nächsten Monat zu übernehmen.\n",
    "</div>\n",
    "\n",
    "\n",
    "<div class=\"alert alert-block alert-info\"><strong>Hilfe</strong>\n",
    "    \n",
    "Sie können Ihre Lösung mit den automatisierten [Tests](#Automatische-Test) weiter unten im Dokument überprüfen.<br>\n",
    "Eine Einführung in die `for`-Schleife in Python finden Sie [hier](../for_loop.ipynb).\n",
    "</div>"
   ],
   "cell_type": "markdown",
   "metadata": {}
  },
  {
   "cell_type": "code",
   "execution_count": null,
   "metadata": {
    "nbgrader": {
     "grade": false,
     "grade_id": "cell-073db0e144d454aa",
     "locked": false,
     "schema_version": 1,
     "solution": true
    }
   },
   "outputs": [],
   "source": [
    "def berechne_lagerbestand(verkaufs_plan, produktions_plan):\n",
    "    raise NotImplementedError()\n",
    "\n",
    "print(\"Bei \\\"verkaufs_plan = [20, 30, 40]\\\" und \\\"produktions_plan = [50, 60, 65]\\\" liefert Ihre Funktion:\", berechne_lagerbestand([20, 30, 40], [50, 60, 65]))"
   ]
  },
  {
   "cell_type": "markdown",
   "metadata": {},
   "source": [
    "   ***\n",
    "# Automatische Tests\n",
    "Ab hier finden Sie einige automatisierte Tests um Ihre Lösungen zu überprüfen. Um Ihre Lösung zu prüfen führen Sie bitte zuerst die Zelle mit Ihrer Lösung und danach die Zelle mit dem zugehörigen Test aus.\n"
   ]
  },
  {
   "cell_type": "code",
   "execution_count": null,
   "metadata": {
    "nbgrader": {
     "grade": true,
     "grade_id": "cell-264810029e59bd40",
     "locked": true,
     "points": 0,
     "schema_version": 1,
     "solution": false
    }
   },
   "outputs": [],
   "source": [
    "try:\n",
    "    berechne_lagerbestand([0, 0, 0, 0], [0, 0, 0, 0])\n",
    "except NotImplementedError:\n",
    "    print(\"Bitte entfernen Sie das \\\"raise NotImplementedError()\\\"\")"
   ]
  },
  {
   "cell_type": "markdown",
   "metadata": {
    "nbgrader": {
     "grade": false,
     "grade_id": "cell-e284171606fc1c4a",
     "locked": true,
     "schema_version": 1,
     "solution": false
    }
   },
   "source": [
    "- Test 1 - Ergebnis ist eine Liste\n",
    "> Das von der Funktion `create_stock_forecast` zurückgegebene Ergebnis  `stock_forecast` ist eine Liste.\n",
    "- Test 2 - Länge der Ergebnisliste\n",
    "> Das von der Funktion `create_stock_forecast` zurückgegebene Ergebnis  `stock_forecast` ist eine Liste.\n",
    "Diese Liste muss genau so viele Einträge enthalten wie\n",
    "die übergebenen Listen `sales_plan` und `production_plan`. In diesem Test hat die übergebene Liste die Länge 12.\n",
    "- Test 3 - Korrekte Berechnung der Lagerbestände\n",
    "> Die von der Funktion `create_stock_forecast` zurückgegebene Liste `stock_forecast` muss die korrekten Lagerbestände in\n",
    "Abhängigkeit von den übergebenen Absatzmengen und Produktionsmengen enthalten."
   ]
  },
  {
   "cell_type": "code",
   "execution_count": null,
   "metadata": {
    "nbgrader": {
     "grade": false,
     "grade_id": "cell-27cce21b3ffff279",
     "locked": true,
     "schema_version": 1,
     "solution": false
    },
    "pycharm": {
     "name": "#%%\n"
    }
   },
   "outputs": [],
   "source": [
    "import unittest\n",
    "class TestNotebookClass(unittest.TestCase):\n",
    "    \"\"\"Testing function creat_stock_forecast\"\"\"\n",
    "    def test_list(self):\n",
    "        \"\"\"Test1: ist die Ausgabe eine Liste?\"\"\"\n",
    "        sales_plan = [0, 0, 0, 0, 0, 0, 0, 0, 0, 0, 0, 0]\n",
    "        production_plan = [0, 0, 0, 0, 0, 0, 0, 0, 0, 0, 0, 0]\n",
    "        stock_forecast = berechne_lagerbestand(sales_plan, production_plan)\n",
    "        self.assertTrue(isinstance(stock_forecast, list))\n",
    "        \n",
    "    def test_length(self):\n",
    "        \"\"\"Test2: Is die Ausgabe eine Liste mit 12 Einträgen?\"\"\"\n",
    "        sales_plan = [0, 0, 0, 0, 0, 0, 0, 0, 0, 0, 0, 0]\n",
    "        production_plan = [0, 0, 0, 0, 0, 0, 0, 0, 0, 0, 0, 0]\n",
    "        stock_forecast = berechne_lagerbestand(sales_plan, production_plan)\n",
    "       \n",
    "        self.assertEqual(len(stock_forecast), 12)\n",
    "    \n",
    "    def test_correct_result(self):\n",
    "        \"\"\"Test3: Sind die berechneten Lagerbestände korrekt?\"\"\"\n",
    "        sales_plan = [570, 500, 520, 500, 600, 550, 530, 520, 530, 590, 600, 590]\n",
    "        production_plan = [600, 520, 520, 520, 650, 650, 500, 530, 500, 600, 620, 610]\n",
    "        expected_stock_forecast = [30, 50, 50, 70, 120, 220, 190, 200, 170, 180, 200, 220]\n",
    "        self.assertEqual(berechne_lagerbestand(sales_plan, production_plan), expected_stock_forecast)\n",
    "    \n",
    "import sys\n",
    "suite = unittest.TestLoader().loadTestsFromTestCase(TestNotebookClass)\n",
    "unittest.TextTestRunner(verbosity=4,stream=sys.stderr).run(suite)"
   ]
  }
 ],
 "metadata": {
  "celltoolbar": "Create Assignment",
  "kernelspec": {
   "display_name": "Python 3",
   "language": "python",
   "name": "python3"
  },
  "language_info": {
   "codemirror_mode": {
    "name": "ipython",
    "version": 3
   },
   "file_extension": ".py",
   "mimetype": "text/x-python",
   "name": "python",
   "nbconvert_exporter": "python",
   "pygments_lexer": "ipython3",
   "version": "3.7.1"
  },
  "pycharm": {
   "stem_cell": {
    "cell_type": "raw",
    "metadata": {
     "collapsed": false
    },
    "source": []
   }
  }
 },
 "nbformat": 4,
 "nbformat_minor": 2
}