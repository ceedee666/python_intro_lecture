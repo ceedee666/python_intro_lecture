{
 "cells": [
  {
   "source": [
    "# Aufgabe 3\n",
    "\n",
    "Im Rahmen der Materialverwaltung soll ein Programm zur automatischen Analyse von Materialeingängen und Materialabgängen implementiert werden. So soll aus einer großen Liste von Eingängen und Abgängen erkannt werden wie der neue Materialbestand ist. Außerdem soll die durchschnittliche Höhe der Materialbewegungen berechnet werden, sowie der größte Ein- oder Abgang bestimmt werden.\n",
    "\n",
    "Implementieren Sie nun die Funktion `analyse_bestand`. Diese Funktion erhält als Parameter eine Liste `eingehend_ausgehend`, welche in Form von Integer-Werten die Eingänge und Abgänge auf das Konto angibt (in etwa `[+500, -200, +70, -65]`).  \n",
    "Als Ergebnis soll der Materialbestand(`bestand`) als Integer-Wert zurückgegeben werden.  \n",
    "Die durchschnittliche Höhe(`durchschnitt`) der Eingänge und Abgänge eines Materials.  \n",
    "Die höchste Transaktion (`hoechste_transaktion`). Hierbei sollen sowohl Abgänge als auch Eingänge berücksichtigt werden.  \n",
    "\n",
    "\n",
    "\n",
    "### Hilfe\n",
    "Sie können Ihre Lösung mit den automatisierten [Tests](#Automatische-Tests) weiter unten im Dokument überprüfen.<br>\n",
    "Eine Einführung in die `For-Schleifen` in Python finden Sie [hier](../../50_loops/for_loop.ipynb)."
   ],
   "cell_type": "markdown",
   "metadata": {
    "nbgrader": {
     "grade": false,
     "grade_id": "cell-e47441f2aa01ea0f",
     "locked": true,
     "schema_version": 1,
     "solution": false
    }
   }
  },
  {
   "cell_type": "code",
   "execution_count": null,
   "metadata": {
    "nbgrader": {
     "grade": false,
     "grade_id": "cell-903a8769bae67c57",
     "locked": false,
     "schema_version": 1,
     "solution": true
    }
   },
   "outputs": [],
   "source": [
    "def analyse_bestand(eingehend_ausgehend):\n",
    "    \n",
    "    bestand = 0\n",
    "    hoechste_transaktion = 0\n",
    "    for transaktion in eingehend_ausgehend:\n",
    "        ###START\n",
    "        # Berechne mit jedem Durchlauf einen neuen Materialbestand\n",
    "        # Prüfe außerdem ob die Transaktion die höchste ist\n",
    "        ###ENDE\n",
    "    durchschnitt = bestand / len(eingehend_ausgehend)\n",
    "    \n",
    "    return bestand, durchschnitt, hoechste_transaktion\n",
    "\n",
    "print(\"Bei \\\"eingehend_ausgehend = [20, 30, 40]\\\" liefert Ihre Funktion:\", analyse_bestand([20, 30, 40]))"
   ]
  },
  {
   "cell_type": "markdown",
   "metadata": {
    "nbgrader": {
     "grade": false,
     "grade_id": "cell-2448ce27c7d43085",
     "locked": true,
     "schema_version": 1,
     "solution": false
    }
   },
   "source": [
    "  ***\n",
    "  # Automatische Tests\n",
    "  Ab hier finden Sie einige automatisierte Tests um Ihre Lösungen zu überprüfen. Um Ihre Lösung zu prüfen führen Sie bitte zuerst die Zelle mit Ihrer Lösung und danach die Zelle mit dem zugehörigen Test aus.\n"
   ]
  },
  {
   "cell_type": "code",
   "execution_count": null,
   "metadata": {
    "nbgrader": {
     "grade": true,
     "grade_id": "cell-5bb0046f57db8819",
     "locked": true,
     "points": 0,
     "schema_version": 1,
     "solution": false
    }
   },
   "outputs": [],
   "source": [
    "try:\n",
    "    analyse_bestand([0, 0, 0, 0])\n",
    "except NotImplementedError:\n",
    "    print(\"Bitte entfernen Sie das \\\"raise NotImplementedError()\\\"\")"
   ]
  },
  {
   "source": [
    "## Test 1 - Korrekte Berechnung des Kontostands\n",
    "Der Materialbestand (`bestand`) soll für jede Liste korrekt berechnet werden."
   ],
   "cell_type": "markdown",
   "metadata": {
    "nbgrader": {
     "grade": false,
     "grade_id": "cell-14c3b12ca7deecef",
     "locked": true,
     "schema_version": 1,
     "solution": false
    }
   }
  },
  {
   "cell_type": "code",
   "execution_count": null,
   "metadata": {
    "nbgrader": {
     "grade": true,
     "grade_id": "cell-decd091a2b317c36",
     "locked": true,
     "points": 0,
     "schema_version": 1,
     "solution": false
    }
   },
   "outputs": [],
   "source": [
    "from nose.tools import assert_equal\n",
    "\n",
    "incoming_outgoing = [+519, -250, -19, -12, +234]\n",
    "stock = analyse_bestand(incoming_outgoing)\n",
    "try:\n",
    "    assert_equal(stock[0], 472)\n",
    "    print(\"Test 1 erfolgreich\")\n",
    "except AssertionError as e:\n",
    "    print(\"Das Ergebnis ist falsch\")\n",
    "    print(e)\n",
    "    \n",
    "\n",
    "incoming_outgoing = [+99999999, -1234567, -9876543]\n",
    "stock = analyse_bestand(incoming_outgoing)\n",
    "try:\n",
    "    assert_equal(stock[0], 88888889)\n",
    "    print(\"Test 2 erfolgreich\")\n",
    "except AssertionError as e:\n",
    "    print(\"Das Ergebnis ist falsch\")\n",
    "    print(e)\n",
    "    \n",
    "\n",
    "incoming_outgoing = [-12, +20]\n",
    "stock = analyse_bestand(incoming_outgoing)\n",
    "try:\n",
    "    assert_equal(stock[0], 8)\n",
    "    print(\"Test 3 erfolgreich\")\n",
    "except AssertionError as e:\n",
    "    print(\"Das Ergebnis ist falsch\")\n",
    "    print(e)"
   ]
  },
  {
   "source": [
    "## Test 2 - Korrekte Berechnung des Durchschnitts\n",
    "Der Durchschnitt (`durchschnitt`) soll für jede Liste korrekt berechnet werden."
   ],
   "cell_type": "markdown",
   "metadata": {
    "nbgrader": {
     "grade": false,
     "grade_id": "cell-32084f4d90f22b96",
     "locked": true,
     "schema_version": 1,
     "solution": false
    }
   }
  },
  {
   "cell_type": "code",
   "execution_count": null,
   "metadata": {
    "nbgrader": {
     "grade": true,
     "grade_id": "cell-945d1aa59d6ae4d8",
     "locked": true,
     "points": 0,
     "schema_version": 1,
     "solution": false
    }
   },
   "outputs": [],
   "source": [
    "from nose.tools import assert_equal\n",
    "\n",
    "incoming_outgoing = [+300, -15, +230, -123, +987]\n",
    "average = analyse_bestand(incoming_outgoing)\n",
    "try:\n",
    "    assert_equal(average[1], 275.8)\n",
    "    print(\"Test 1 erfolgreich\")\n",
    "except AssertionError as e:\n",
    "    print(\"Das Ergebnis ist falsch\")\n",
    "    print(e)\n",
    "    \n",
    "\n",
    "incoming_outgoing = [+200, -200, +200, -200]\n",
    "average = analyse_bestand(incoming_outgoing)\n",
    "try:\n",
    "    assert_equal(average[1], 0)\n",
    "    print(\"Test 2 erfolgreich\")\n",
    "except AssertionError as e:\n",
    "    print(\"Das Ergebnis ist falsch\")\n",
    "    print(e)\n",
    "    \n",
    "\n",
    "incoming_outgoing = [+15]\n",
    "average = analyse_bestand(incoming_outgoing)\n",
    "try:\n",
    "    assert_equal(average[1], 15)\n",
    "    print(\"Test 3 erfolgreich\")\n",
    "except AssertionError as e:\n",
    "    print(\"Das Ergebnis ist falsch\")\n",
    "    print(e)"
   ]
  },
  {
   "source": [
    "## Test 3 - Korrekte Bestimmung der höchsten Materialtransaktion\n",
    "Die höchste Warenbewegung (`hoechste_transaktion`) soll für jede Liste korrekt bestimmt werden.  \n",
    "Hierbei gilt es insbesondere auch Materialabgänge zu berücksichtigen."
   ],
   "cell_type": "markdown",
   "metadata": {
    "nbgrader": {
     "grade": false,
     "grade_id": "cell-4a69e672e8af7752",
     "locked": true,
     "schema_version": 1,
     "solution": false
    }
   }
  },
  {
   "cell_type": "code",
   "execution_count": null,
   "metadata": {
    "nbgrader": {
     "grade": true,
     "grade_id": "cell-138b09255c4e3865",
     "locked": true,
     "points": 0,
     "schema_version": 1,
     "solution": false
    }
   },
   "outputs": [],
   "source": [
    "from nose.tools import assert_equal\n",
    "\n",
    "incoming_outgoing = [+100, -26, -23, +210, +234]\n",
    "highest_transaction = analyse_bestand(incoming_outgoing)\n",
    "try:\n",
    "    assert_equal(highest_transaction[2], 234)\n",
    "    print(\"Test 1 erfolgreich\")\n",
    "except AssertionError as e:\n",
    "    print(\"Das Ergebnis ist falsch\")\n",
    "    print(e)\n",
    "    \n",
    "\n",
    "incoming_outgoing = [+200, -200, +200, -200]\n",
    "highest_transaction = analyse_bestand(incoming_outgoing)\n",
    "try:\n",
    "    assert_equal(highest_transaction[2], 200)\n",
    "    print(\"Test 2 erfolgreich\")\n",
    "except AssertionError as e:\n",
    "    print(\"Das Ergebnis ist falsch\")\n",
    "    print(e)\n",
    "    \n",
    "\n",
    "incoming_outgoing = [+15]\n",
    "highest_transaction = analyse_bestand(incoming_outgoing)\n",
    "try:\n",
    "    assert_equal(highest_transaction[2], 15)\n",
    "    print(\"Test 3 erfolgreich\")\n",
    "except AssertionError as e:\n",
    "    print(\"Das Ergebnis ist falsch\")\n",
    "    print(e)\n",
    "    \n",
    "\n",
    "incoming_outgoing = [+300, -500, -23, +210, +234]\n",
    "highest_transaction = analyse_bestand(incoming_outgoing)\n",
    "try:\n",
    "    assert_equal(highest_transaction[2], -500)\n",
    "    print(\"Test 4 erfolgreich\")\n",
    "except AssertionError as e:\n",
    "    print(\"Das Ergebnis ist falsch\")\n",
    "    print(e)"
   ]
  }
 ],
 "metadata": {
  "celltoolbar": "Create Assignment",
  "file_extension": ".py",
  "kernelspec": {
   "display_name": "Python 3",
   "language": "python",
   "name": "python3"
  },
  "language_info": {
   "codemirror_mode": {
    "name": "ipython",
    "version": 3
   },
   "file_extension": ".py",
   "mimetype": "text/x-python",
   "name": "python",
   "nbconvert_exporter": "python",
   "pygments_lexer": "ipython3",
   "version": "3.7.2"
  },
  "mimetype": "text/x-python",
  "name": "python",
  "npconvert_exporter": "python",
  "pygments_lexer": "ipython3",
  "version": 3
 },
 "nbformat": 4,
 "nbformat_minor": 2
}