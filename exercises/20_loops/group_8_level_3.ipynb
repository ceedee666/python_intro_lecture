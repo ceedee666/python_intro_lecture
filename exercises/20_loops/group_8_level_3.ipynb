{
 "metadata": {
  "language_info": {
   "codemirror_mode": {
    "name": "ipython",
    "version": 3
   },
   "file_extension": ".py",
   "mimetype": "text/x-python",
   "name": "python",
   "nbconvert_exporter": "python",
   "pygments_lexer": "ipython3",
   "version": "3.8.5-final"
  },
  "orig_nbformat": 2,
  "kernelspec": {
   "name": "python_defaultSpec_1599585378549",
   "display_name": "Python 3.8.5 32-bit"
  }
 },
 "nbformat": 4,
 "nbformat_minor": 2,
 "cells": [
  {
   "source": [
    "# Aufgabe 3\n",
    "\n",
    "In dieser Aufgabe befassen wir uns mit der Programmierung einer Stanz-Maschine. Diese haben Sie neu für Ihr Unternehmen Stanz AG zum Sonderpreis von 15000$ erhalten. Leider haben Sie vergessen die Beschreibung genauer zu lesen und haben dadurch auch übersehen, dass die Maschine noch gar kein Produktionsprogramm hat. Da Sie dieses nicht teuer einkaufen wollen, entscheiden Sie sich dieses selber zu entwickeln. Hierzu haben Sie folgende Vorgaben:\n",
    "\n",
    "- Mattengröße beträgt $N\\times M$ (*N ist eine ungerade natürliche Zahl und $M = 3 \\cdot N$*)\n",
    "- Für N und M gelten folgende spezifikationen : $5 \\leq N \\leq 101$ ; $15 \\leq M \\leq 303$\n",
    "- Das Design sollte \"WELCOME\" in der Mitte haben.\n",
    "- Das Mattenmuster sollte nur `|`, `.` und `-` Zeichen haben.\n",
    "\n",
    "### Beispieldesigns:\n",
    "\n",
    "    Size: 7 x 21\n",
    "    ---------.|.---------\n",
    "    ------.|..|..|.------\n",
    "    ---.|..|..|..|..|.---\n",
    "    -------WELCOME-------\n",
    "    ---.|..|..|..|..|.---\n",
    "    ------.|..|..|.------\n",
    "    ---------.|.---------\n",
    "\n",
    "    Size: 11 x 33\n",
    "    ---------------.|.---------------\n",
    "    ------------.|..|..|.------------\n",
    "    ---------.|..|..|..|..|.---------\n",
    "    ------.|..|..|..|..|..|..|.------\n",
    "    ---.|..|..|..|..|..|..|..|..|.---\n",
    "    -------------WELCOME-------------\n",
    "    ---.|..|..|..|..|..|..|..|..|.---\n",
    "    ------.|..|..|..|..|..|..|.------\n",
    "    ---------.|..|..|..|..|.---------\n",
    "    ------------.|..|..|.------------\n",
    "    ---------------.|.---------------\n",
    "\n",
    "\n",
    "    N = 9, M = 27\n",
    "    ------------.|.------------\n",
    "    ---------.|..|..|.---------\n",
    "    ------.|..|..|..|..|.------\n",
    "    ---.|..|..|..|..|..|..|.---\n",
    "    ----------WELCOME----------\n",
    "    ---.|..|..|..|..|..|..|.---\n",
    "    ------.|..|..|..|..|.------\n",
    "    ---------.|..|..|.---------\n",
    "    ------------.|.------------\n",
    "\n",
    "### Hilfe\n",
    "\n",
    "1.\n",
    "2.\n",
    "3.\n",
    "4.\n",
    "5."
   ],
   "cell_type": "markdown",
   "metadata": {}
  },
  {
   "cell_type": "code",
   "execution_count": null,
   "metadata": {
    "tags": []
   },
   "outputs": [],
   "source": [
    "def erstelle_design(N, M):\n",
    "    output = \"\"\n",
    "    ###START\n",
    "    \n",
    "    ###ENDE\n",
    "    return output\n",
    "print(erstelle_designs(5,15))"
   ]
  },
  {
   "cell_type": "markdown",
   "metadata": {},
   "source": [
    "# Automatisierte Tests"
   ]
  },
  {
   "cell_type": "code",
   "execution_count": null,
   "metadata": {
    "tags": []
   },
   "outputs": [],
   "source": [
    "import sys\n",
    "sys.path.append(\"../..\")\n",
    "from nose.tools import assert_equal, assert_not_equal\n",
    "from utils import * \n",
    "\n",
    "try:\n",
    "    Erg = erstelle_design(7,21)\n",
    "    expected_out = open(os.path.join('tests', 'Matten_Design', 'output1.txt'), 'r').read()\n",
    "    assert_equal(Erg, expected_out)\n",
    "    print(\"[OK] Die Ausgabe für (N,M) = (7,21) ist in Ordnung!\")\n",
    "except AssertionError as e:\n",
    "    print(\"[FEHLER] Die Ausgabe für (N,M) = (7,21) sollte,\\n\", expected_out, \"sein.\")\n",
    "    print(\"       \",e)\n",
    "except Exception as e:\n",
    "    print(\"[FEHLER]\", friendly_exceptions.msg(e))\n",
    "\n",
    "try:\n",
    "    Erg = erstelle_design(9,27)\n",
    "    expected_out = open(os.path.join('tests', 'Matten_Design', 'output2.txt'), 'r').read()\n",
    "    assert_equal(Erg, expected_out)\n",
    "    print(\"[OK] Die Ausgabe für (N,M) = (9,27) ist in Ordnung!\")\n",
    "except AssertionError as e:\n",
    "    print(\"[FEHLER] Die Ausgabe für (N,M) = (9,27) sollte,\\n\", expected_out, \"sein.\")\n",
    "    print(\"       \",e)\n",
    "except Exception as e:\n",
    "    print(\"[FEHLER]\", friendly_exceptions.msg(e))\n",
    "\n",
    "try:\n",
    "    Erg = erstelle_design(11,33)\n",
    "    expected_out = open(os.path.join('tests', 'Matten_Design', 'output3.txt'), 'r').read()\n",
    "    assert_equal(Erg, expected_out)\n",
    "    print(\"[OK] Die Ausgabe für (N,M) = (11,33) ist in Ordnung!\")\n",
    "except AssertionError as e:\n",
    "    print(\"[FEHLER] Die Ausgabe für (N,M) = (11,33) sollte,\\n\", expected_out, \"sein.\")\n",
    "    print(\"       \",e)\n",
    "except Exception as e:\n",
    "    print(\"[FEHLER]\", friendly_exceptions.msg(e))\n",
    "\n",
    "try:\n",
    "    Erg = erstelle_design(101,303)\n",
    "    expected_out = open(os.path.join('tests', 'Matten_Design', 'output4.txt'), 'r').read()\n",
    "    assert_equal(Erg, expected_out)\n",
    "    print(\"[OK] Die Ausgabe für (N,M) = (101,303) ist in Ordnung!\")\n",
    "except AssertionError as e:\n",
    "    print(\"[FEHLER] Die Ausgabe für (N,M) = (101,303) sollte,\\n\", expected_out, \"sein.\")\n",
    "    print(\"       \",e)\n",
    "except Exception as e:\n",
    "    print(\"[FEHLER]\", friendly_exceptions.msg(e))"
   ]
  }
 ]
}