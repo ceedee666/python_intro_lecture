{
 "cells": [
  {
   "source": [
    "# Aufgabe 5\n",
    "\n",
    "Im Rahmen der Materialplanung soll ein Programm zur automatischen Berechnung mehrerer Materialbestände implementiert werden. So soll aus mehreren Listen von Eingängen und Abgängen für verschiedene Materialien jeweils der neue Materialbestand berechnet werden. \n",
    "\n",
    "Implementieren Sie nun die Funktion `kalkuliere_bestand`. Diese Funktion erhält als Parameter eine Liste `materialien`. Diese Liste besteht allerding aus mehreren Listen. So ist jedes Element der Liste `materialien` eine Liste bestehend aus dem Materialnamen als erstem Wert, gefolgt von den Eingängen und Abgängen wie gewohnt. Die Liste sieht also in etwa so aus: `[[\"Schrauben\", +500, -200, +30], [\"Nägel\", +30000, -5000], [\"Muttern\", +20000, -3000, -500]]`.   \n",
    "Als Ergebnis soll eine Liste zurückgegeben werden, auch bestehend aus mehreren Listen (`bestand`). Dabei soll jede Liste als ersten Eintrag den Materialnamen beinhalten und als zweiten Wert den Bestand dieses Materials. Für obiges Beispiel wäre das Ergebnis also `[['Schrauben', 330], ['Nägel', 25000], ['Muttern', 16500]]`.  \n",
    "\n",
    "\n",
    "\n",
    "### Hilfe\n",
    "Sie können Ihre Lösung mit den automatisierten [Tests](#Automatische-Tests) weiter unten im Dokument überprüfen.<br>\n",
    "Eine Einführung in die `For-Schleifen` in Python finden Sie [hier](../../50_loops/for_loop.ipynb)."
   ],
   "cell_type": "markdown",
   "metadata": {
    "nbgrader": {
     "grade": false,
     "grade_id": "cell-656379e2d236cbb5",
     "locked": true,
     "schema_version": 1,
     "solution": false
    }
   }
  },
  {
   "cell_type": "code",
   "execution_count": null,
   "metadata": {
    "nbgrader": {
     "grade": false,
     "grade_id": "cell-c4abda23c95af4d6",
     "locked": false,
     "schema_version": 1,
     "solution": true
    }
   },
   "outputs": [],
   "source": [
    "def kalkuliere_bestand(materialien):\n",
    "    \n",
    "    ###START\n",
    "    \n",
    "    ###ENDE\n",
    "    return bestand\n",
    "\n",
    "print(\"Bei \\\"materialien = [[\\\"Schrauben\\\", +500, -200, +30], [\\\"Nägel\\\", +30000, -5000]]\\\" liefert Ihre Funktion:\", kalkuliere_bestand([[\"Schrauben\", +500, -200, +30], [\"Nägel\", +30000, -5000]]))"
   ]
  },
  {
   "cell_type": "markdown",
   "metadata": {
    "nbgrader": {
     "grade": false,
     "grade_id": "cell-72f64585cbf31fa9",
     "locked": true,
     "schema_version": 1,
     "solution": false
    }
   },
   "source": [
    "  ***\n",
    "  # Automatische Tests\n",
    "  Ab hier finden Sie einige automatisierte Tests um Ihre Lösungen zu überprüfen. Um Ihre Lösung zu prüfen führen Sie bitte zuerst die Zelle mit Ihrer Lösung und danach die Zelle mit dem zugehörigen Test aus.\n"
   ]
  },
  {
   "cell_type": "code",
   "execution_count": null,
   "metadata": {
    "nbgrader": {
     "grade": true,
     "grade_id": "cell-947e6fe007525d14",
     "locked": true,
     "points": 0,
     "schema_version": 1,
     "solution": false
    }
   },
   "outputs": [],
   "source": [
    "try:\n",
    "    kalkuliere_bestand([[\"Schrauben\", +500, -200, +30], [\"Nägel\", +30000, -5000]])\n",
    "except NotImplementedError:\n",
    "    print(\"Bitte entfernen Sie das \\\"raise NotImplementedError()\\\"\")"
   ]
  },
  {
   "cell_type": "markdown",
   "metadata": {
    "nbgrader": {
     "grade": false,
     "grade_id": "cell-cf50109fa412899a",
     "locked": true,
     "schema_version": 1,
     "solution": false
    }
   },
   "source": [
    "## Test 1 - Korrekte Übernahme der Materialnamen\n",
    "Die Materialnamen sollen im Ergebnis jeweils als erstes Element der einzelnen Listen übernommen werden."
   ]
  },
  {
   "cell_type": "code",
   "execution_count": null,
   "metadata": {
    "nbgrader": {
     "grade": true,
     "grade_id": "cell-fc98ae5c361e6645",
     "locked": true,
     "points": 0,
     "schema_version": 1,
     "solution": false
    }
   },
   "outputs": [],
   "source": [
    "from nose.tools import assert_equal\n",
    "\n",
    "materials = [[\"Schrauben\", +500, -200, +30], [\"Nägel\", +30000, -5000], [\"Muttern\", +20000, -500, -3000]]\n",
    "stock = kalkuliere_bestand(materials)\n",
    "try:\n",
    "    assert_equal(stock[0][0], \"Schrauben\", \"Der Materialname \\\"Schrauben\\\" wird nicht korrekt übernommen\")\n",
    "    assert_equal(stock[1][0], \"Nägel\", \"Der Materialname \\\"Nägel\\\" wird nicht korrekt übernommen\")\n",
    "    assert_equal(stock[2][0], \"Muttern\", \"Der Materialname \\\"Muttern\\\" wird nicht korrekt übernommen\")\n",
    "    print(\"Test 1 erfolgreich\")\n",
    "except AssertionError as e:\n",
    "    print(e)\n",
    "    \n",
    "\n",
    "materials = [[\"Erdbeeren\", +500, -200, +30], [\"Blaubeeren\", +30000, -5000], [\"Bananen\", +20000, -500, -3000], [\"Äpfel\", +20]]\n",
    "stock = kalkuliere_bestand(materials)\n",
    "try:\n",
    "    assert_equal(stock[0][0], \"Erdbeeren\", \"Der Materialname \\\"Erdbeeren\\\" wird nicht korrekt übernommen\")\n",
    "    assert_equal(stock[1][0], \"Blaubeeren\", \"Der Materialname \\\"Blaubeeren\\\" wird nicht korrekt übernommen\")\n",
    "    assert_equal(stock[2][0], \"Bananen\", \"Der Materialname \\\"Bananen\\\" wird nicht korrekt übernommen\")\n",
    "    assert_equal(stock[3][0], \"Äpfel\", \"Der Materialname \\\"Äpfel\\\" wird nicht korrekt übernommen\")\n",
    "    print(\"Test 2 erfolgreich\")\n",
    "except AssertionError as e:\n",
    "    print(e)"
   ]
  },
  {
   "cell_type": "markdown",
   "metadata": {
    "nbgrader": {
     "grade": false,
     "grade_id": "cell-1624b3fd80c3c1fc",
     "locked": true,
     "schema_version": 1,
     "solution": false
    }
   },
   "source": [
    "## Test 2 - Korrekte Berechnung der Materialbestände\n",
    "Die Materialbestände sollen für jedes Material richtig berechnet werden."
   ]
  },
  {
   "cell_type": "code",
   "execution_count": null,
   "metadata": {
    "nbgrader": {
     "grade": true,
     "grade_id": "cell-011596bcbad4e0ad",
     "locked": true,
     "points": 0,
     "schema_version": 1,
     "solution": false
    }
   },
   "outputs": [],
   "source": [
    "from nose.tools import assert_equal\n",
    "\n",
    "materials = [[\"Schrauben\", +500, -200, +30], [\"Nägel\", +30000, -5000], [\"Muttern\", +20000, -500, -3000]]\n",
    "stock = kalkuliere_bestand(materials)\n",
    "try:\n",
    "    assert_equal(stock[0][1], 330, \"Der Materialbestand von \\\"Schrauben\\\" wird nicht korrekt berechnet\")\n",
    "    assert_equal(stock[1][1], 25000, \"Der Materialbestand von \\\"Nägel\\\" wird nicht korrekt berechnet\")\n",
    "    assert_equal(stock[2][1], 16500, \"Der Materialbestand von \\\"Muttern\\\" wird nicht korrekt berechnet\")\n",
    "    print(\"Test 1 erfolgreich\")\n",
    "except AssertionError as e:\n",
    "    print(e)\n",
    "    \n",
    "\n",
    "materials = [[\"Schrauben\", +700, -200, +30, +256, -13, +12], [\"Nägel\", +30000], [\"Muttern\", +20000, -500, -3000]]\n",
    "stock = kalkuliere_bestand(materials)\n",
    "try:\n",
    "    assert_equal(stock[0][1], 785, \"Der Kontostand des Kontos \\\"Schrauben\\\" wird nicht korrekt berechnet\")\n",
    "    assert_equal(stock[1][1], 30000, \"Der Kontostand des Kontos \\\"Nägel\\\" wird nicht korrekt berechnet\")\n",
    "    assert_equal(stock[2][1], 16500, \"Der Kontostand des Kontos \\\"Muttern\\\" wird nicht korrekt berechnet\")\n",
    "    print(\"Test 2 erfolgreich\")\n",
    "except AssertionError as e:\n",
    "    print(e)"
   ]
  }
 ],
 "metadata": {
  "celltoolbar": "Create Assignment",
  "file_extension": ".py",
  "kernelspec": {
   "display_name": "Python 3",
   "language": "python",
   "name": "python3"
  },
  "language_info": {
   "codemirror_mode": {
    "name": "ipython",
    "version": 3
   },
   "file_extension": ".py",
   "mimetype": "text/x-python",
   "name": "python",
   "nbconvert_exporter": "python",
   "pygments_lexer": "ipython3",
   "version": "3.7.2"
  },
  "mimetype": "text/x-python",
  "name": "python",
  "npconvert_exporter": "python",
  "pygments_lexer": "ipython3",
  "version": 3
 },
 "nbformat": 4,
 "nbformat_minor": 2
}