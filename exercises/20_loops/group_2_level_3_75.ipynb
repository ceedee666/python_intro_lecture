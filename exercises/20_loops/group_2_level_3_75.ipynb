{
 "cells": [
  {
   "source": [
    "# Aufgabe 3\n",
    "\n",
    "Es soll ein Programm zur automatischen Analyse von Kontobewegungen implementiert werden. So soll aus einer großen Liste von Zugängen und Abgängen erkannt werden wie der neue Kontostand ist. Außerdem soll die durchschnittliche Höhe der Kontobewegungen berechnet werden, sowie der größte Zu- oder Abgang bestimmt werden.\n",
    "\n",
    "Implementieren Sie nun die Funktion `analyse_bewegungen`. Diese Funktion erhält als Parameter eine Liste `bewegungen`, welche in Form von Float-Werten die Zugänge und Abgänge auf das Konto angibt (in etwa `[+500.00, -200.00, +0.70, -0.65]`).  \n",
    "Als Ergebnis soll der `Kontostand` als Float-Wert zurückgegeben werden (\"kontostand\").  \n",
    "Die `durchschnittliche Höhe` einer Kontobewegung (\"durchschnitt\").  \n",
    "Der `höchste Transfer` (\"hoechste_bewegung\"). Hierbei sollen sowohl negative als auch positive Transfers berücksichtigt werden.  \n",
    "\n",
    "\n",
    "\n",
    "### Hilfe\n",
    "Sie können Ihre Lösung mit den automatisierten [Tests](#Automatische-Tests) weiter unten im Dokument überprüfen.<br>\n",
    "Eine Einführung in die `For-Schleifen` in Python finden Sie [hier](../../50_loops/for_loop.ipynb)."
   ],
   "cell_type": "markdown",
   "metadata": {
    "nbgrader": {
     "grade": false,
     "grade_id": "cell-b57059825557eed1",
     "locked": true,
     "schema_version": 1,
     "solution": false
    }
   }
  },
  {
   "cell_type": "code",
   "execution_count": null,
   "metadata": {
    "nbgrader": {
     "grade": false,
     "grade_id": "cell-9debd1ae65757e87",
     "locked": false,
     "schema_version": 1,
     "solution": true
    }
   },
   "outputs": [],
   "source": [
    "def analyse_bewegungen(bewegungen):\n",
    "    \n",
    "    kontostand = 0\n",
    "    hoechste_bewegung = 0\n",
    "    for bewegung in bewegungen:\n",
    "    ###START\n",
    "        # Berechne den Kontostand mit jeder neuen Buchung neu\n",
    "        if bewegungen ** 2 > hoechste_bewegung ** 2:\n",
    "            hoechste_bewegung = bewegung\n",
    "    \n",
    "    # Berechne den Durchschnitt\n",
    "    ###ENDE\n",
    "    \n",
    "    return kontostand, durchschnitt, hoechste_bewegung\n",
    "\n",
    "print(\"Bei \\\"bewegungen = [20, 30, 40]\\\" liefert Ihre Funktion:\", analyse_bewegungen([20, 30, 40]))"
   ]
  },
  {
   "cell_type": "markdown",
   "metadata": {
    "nbgrader": {
     "grade": false,
     "grade_id": "cell-fd9a992699f4b1d9",
     "locked": true,
     "schema_version": 1,
     "solution": false
    }
   },
   "source": [
    "  ***\n",
    "  # Automatische Tests\n",
    "  Ab hier finden Sie einige automatisierte Tests um Ihre Lösungen zu überprüfen. Um Ihre Lösung zu prüfen führen Sie bitte zuerst die Zelle mit Ihrer Lösung und danach die Zelle mit dem zugehörigen Test aus.\n"
   ]
  },
  {
   "cell_type": "code",
   "execution_count": null,
   "metadata": {
    "nbgrader": {
     "grade": true,
     "grade_id": "cell-891aa9f193fdb110",
     "locked": true,
     "points": 0,
     "schema_version": 1,
     "solution": false
    }
   },
   "outputs": [],
   "source": [
    "try:\n",
    "    analyse_bewegungen([0, 0, 0, 0])\n",
    "except NotImplementedError:\n",
    "    print(\"Bitte entfernen Sie das \\\"raise NotImplementedError()\\\"\")"
   ]
  },
  {
   "source": [
    "## Test 1 - Korrekte Berechnung des Kontostands\n",
    "Der Kontostand (`kontostand`) soll für jede Liste korrekt berechnet werden."
   ],
   "cell_type": "markdown",
   "metadata": {
    "nbgrader": {
     "grade": false,
     "grade_id": "cell-30a8ba041155dd2a",
     "locked": true,
     "schema_version": 1,
     "solution": false
    }
   }
  },
  {
   "cell_type": "code",
   "execution_count": null,
   "metadata": {
    "nbgrader": {
     "grade": true,
     "grade_id": "cell-55e02cc4dbc5a4b1",
     "locked": true,
     "points": 0,
     "schema_version": 1,
     "solution": false
    }
   },
   "outputs": [],
   "source": [
    "from nose.tools import assert_equal\n",
    "\n",
    "transfers = [+519.55, -250.00, -19.37, -12.34, +234.56]\n",
    "balance = analyse_bewegungen(transfers)\n",
    "try:\n",
    "    assert_equal(balance[0], 472.40)\n",
    "    print(\"Test 1 erfolgreich\")\n",
    "except AssertionError as e:\n",
    "    print(\"Das Ergebnis ist falsch\")\n",
    "    print(e)\n",
    "    \n",
    "\n",
    "transfers = [+99999999.99, -1234567.89, -9876543.22]\n",
    "balance = analyse_bewegungen(transfers)\n",
    "try:\n",
    "    assert_equal(balance[0], 88888888.88)\n",
    "    print(\"Test 2 erfolgreich\")\n",
    "except AssertionError as e:\n",
    "    print(\"Das Ergebnis ist falsch\")\n",
    "    print(e)\n",
    "    \n",
    "\n",
    "transfers = [-12.34, +20.00]\n",
    "balance = analyse_bewegungen(transfers)\n",
    "try:\n",
    "    assert_equal(balance[0], 7.66)\n",
    "    print(\"Test 3 erfolgreich\")\n",
    "except AssertionError as e:\n",
    "    print(\"Das Ergebnis ist falsch\")\n",
    "    print(e)"
   ]
  },
  {
   "source": [
    "## Test 2 - Korrekte Berechnung des Durchschnitts\n",
    "Der Durchschnitt (`durchschnitt`) soll für jede Liste korrekt berechnet werden."
   ],
   "cell_type": "markdown",
   "metadata": {
    "nbgrader": {
     "grade": false,
     "grade_id": "cell-1ebdd4db4bd23107",
     "locked": true,
     "schema_version": 1,
     "solution": false
    }
   }
  },
  {
   "cell_type": "code",
   "execution_count": null,
   "metadata": {
    "nbgrader": {
     "grade": true,
     "grade_id": "cell-0565a8614ee86169",
     "locked": true,
     "points": 0,
     "schema_version": 1,
     "solution": false
    }
   },
   "outputs": [],
   "source": [
    "from nose.tools import assert_equal\n",
    "\n",
    "transfers = [+300.00, -250.00, -23.00, +210.00, +234.00]\n",
    "balance = analyse_bewegungen(transfers)\n",
    "try:\n",
    "    assert_equal(balance[1], 94.2)\n",
    "    print(\"Test 1 erfolgreich\")\n",
    "except AssertionError as e:\n",
    "    print(\"Das Ergebnis ist falsch\")\n",
    "    print(e)\n",
    "    \n",
    "\n",
    "transfers = [+200.00, -200.00, +200.00, -200.00]\n",
    "balance = analyse_bewegungen(transfers)\n",
    "try:\n",
    "    assert_equal(balance[1], 0)\n",
    "    print(\"Test 2 erfolgreich\")\n",
    "except AssertionError as e:\n",
    "    print(\"Das Ergebnis ist falsch\")\n",
    "    print(e)\n",
    "    \n",
    "\n",
    "transfers = [+15.00]\n",
    "balance = analyse_bewegungen(transfers)\n",
    "try:\n",
    "    assert_equal(balance[1], 15)\n",
    "    print(\"Test 3 erfolgreich\")\n",
    "except AssertionError as e:\n",
    "    print(\"Das Ergebnis ist falsch\")\n",
    "    print(e)"
   ]
  },
  {
   "source": [
    "## Test 3 - Korrekte Bestimmung der höchsten Bankbewegung\n",
    "Die höchste Bankbewegung (`hoechste_bewegung`) soll für jede Liste korrekt bestimmt werden.  \n",
    "Hierbei gilt es insbesondere auch negative Bewegungen zu berücksichtigen."
   ],
   "cell_type": "markdown",
   "metadata": {
    "nbgrader": {
     "grade": false,
     "grade_id": "cell-4f5f8f580a028660",
     "locked": true,
     "schema_version": 1,
     "solution": false
    }
   }
  },
  {
   "cell_type": "code",
   "execution_count": null,
   "metadata": {
    "nbgrader": {
     "grade": true,
     "grade_id": "cell-34c24ceab6d073ba",
     "locked": true,
     "points": 0,
     "schema_version": 1,
     "solution": false
    }
   },
   "outputs": [],
   "source": [
    "from nose.tools import assert_equal\n",
    "\n",
    "transfers = [+300.00, -250.00, -23.00, +210.00, +234.00]\n",
    "balance = analyse_bewegungen(transfers)\n",
    "try:\n",
    "    assert_equal(balance[2], 300)\n",
    "    print(\"Test 1 erfolgreich\")\n",
    "except AssertionError as e:\n",
    "    print(\"Das Ergebnis ist falsch\")\n",
    "    print(e)\n",
    "    \n",
    "\n",
    "transfers = [+200.00, -200.00, +200.00, -200.00]\n",
    "balance = analyse_bewegungen(transfers)\n",
    "try:\n",
    "    assert_equal(balance[2], 200)\n",
    "    print(\"Test 2 erfolgreich\")\n",
    "except AssertionError as e:\n",
    "    print(\"Das Ergebnis ist falsch\")\n",
    "    print(e)\n",
    "    \n",
    "\n",
    "transfers = [+15.00]\n",
    "balance = analyse_bewegungen(transfers)\n",
    "try:\n",
    "    assert_equal(balance[2], 15)\n",
    "    print(\"Test 3 erfolgreich\")\n",
    "except AssertionError as e:\n",
    "    print(\"Das Ergebnis ist falsch\")\n",
    "    print(e)\n",
    "    \n",
    "\n",
    "transfers = [+300.00, -500.00, -23.00, +210.00, +234.00]\n",
    "balance = analyse_bewegungen(transfers)\n",
    "try:\n",
    "    assert_equal(balance[2], -500)\n",
    "    print(\"Test 4 erfolgreich\")\n",
    "except AssertionError as e:\n",
    "    print(\"Das Ergebnis ist falsch, beachten Sie auch negative Buchungen\")\n",
    "    print(e)"
   ]
  }
 ],
 "metadata": {
  "celltoolbar": "Create Assignment",
  "file_extension": ".py",
  "kernelspec": {
   "display_name": "Python 3",
   "language": "python",
   "name": "python3"
  },
  "language_info": {
   "codemirror_mode": {
    "name": "ipython",
    "version": 3
   },
   "file_extension": ".py",
   "mimetype": "text/x-python",
   "name": "python",
   "nbconvert_exporter": "python",
   "pygments_lexer": "ipython3",
   "version": "3.7.2"
  },
  "mimetype": "text/x-python",
  "name": "python",
  "npconvert_exporter": "python",
  "pygments_lexer": "ipython3",
  "version": 3
 },
 "nbformat": 4,
 "nbformat_minor": 2
}