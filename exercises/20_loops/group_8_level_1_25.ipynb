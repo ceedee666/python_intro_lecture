{
 "metadata": {
  "language_info": {
   "codemirror_mode": {
    "name": "ipython",
    "version": 3
   },
   "file_extension": ".py",
   "mimetype": "text/x-python",
   "name": "python",
   "nbconvert_exporter": "python",
   "pygments_lexer": "ipython3",
   "version": "3.8.5-final"
  },
  "orig_nbformat": 2,
  "kernelspec": {
   "name": "python_defaultSpec_1599581480791",
   "display_name": "Python 3.8.5 32-bit"
  }
 },
 "nbformat": 4,
 "nbformat_minor": 2,
 "cells": [
  {
   "source": [
    "# Aufgabe 1\n",
    "\n",
    "In dieser Aufgabe befassen wir uns mit der Buchführung. Diese wird in den meisten Unternehmen in ERP-Systemen durchgeführt. Um Ihnen die grundsätzliche \"Sinnhaftigkeit\" dieser Systeme näher zu bringen, sollen Sie Buchungen und Berechnungen eines T-Kontos programmieren. Hierzu kriegen Sie eine Liste mit Rechnungen, von denen die Anzahl variieren kann. Um Ihnen die Arbeit zu erleichtern, wurden die Rechnungen in Soll und Haben unterteilt. Berechnen Sie den Schlusssaldo des T-Konts Material und geben Sie diesen in der Variable Saldo an. Berechnen Sie das Saldo als Soll_Wert - Haben_Wert.\n",
    "\n",
    "### Hilfe\n",
    "\n",
    "1. Die Listen Soll und Haben sind gleich aufgebaut: `Soll[x]` = `Buchungswert auf Soll` bzw. `Haben[x]` = `Buchungswert auf Haben`\n",
    "2. Gehen Sie logisch vor : Zuerst den Gesamten Soll-Wert berechnen, dann den Gesamten Haben-Wert und dann erst das Saldo berechnen.\n",
    "3. Benutzen Sie für die Berechnung der gesamt Werte eine jeweils eigene Schleife."
   ],
   "cell_type": "markdown",
   "metadata": {}
  },
  {
   "cell_type": "code",
   "execution_count": null,
   "metadata": {},
   "outputs": [],
   "source": [
    "#Führen Sie diese Zelle immer nach der Öffnung der Übung aus.\n",
    "import pandas as pd\n",
    "CSV = pd.read_csv('tests/Buchen_Tests/Buchungen.csv',sep=\";\",decimal=\",\")\n",
    "S = list(CSV['Soll'])\n",
    "H = list(CSV['Haben'])"
   ]
  },
  {
   "cell_type": "code",
   "execution_count": null,
   "metadata": {
    "tags": []
   },
   "outputs": [],
   "source": [
    "def buchen(Soll,Haben):\n",
    "    Saldo = 0\n",
    "    ###START\n",
    "    Soll_Wert = 0\n",
    "    Haben_Wert = 0\n",
    "    #Iterieren Sie hier über die Soll-Werte\n",
    "        #Summieren Sie hier die Soll-Werte auf\n",
    "    #Iterieren Sie hier über die Haben-Werte\n",
    "        #Summieren Sie hier die Haben-Werte auf\n",
    "    #Denken Sie zum Schluss noch an die Saldo Berechnung\n",
    "    ###ENDE\n",
    "    return(Saldo)\n",
    "buchen(S,H)"
   ]
  },
  {
   "cell_type": "markdown",
   "metadata": {},
   "source": [
    "# Automatisierte Tests"
   ]
  },
  {
   "cell_type": "code",
   "execution_count": null,
   "metadata": {
    "tags": []
   },
   "outputs": [],
   "source": [
    "import sys\n",
    "sys.path.append(\"../..\")\n",
    "from nose.tools import assert_equal, assert_not_equal\n",
    "from utils import * \n",
    "\n",
    "try:\n",
    "    CSV = pd.read_csv('tests/Buchen_Tests/Buchen_Test_1.csv',sep=\";\",decimal=\",\")\n",
    "    S = list(CSV['Soll'])\n",
    "    H = list(CSV['Haben'])\n",
    "    Erg = buchen(S,H)\n",
    "    expected_out = 70812\n",
    "    assert_equal(Erg, expected_out)\n",
    "    print(\"[OK] Saldo in Ordnung!\")\n",
    "except AssertionError as e:\n",
    "    print(\"[FEHLER] Saldo sollte,\", expected_out, \"sein.\")\n",
    "    print(\"       \",e)\n",
    "except Exception as e:\n",
    "    print(\"[FEHLER]\", friendly_exceptions.msg(e))\n",
    "\n",
    "try:\n",
    "    CSV = pd.read_csv('tests/Buchen_Tests/Buchen_Test_2.csv',sep=\";\",decimal=\",\")#Autos.csv\n",
    "    S = list(CSV['Soll'])\n",
    "    H = list(CSV['Haben'])\n",
    "    Erg = buchen(S,H)\n",
    "    expected_out = 122087563\n",
    "    assert_equal(Erg, expected_out)\n",
    "    print(\"[OK] Saldo in Ordnung!\")\n",
    "except AssertionError as e:\n",
    "    print(\"[FEHLER] Saldo sollte,\", expected_out, \"sein.\")\n",
    "    print(\"       \",e)\n",
    "except Exception as e:\n",
    "    print(\"[FEHLER]\", friendly_exceptions.msg(e))\n",
    "\n",
    "try:\n",
    "    CSV = pd.read_csv('tests/Buchen_Tests/Buchen_Test_3.csv',sep=\";\",decimal=\",\")#Autos.csv\n",
    "    S = list(CSV['Soll'])\n",
    "    H = list(CSV['Haben'])\n",
    "    Erg = buchen(S,H)\n",
    "    expected_out = 131830809\n",
    "    assert_equal(Erg, expected_out)\n",
    "    print(\"[OK] Saldo in Ordnung!\")\n",
    "except AssertionError as e:\n",
    "    print(\"[FEHLER] Saldo sollte,\", expected_out, \"sein.\")\n",
    "    print(\"       \",e)\n",
    "except Exception as e:\n",
    "    print(\"[FEHLER]\", friendly_exceptions.msg(e))\n",
    "\n",
    "try:\n",
    "    CSV = pd.read_csv('tests/Buchen_Tests/Buchen_Test_4.csv',sep=\";\",decimal=\",\")#Autos.csv\n",
    "    S = list(CSV['Soll'])\n",
    "    H = list(CSV['Haben'])\n",
    "    Erg = buchen(S,H)\n",
    "    expected_out = -705176\n",
    "    assert_equal(Erg, expected_out)\n",
    "    print(\"[OK] Saldo in Ordnung!\")\n",
    "except AssertionError as e:\n",
    "    print(\"[FEHLER] Saldo sollte,\", expected_out, \"sein.\")\n",
    "    print(\"       \",e)\n",
    "except Exception as e:\n",
    "    print(\"[FEHLER]\", friendly_exceptions.msg(e))"
   ]
  }
 ]
}