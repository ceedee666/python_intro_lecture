{
 "cells": [
  {
   "cell_type": "markdown",
   "metadata": {},
   "source": [
    "<nav>\n",
    "    <a href=\"for_loop_exercises.ipynb\">&#9664; Übungsaufgaben zu Schleifen</a> |\n",
    "    <a href=\"group_1_level_2_25.ipynb\">Wenig Unterstützung &#9684;</a> |\n",
    "    <a href=\"group_1_level_2.ipynb\">Keine Unterstützung &#9711;</a> |\n",
    "</nav>"
   ]
  },
  {
   "source": [
    "<div class=\"alert alert-warning\"><strong>Aufgabe 2 - Lagerbestandsberechnung</strong>\n",
    "\n",
    "Gegeben sind die Absatzprognosen `verkaufs_plan` sowie Produktionsmengen eines Produktes `produktions_plan` für die nächsten 12 Monate in gleichnamigen Listen.\n",
    "Die Berechnung der Lagerbestände ist wie folgt definiert:\n",
    "\n",
    "$$L_t = P_t - A_t + P_{t-1}$$\n",
    "\n",
    "In dieser Formel steht $P_t$ für die Produktionsmenge, $A_t$ für die geplante Absatzmenge und $L_t$ den Lagerbestand in einem Monat $t$, wobei $P_0 = 0$.\n",
    "Erstellen Sie eine neue Liste, in der Sie die Lagerbestände für die jeweiligen Monate speichern.  \n",
    "Beachten Sie die Lagerbestände aus dem jeweils vorhergehenden Monat in den nächsten Monat zu übernehmen.\n",
    "</div>\n",
    "\n",
    "\n",
    "<div class=\"alert alert-block alert-info\"><strong>Hilfe</strong>\n",
    "    \n",
    "Sie können Ihre Lösung mit den automatisierten [Tests](#Automatische-Test) weiter unten im Dokument überprüfen.<br>\n",
    "Eine Einführung in die `for`-Schleife in Python finden Sie [hier](../for_loop.ipynb).\n",
    "</div>"
   ],
   "cell_type": "markdown",
   "metadata": {
    "nbgrader": {
     "grade": false,
     "grade_id": "cell-3b8cdecf8a1eef88",
     "locked": true,
     "schema_version": 1,
     "solution": false
    }
   }
  },
  {
   "cell_type": "code",
   "execution_count": null,
   "metadata": {
    "nbgrader": {
     "grade": false,
     "grade_id": "cell-073db0e144d454aa",
     "locked": false,
     "schema_version": 1,
     "solution": true
    }
   },
   "outputs": [],
   "source": [
    "def berechne_lagerbestand(verkaufs_plan, produktions_plan):\n",
    "    \n",
    "    lagerbestand = []\n",
    "    vorheriger_bestand = 0\n",
    "    for monat in range(len(verkaufs_plan)):\n",
    "        ###START\n",
    "        # TODO: Berechnung des Lagerbestands für den aktuellen Monat\n",
    "        ###ENDE\n",
    "        vorheriger_bestand = lagerbestand[monat]\n",
    "        \n",
    "    return lagerbestand\n",
    "\n",
    "print(\"Bei \\\"verkaufs_plan = [20, 30, 40]\\\" und \\\"produktions_plan = [50, 60, 65]\\\" liefert Ihre Funktion:\", berechne_lagerbestand([20, 30, 40], [50, 60, 65]))"
   ]
  },
  {
   "cell_type": "markdown",
   "metadata": {
    "nbgrader": {
     "grade": false,
     "grade_id": "cell-4c873c12ede654fe",
     "locked": true,
     "schema_version": 1,
     "solution": false
    }
   },
   "source": [
    "   ***\n",
    "# Automatische Tests\n",
    "Ab hier finden Sie einige automatisierte Tests um Ihre Lösungen zu überprüfen. Um Ihre Lösung zu prüfen führen Sie bitte zuerst die Zelle mit Ihrer Lösung und danach die Zelle mit dem zugehörigen Test aus.\n"
   ]
  },
  {
   "cell_type": "code",
   "execution_count": null,
   "metadata": {},
   "outputs": [],
   "source": [
    "import sys\n",
    "sys.path.append(\"../..\")\n",
    "from nose.tools import assert_equal, assert_not_equal\n",
    "from utils import * \n",
    "\n",
    "try:\n",
    "    sales_plan = [0, 0, 0, 0, 0, 0, 0, 0, 0, 0, 0, 0]\n",
    "    production_plan = [0, 0, 0, 0, 0, 0, 0, 0, 0, 0, 0, 0]\n",
    "    Erg = berechne_lagerbestand(sales_plan, production_plan)\n",
    "    assert_equal(isinstance(Erg, list),True)\n",
    "    print(\"[OK] Die Ausgabe ist eine Liste!\")\n",
    "except AssertionError as e:\n",
    "    print(\"[FEHLER] Die Ausgabe ist keine Liste!\")\n",
    "    print(\"       \",e)\n",
    "except Exception as e:\n",
    "    print(\"[FEHLER]\", friendly_exceptions.msg(e))\n",
    "\n",
    "try:\n",
    "    sales_plan = [0, 0, 0, 0, 0, 0, 0, 0, 0, 0, 0, 0]\n",
    "    production_plan = [0, 0, 0, 0, 0, 0, 0, 0, 0, 0, 0, 0]\n",
    "    Erg = berechne_lagerbestand(sales_plan, production_plan)\n",
    "    assert_equal(len(Erg), 12)\n",
    "    print(\"[OK] Die Ausgabe ist eine Liste mit 12 Einträgen!\")\n",
    "except AssertionError as e:\n",
    "    print(\"[FEHLER] Die Ausgabe ist keine Liste mit 12 Einträgen!\")\n",
    "    print(\"       \",e)\n",
    "except Exception as e:\n",
    "    print(\"[FEHLER]\", friendly_exceptions.msg(e))\n",
    "\n",
    "try:\n",
    "    sales_plan = [570, 500, 520, 500, 600, 550, 530, 520, 530, 590, 600, 590]\n",
    "    production_plan = [600, 520, 520, 520, 650, 650, 500, 530, 500, 600, 620, 610]\n",
    "    expected_stock_forecast = [30, 50, 50, 70, 120, 220, 190, 200, 170, 180, 200, 220]\n",
    "    Erg = berechne_lagerbestand(sales_plan, production_plan)\n",
    "    assert_equal(Erg, expected_stock_forecast)\n",
    "    print(\"[OK] Die Liste ist korrekt berechnet!\")\n",
    "except AssertionError as e:\n",
    "    print(\"[FEHLER] Die Liste ist\", Erg ,\". Richtig wäre :\", expected_stock_forecast ,)\n",
    "    print(\"       \",e)\n",
    "except Exception as e:\n",
    "    print(\"[FEHLER]\", friendly_exceptions.msg(e))"
   ]
  }
 ],
 "metadata": {
  "celltoolbar": "Create Assignment",
  "kernelspec": {
   "display_name": "Python 3",
   "language": "python",
   "name": "python3"
  },
  "language_info": {
   "codemirror_mode": {
    "name": "ipython",
    "version": 3
   },
   "file_extension": ".py",
   "mimetype": "text/x-python",
   "name": "python",
   "nbconvert_exporter": "python",
   "pygments_lexer": "ipython3",
   "version": "3.7.1"
  },
  "pycharm": {
   "stem_cell": {
    "cell_type": "raw",
    "metadata": {
     "collapsed": false
    },
    "source": []
   }
  }
 },
 "nbformat": 4,
 "nbformat_minor": 2
}